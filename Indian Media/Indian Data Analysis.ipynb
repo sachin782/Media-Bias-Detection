{
 "cells": [
  {
   "cell_type": "markdown",
   "metadata": {},
   "source": [
    "## <b> Main Program. <b>"
   ]
  },
  {
   "cell_type": "code",
   "execution_count": 1,
   "metadata": {},
   "outputs": [],
   "source": [
    "import numpy as np\n",
    "import pandas as pd\n",
    "from nltk.corpus import stopwords \n",
    "from nltk.tokenize import word_tokenize \n",
    "import re "
   ]
  },
  {
   "cell_type": "markdown",
   "metadata": {},
   "source": [
    "Reading data for Times of India."
   ]
  },
  {
   "cell_type": "code",
   "execution_count": 2,
   "metadata": {},
   "outputs": [
    {
     "data": {
      "text/html": [
       "<div>\n",
       "<style scoped>\n",
       "    .dataframe tbody tr th:only-of-type {\n",
       "        vertical-align: middle;\n",
       "    }\n",
       "\n",
       "    .dataframe tbody tr th {\n",
       "        vertical-align: top;\n",
       "    }\n",
       "\n",
       "    .dataframe thead th {\n",
       "        text-align: right;\n",
       "    }\n",
       "</style>\n",
       "<table border=\"1\" class=\"dataframe\">\n",
       "  <thead>\n",
       "    <tr style=\"text-align: right;\">\n",
       "      <th></th>\n",
       "      <th>publish_date</th>\n",
       "      <th>headline_category</th>\n",
       "      <th>headline_text</th>\n",
       "    </tr>\n",
       "  </thead>\n",
       "  <tbody>\n",
       "    <tr>\n",
       "      <th>0</th>\n",
       "      <td>20200101</td>\n",
       "      <td>city.ludhiana</td>\n",
       "      <td>Punjab: Congress government to allow anti-CAA ...</td>\n",
       "    </tr>\n",
       "    <tr>\n",
       "      <th>1</th>\n",
       "      <td>20120624</td>\n",
       "      <td>india</td>\n",
       "      <td>NCPCR seeks explanation from Haryana govt</td>\n",
       "    </tr>\n",
       "    <tr>\n",
       "      <th>2</th>\n",
       "      <td>20170417</td>\n",
       "      <td>city.indore</td>\n",
       "      <td>HC on alleged Simhastha irregularities: Take i...</td>\n",
       "    </tr>\n",
       "    <tr>\n",
       "      <th>3</th>\n",
       "      <td>20181014</td>\n",
       "      <td>city.bhopal</td>\n",
       "      <td>Rahul to visit Datia; Gwalior from Monday</td>\n",
       "    </tr>\n",
       "    <tr>\n",
       "      <th>4</th>\n",
       "      <td>20170920</td>\n",
       "      <td>sports.football</td>\n",
       "      <td>Premier Futsal: Bengaluru Royals rout Mumbai W...</td>\n",
       "    </tr>\n",
       "  </tbody>\n",
       "</table>\n",
       "</div>"
      ],
      "text/plain": [
       "   publish_date headline_category  \\\n",
       "0      20200101     city.ludhiana   \n",
       "1      20120624             india   \n",
       "2      20170417       city.indore   \n",
       "3      20181014       city.bhopal   \n",
       "4      20170920   sports.football   \n",
       "\n",
       "                                       headline_text  \n",
       "0  Punjab: Congress government to allow anti-CAA ...  \n",
       "1          NCPCR seeks explanation from Haryana govt  \n",
       "2  HC on alleged Simhastha irregularities: Take i...  \n",
       "3          Rahul to visit Datia; Gwalior from Monday  \n",
       "4  Premier Futsal: Bengaluru Royals rout Mumbai W...  "
      ]
     },
     "execution_count": 2,
     "metadata": {},
     "output_type": "execute_result"
    }
   ],
   "source": [
    "df1 = pd.read_csv('Publications/TOI.csv')\n",
    "df1.head(5)"
   ]
  },
  {
   "cell_type": "markdown",
   "metadata": {},
   "source": [
    "Reading data for Quint."
   ]
  },
  {
   "cell_type": "code",
   "execution_count": 3,
   "metadata": {},
   "outputs": [
    {
     "data": {
      "text/html": [
       "<div>\n",
       "<style scoped>\n",
       "    .dataframe tbody tr th:only-of-type {\n",
       "        vertical-align: middle;\n",
       "    }\n",
       "\n",
       "    .dataframe tbody tr th {\n",
       "        vertical-align: top;\n",
       "    }\n",
       "\n",
       "    .dataframe thead th {\n",
       "        text-align: right;\n",
       "    }\n",
       "</style>\n",
       "<table border=\"1\" class=\"dataframe\">\n",
       "  <thead>\n",
       "    <tr style=\"text-align: right;\">\n",
       "      <th></th>\n",
       "      <th>author</th>\n",
       "      <th>content</th>\n",
       "      <th>date</th>\n",
       "      <th>tag</th>\n",
       "      <th>title</th>\n",
       "      <th>url</th>\n",
       "      <th>website</th>\n",
       "    </tr>\n",
       "  </thead>\n",
       "  <tbody>\n",
       "    <tr>\n",
       "      <th>0</th>\n",
       "      <td>The Quint</td>\n",
       "      <td>Tulsi Gabbard, the first Hindu lawmaker from H...</td>\n",
       "      <td>2018-11-13</td>\n",
       "      <td>Tulsi Gabbard</td>\n",
       "      <td>Tulsi Gabbard: Hindu War Veteran US Lawmaker M...</td>\n",
       "      <td>https://www.thequint.com/news/world/tulsi-gabb...</td>\n",
       "      <td>quint</td>\n",
       "    </tr>\n",
       "    <tr>\n",
       "      <th>1</th>\n",
       "      <td>Pushpesh Pant</td>\n",
       "      <td>Swami Vivekananda ranks among the highest in t...</td>\n",
       "      <td>2018-07-03</td>\n",
       "      <td>Swami Vivekananda,Hinduism,Tolerance,Politics ...</td>\n",
       "      <td>Swami Vivekananda’s 156th Birth Anniversary 20...</td>\n",
       "      <td>https://www.thequint.com/voices/opinion/swami-...</td>\n",
       "      <td>quint</td>\n",
       "    </tr>\n",
       "    <tr>\n",
       "      <th>2</th>\n",
       "      <td>Meeran Chadha Borwankar</td>\n",
       "      <td>In the news for the wrong reasons, the Central...</td>\n",
       "      <td>2018-07-18</td>\n",
       "      <td>Modi Government,Central Bureau of Investigatio...</td>\n",
       "      <td>Rift Between CBI Chief &amp; Special Director: Thi...</td>\n",
       "      <td>https://www.thequint.com/voices/opinion/cbi-co...</td>\n",
       "      <td>quint</td>\n",
       "    </tr>\n",
       "    <tr>\n",
       "      <th>3</th>\n",
       "      <td>Mayukh Ghosh</td>\n",
       "      <td>Reminiscing about the past is a dreadful tool ...</td>\n",
       "      <td>2018-05-14</td>\n",
       "      <td>Satyajit Ray,Shyam Benegal,Smita Patil,Politic...</td>\n",
       "      <td>The Late Filmmaker Mrinal Sen’s ‘Cinema of Res...</td>\n",
       "      <td>https://www.thequint.com/entertainment/indian-...</td>\n",
       "      <td>quint</td>\n",
       "    </tr>\n",
       "    <tr>\n",
       "      <th>4</th>\n",
       "      <td>Akanksha Kumar</td>\n",
       "      <td>: Akanksha Kumar : Sandeep Suman Twenty-three ...</td>\n",
       "      <td>2018-04-30</td>\n",
       "      <td>Tihar Jail,Supreme Court of India,Life Impriso...</td>\n",
       "      <td>Tandoor Murder: Former Delhi Police Joint Comm...</td>\n",
       "      <td>https://www.thequint.com/videos/news-videos/ho...</td>\n",
       "      <td>quint</td>\n",
       "    </tr>\n",
       "  </tbody>\n",
       "</table>\n",
       "</div>"
      ],
      "text/plain": [
       "                    author                                            content  \\\n",
       "0                The Quint  Tulsi Gabbard, the first Hindu lawmaker from H...   \n",
       "1            Pushpesh Pant  Swami Vivekananda ranks among the highest in t...   \n",
       "2  Meeran Chadha Borwankar  In the news for the wrong reasons, the Central...   \n",
       "3             Mayukh Ghosh  Reminiscing about the past is a dreadful tool ...   \n",
       "4           Akanksha Kumar  : Akanksha Kumar : Sandeep Suman Twenty-three ...   \n",
       "\n",
       "         date                                                tag  \\\n",
       "0  2018-11-13                                      Tulsi Gabbard   \n",
       "1  2018-07-03  Swami Vivekananda,Hinduism,Tolerance,Politics ...   \n",
       "2  2018-07-18  Modi Government,Central Bureau of Investigatio...   \n",
       "3  2018-05-14  Satyajit Ray,Shyam Benegal,Smita Patil,Politic...   \n",
       "4  2018-04-30  Tihar Jail,Supreme Court of India,Life Impriso...   \n",
       "\n",
       "                                               title  \\\n",
       "0  Tulsi Gabbard: Hindu War Veteran US Lawmaker M...   \n",
       "1  Swami Vivekananda’s 156th Birth Anniversary 20...   \n",
       "2  Rift Between CBI Chief & Special Director: Thi...   \n",
       "3  The Late Filmmaker Mrinal Sen’s ‘Cinema of Res...   \n",
       "4  Tandoor Murder: Former Delhi Police Joint Comm...   \n",
       "\n",
       "                                                 url website  \n",
       "0  https://www.thequint.com/news/world/tulsi-gabb...   quint  \n",
       "1  https://www.thequint.com/voices/opinion/swami-...   quint  \n",
       "2  https://www.thequint.com/voices/opinion/cbi-co...   quint  \n",
       "3  https://www.thequint.com/entertainment/indian-...   quint  \n",
       "4  https://www.thequint.com/videos/news-videos/ho...   quint  "
      ]
     },
     "execution_count": 3,
     "metadata": {},
     "output_type": "execute_result"
    }
   ],
   "source": [
    "df2 = pd.read_csv('Publications/QT.csv')\n",
    "df2.head(5)"
   ]
  },
  {
   "cell_type": "markdown",
   "metadata": {},
   "source": [
    "Reading data for First Post."
   ]
  },
  {
   "cell_type": "code",
   "execution_count": 4,
   "metadata": {},
   "outputs": [
    {
     "data": {
      "text/html": [
       "<div>\n",
       "<style scoped>\n",
       "    .dataframe tbody tr th:only-of-type {\n",
       "        vertical-align: middle;\n",
       "    }\n",
       "\n",
       "    .dataframe tbody tr th {\n",
       "        vertical-align: top;\n",
       "    }\n",
       "\n",
       "    .dataframe thead th {\n",
       "        text-align: right;\n",
       "    }\n",
       "</style>\n",
       "<table border=\"1\" class=\"dataframe\">\n",
       "  <thead>\n",
       "    <tr style=\"text-align: right;\">\n",
       "      <th></th>\n",
       "      <th>author</th>\n",
       "      <th>content</th>\n",
       "      <th>date</th>\n",
       "      <th>tag</th>\n",
       "      <th>title</th>\n",
       "      <th>url</th>\n",
       "      <th>website</th>\n",
       "    </tr>\n",
       "  </thead>\n",
       "  <tbody>\n",
       "    <tr>\n",
       "      <th>0</th>\n",
       "      <td>Asian News International</td>\n",
       "      <td>Wanaparthy (Telangana): Union Home Minister Ra...</td>\n",
       "      <td>2018-11-29</td>\n",
       "      <td>14th Finance Commission,Andhra Pradesh,Assembl...</td>\n",
       "      <td>Telangana Assembly polls: Rajnath Singh accuse...</td>\n",
       "      <td>https://www.firstpost.com/politics/telangana-a...</td>\n",
       "      <td>firstpost</td>\n",
       "    </tr>\n",
       "    <tr>\n",
       "      <th>1</th>\n",
       "      <td>Press Trust of India</td>\n",
       "      <td>Chief Minister Arvind Kejriwal on Wednesday or...</td>\n",
       "      <td>2018-11-29</td>\n",
       "      <td>AAP,Arvind Kejriwal,BJP,Delhi,Imran Hussain,Mo...</td>\n",
       "      <td>Arvind Kejriwal orders suspension of Delhi foo...</td>\n",
       "      <td>https://www.firstpost.com/politics/arvind-kejr...</td>\n",
       "      <td>firstpost</td>\n",
       "    </tr>\n",
       "    <tr>\n",
       "      <th>2</th>\n",
       "      <td>Press Trust of India</td>\n",
       "      <td>Slamming the revision of GDP data under the U...</td>\n",
       "      <td>2018-11-29</td>\n",
       "      <td>Anand Sharma,Arun Jaitley,BJP,Congress,GDP,Nar...</td>\n",
       "      <td>P Chidambaram calls revision of GDP data 'bad ...</td>\n",
       "      <td>https://www.firstpost.com/politics/p-chidambar...</td>\n",
       "      <td>firstpost</td>\n",
       "    </tr>\n",
       "    <tr>\n",
       "      <th>3</th>\n",
       "      <td>Press Trust of India</td>\n",
       "      <td>The HD Kumarawamy-led JD(S)-Congress ministry...</td>\n",
       "      <td>2018-11-29</td>\n",
       "      <td>Congress,Dinesh Gundu Rao,G Parameshwara,HD Ku...</td>\n",
       "      <td>Karnataka cabinet will be expanded before 10 D...</td>\n",
       "      <td>https://www.firstpost.com/politics/karnataka-c...</td>\n",
       "      <td>firstpost</td>\n",
       "    </tr>\n",
       "    <tr>\n",
       "      <th>4</th>\n",
       "      <td>Press Trust of India</td>\n",
       "      <td>: All India Majlis-e-Ittehadul Muslimeen (AIMI...</td>\n",
       "      <td>2018-11-29</td>\n",
       "      <td>AIMIM,All India Majlis-E-Ittehadul Muslimeen,A...</td>\n",
       "      <td>After Maharashtra Assembly passes quota bill, ...</td>\n",
       "      <td>https://www.firstpost.com/politics/after-mahar...</td>\n",
       "      <td>firstpost</td>\n",
       "    </tr>\n",
       "  </tbody>\n",
       "</table>\n",
       "</div>"
      ],
      "text/plain": [
       "                     author  \\\n",
       "0  Asian News International   \n",
       "1      Press Trust of India   \n",
       "2      Press Trust of India   \n",
       "3      Press Trust of India   \n",
       "4      Press Trust of India   \n",
       "\n",
       "                                             content        date  \\\n",
       "0  Wanaparthy (Telangana): Union Home Minister Ra...  2018-11-29   \n",
       "1  Chief Minister Arvind Kejriwal on Wednesday or...  2018-11-29   \n",
       "2   Slamming the revision of GDP data under the U...  2018-11-29   \n",
       "3   The HD Kumarawamy-led JD(S)-Congress ministry...  2018-11-29   \n",
       "4  : All India Majlis-e-Ittehadul Muslimeen (AIMI...  2018-11-29   \n",
       "\n",
       "                                                 tag  \\\n",
       "0  14th Finance Commission,Andhra Pradesh,Assembl...   \n",
       "1  AAP,Arvind Kejriwal,BJP,Delhi,Imran Hussain,Mo...   \n",
       "2  Anand Sharma,Arun Jaitley,BJP,Congress,GDP,Nar...   \n",
       "3  Congress,Dinesh Gundu Rao,G Parameshwara,HD Ku...   \n",
       "4  AIMIM,All India Majlis-E-Ittehadul Muslimeen,A...   \n",
       "\n",
       "                                               title  \\\n",
       "0  Telangana Assembly polls: Rajnath Singh accuse...   \n",
       "1  Arvind Kejriwal orders suspension of Delhi foo...   \n",
       "2  P Chidambaram calls revision of GDP data 'bad ...   \n",
       "3  Karnataka cabinet will be expanded before 10 D...   \n",
       "4  After Maharashtra Assembly passes quota bill, ...   \n",
       "\n",
       "                                                 url    website  \n",
       "0  https://www.firstpost.com/politics/telangana-a...  firstpost  \n",
       "1  https://www.firstpost.com/politics/arvind-kejr...  firstpost  \n",
       "2  https://www.firstpost.com/politics/p-chidambar...  firstpost  \n",
       "3  https://www.firstpost.com/politics/karnataka-c...  firstpost  \n",
       "4  https://www.firstpost.com/politics/after-mahar...  firstpost  "
      ]
     },
     "execution_count": 4,
     "metadata": {},
     "output_type": "execute_result"
    }
   ],
   "source": [
    "df3 = pd.read_csv('Publications/FP.csv')\n",
    "df3.head(5)"
   ]
  },
  {
   "cell_type": "markdown",
   "metadata": {},
   "source": [
    "Columns in datasets."
   ]
  },
  {
   "cell_type": "code",
   "execution_count": 5,
   "metadata": {},
   "outputs": [
    {
     "data": {
      "text/plain": [
       "Index(['publish_date', 'headline_category', 'headline_text'], dtype='object')"
      ]
     },
     "execution_count": 5,
     "metadata": {},
     "output_type": "execute_result"
    }
   ],
   "source": [
    "df1.columns"
   ]
  },
  {
   "cell_type": "code",
   "execution_count": 6,
   "metadata": {},
   "outputs": [
    {
     "data": {
      "text/plain": [
       "Index(['author', 'content', 'date', 'tag', 'title', 'url', 'website'], dtype='object')"
      ]
     },
     "execution_count": 6,
     "metadata": {},
     "output_type": "execute_result"
    }
   ],
   "source": [
    "df2.columns"
   ]
  },
  {
   "cell_type": "code",
   "execution_count": 7,
   "metadata": {},
   "outputs": [
    {
     "data": {
      "text/plain": [
       "Index(['author', 'content', 'date', 'tag', 'title', 'url', 'website'], dtype='object')"
      ]
     },
     "execution_count": 7,
     "metadata": {},
     "output_type": "execute_result"
    }
   ],
   "source": [
    "df3.columns"
   ]
  },
  {
   "cell_type": "markdown",
   "metadata": {},
   "source": [
    "# Data Preprocessing."
   ]
  },
  {
   "cell_type": "markdown",
   "metadata": {},
   "source": [
    "Remove punctuations and special characters."
   ]
  },
  {
   "cell_type": "code",
   "execution_count": 8,
   "metadata": {},
   "outputs": [],
   "source": [
    "def rm_puncs(sen):\n",
    "    punc = '''!()-[]{};:'\"\\, <>./?@#$%^&*_~'''\n",
    "    for ele in sen:  \n",
    "        if ele in punc:  \n",
    "            sen = sen.replace(ele, \" \") \n",
    "    return sen"
   ]
  },
  {
   "cell_type": "markdown",
   "metadata": {},
   "source": [
    "Removing non english characters."
   ]
  },
  {
   "cell_type": "code",
   "execution_count": 9,
   "metadata": {},
   "outputs": [],
   "source": [
    "def rm_noneng(sen): \n",
    "    test_list = word_tokenize(sen)\n",
    "    res = [idx for idx in test_list if not re.findall(\"[^\\u0000-\\u05C0\\u2100-\\u214F]+\", idx)]   \n",
    "    return res"
   ]
  },
  {
   "cell_type": "markdown",
   "metadata": {},
   "source": [
    "Removing stopwords."
   ]
  },
  {
   "cell_type": "code",
   "execution_count": 10,
   "metadata": {},
   "outputs": [],
   "source": [
    "def rm_stopwords(sen):\n",
    "    stop_words = set(stopwords.words('english'))  \n",
    "    filtered = [w for w in sen if not w in stop_words] \n",
    "    filtered = []  \n",
    "    for w in sen: \n",
    "        if w not in stop_words: \n",
    "            filtered.append(w) \n",
    "    return filtered"
   ]
  },
  {
   "cell_type": "markdown",
   "metadata": {},
   "source": [
    "Showing data preprocessing for two datasets in New York Times."
   ]
  },
  {
   "cell_type": "code",
   "execution_count": 11,
   "metadata": {
    "scrolled": true
   },
   "outputs": [
    {
     "name": "stdout",
     "output_type": "stream",
     "text": [
      "['Punjab', 'Congress', 'government', 'allow', 'anti', 'CAA', 'protest', 'today'] \n",
      "\n",
      "\n",
      "['NCPCR', 'seeks', 'explanation', 'Haryana', 'govt'] \n",
      "\n",
      "\n"
     ]
    }
   ],
   "source": [
    "heading = df1['headline_text']\n",
    "n = df1.count() - 1\n",
    "for i in range(0,2):\n",
    "    s1 = rm_noneng(heading[i])\n",
    "    s2 = rm_stopwords(s1)\n",
    "    s3 = word_tokenize(rm_puncs(str(s2)))\n",
    "    print(s3,\"\\n\\n\") "
   ]
  },
  {
   "cell_type": "markdown",
   "metadata": {},
   "source": [
    "Showing data preprocessing for two datasets in Atlantic."
   ]
  },
  {
   "cell_type": "code",
   "execution_count": 12,
   "metadata": {},
   "outputs": [
    {
     "name": "stdout",
     "output_type": "stream",
     "text": [
      "['Tulsi', 'Gabbard', 'Hindu', 'War', 'Veteran', 'US', 'Lawmaker', 'May', 'Run', 'Presidency'] \n",
      "\n",
      "\n",
      "['Tulsi', 'Gabbard', 'first', 'Hindu', 'lawmaker', 'Hawaii', 'US', 'Congress', 'considering', 'run', 'American', 'presidency', '2020', 'according', 'sources', 'close', 'On', 'Friday', '9', 'November', 'Medtronic', 'conference', 'Los', 'Angeles', 'eminent', 'Indian', 'American', 'Dr', 'Sampat', 'Shivangi', 'introduced', 'Gabbard', '37', 'said', 'could', 'next', 'president', 'US', '2020', 'The', 'brief', 'statement', 'marked', 'standing', 'ovation', 'presence', 'four', 'term', 'Congresswoman', '50th', 'US', 'State', 'Gabbard', 'Democrat', 'confirm', 'would', 'running', 'president', '2020', 'deny', 'either', 'Tulsi', 'Gabbard', 'American', 'politician', 'Democratic', 'Party', 'serving', 'US', 'Representative', 'Hawaii', 's', '2nd', 'congressional', 'district', 'since', '2013', 'Gabbard', 'represents', 'constituency', 'Hawaii', 'Indian', 'descent', 'neither', 'parents', 'Hindu', 'practises', 'Hinduism', 'Gabbard', 'born', '1981', 'Leloaloa', 'American', 'Samoa', 'fourth', 'five', 'children', 'born', 'Carol', 'Mike', 'Gabbard', 'State', 'Senator', 'In', '2002', 'Gabbard', 'became', 'youngest', 'person', 'ever', 'elected', 'Hawaii', 'State', 'Legislative', '2012', 'elected', 'US', 'House', 'She', 'went', 'win', 'general', 'election', 'nearly', '80', 'points', 'She', 'one', 'first', 'female', 'combat', 'veterans', 'serve', 'Congress', 'deployed', 'Hawaii', 'National', 'Guard', 'Iraq', '2005', 'Kuwait', '2009', 'According', 'report', 'Gabbard', 'became', 'one', 'popular', 'political', 'figures', 'broke', 'Democratic', 'Party', 'establishment', 'endorsed', 'Senator', 'Bernie', 'Sanders', 'instead', 'Hillary', 'Clinton', '2016', 'even', 'resigning', 'vice', 'chair', 'Democratic', 'National', 'Committee', 'order', 'able', 'In', '2004', 'Gabbard', 'volunteered', 'join', '29', 'Brigade', 'US', 'soldiers', 'called', 'war', 'Iraq', 'According', 'Gabbard', 'website', 'She', 'Gabbard', 'felt', 'important', 'stand', 'solidarity', 'fellow', 'soldiers', 'climb', 'political', 'ladder', 'However', 'Gabbard', 'critics', 'questioned', 'views', 'foreign', 'policy', 'tolerance', 'dictators', 'like', 'Syrian', 'leader', 'Bashar', 'al', 'Assad', 'Gabbard', 'came', 'attack', 'met', 'Assad', '2017', 'Speaking', 'CNN', 'Jake', 'Trapper', 'said', 'planned', 'meeting', 'opportunity', 'arose', 'felt', 'important', 'Democratic', 'leaders', 'maintained', 'silence', 'one', 'leaders', 'meeting', 'head', 'state', 'dubbed', 'war', 'criminal', 'US', 'Then', 'April', '2017', 'Gabbard', 'stand', 'chemical', 'attack', 'Syria', 'raised', 'eyebrows', 'According', 'article', '2015', 'Gabbard', 'among', 'Democrats', 'voted', 'restrictions', 'refugees', 'entering', 'US', 'Syria', 'Iraq', 'She', 'also', 'expressed', 'skepticism', 'widely', 'held', 'assertion', 'Assad', 'government', 'behind', 'chemical', 'attacks', 'Syria', 'After', '2002', 'Gujarat', 'riots', 'US', 'government', 'denied', 'visa', 'Narendra', 'Modi', 'chief', 'minister', 'Gujarat', 'time', 'Gabbard', 'one', 'criticise', 'US', 'government', 'decision', 'According', 'article', 'five', 'months', 'Narendra', 'Modi', 'elected', 'prime', 'minister', 'India', 'Gabbard', 'opposed', 'resolution', 'called', 'religious', 'freedom', 'related', 'human', 'rights', 'included', 'United', 'States', 'India', 'Strategic', 'Dialogue', 'issues', 'raised', 'directly', 'federal', 'state', 'Indian', 'government', 'officials', 'saying', 'would', 'weaken', 'India', 'US', 'relations', 'In', 'August', '2014', 'Gabbard', 'made', 'point', 'meet', 'Modi', 'New', 'York', 'Madison', 'Square', 'Garden', 'speech', 'presented', 'copy', 'swore', 'elected', 'Before', 'August', '2014', 'speaking', 'fundraising', 'event', 'BJP', 'Georgia', 'US', 'Gabbard', 'hailed', 'Modi', '2014', 'landslide', 'victory', 'said', 'People', 'India', 'stood', 'one', 'one', 'one', 'one', 'said', 'demand', 'change', 'occurs', 'What', 'first', 'time', 'woman', 'voter', 'want', 'The', 'Quint', 's', 'campaign', 'telling'] \n",
      "\n",
      "\n",
      "['Swami', 'Vivekananda', '156th', 'Birth', 'Anniversary', '2019', 'Cigar', 'Smoking', 'Monk', 'Vivekananda', 'Still', 'Relevant', 'In', 'India', 'And', 'World'] \n",
      "\n",
      "\n",
      "['Swami', 'Vivekananda', 'ranks', 'among', 'highest', 'pantheon', 'distinguished', 'children', 'Mother', 'India', 'His', 'charismatic', 'personality', 'electrified', 'audiences', 'organisational', 'skills', 'unmatched', 'His', 'influence', 'freedom', 'fighters', 'Yogi', 'Aurobindo', 'Netaji', 'Subhas', 'C', 'Bose', 'incomparable', 'It', 'fellow', 'Indians', 'came', 'Vivekananda', 'spell', 'He', 'arguably', 'first', 'successful', 'brand', 'ambassador', 'resurgent', 'India', 'USA', 'spreading', 'teaching', 'far', 'wide', 'Vivekananda', 'strove', 'combat', 'superstition', 'get', 'rid', 'deadwood', 'ritual', 'stifling', 'followed', 'Hindu', 'way', 'life', 'left', 'behind', 'large', 'body', 'written', 'work', 'reinterpreting', 'Vedanta', 'modern', 'times', 'Vivekananda', 'ways', 'unorthodox', 'The', 'cigar', 'smoking', 'monk', 'problem', 'ate', 'meat', 'He', 'freely', 'borrowed', 'whatever', 'felt', 'best', 'practice', 'religions', 'His', 'favourite', 'word', 'strength', 'exhorted', 'fellow', 'Indians', 'strong', 'body', 'spirit', 'He', 'compassionate', 'liberal', 'outlook', 'For', 'religion', 'greater', 'serving', 'wretched', 'poor', 'ailing', 'oppressed', 'The', 'ochre', 'robes', 'Hindu', 'monk', 'become', 'red', 'rag', 'scholars', 'bore', 'heavy', 'Vivekananda', 'became', 'symbol', 'termed', 'strident', 'aggressive', 'They', 'failed', 'see', 'Vivekananda', 'continued', 'mesmerise', 'young', 'old', 'across', 'length', 'breadth', 'India', 'long', 'death', 'Calendar', 'art', 'bears', 'testimony', 'undisputed', 'Trimurti', 'Swami', 'Vivekananda', 'Shaheed', 'Bhagat', 'Singh', 'Netaji', 'Subhash', 'Bose', 'continue', 'adorn', 'walls', 'many', 'homes', 'even', 'today', 'Those', 'agitated', 'today', 'appropriation', 'Vivekananda', 'Sangh', 'Parivar', 'desperate', 'reclaim', 'must', 'ask', 'question', 'remained', 'blind', 'multifaceted', 'contributions', 'exceptional', 'Indian', 'Today', 'Congress', 'parties', 'opposition', 'desperately', 'trying', 'get', 'foothold', 'hearts', 'minds', 'voters', 'proudly', 'proclaim', 'adherence', 'Sanatana', 'Dharma', 'Simultaneously', 'strategists', 'working', 'overtime', 'best', 'market', 'Soft', 'Hinduism', 'counter', 'machinations', 'Hindutva', 'Brigade', 'In', 'short', 'term', 'opportunism', 'may', 'bring', 'dividends', 'bound', 'eventually', 'boomerang', 'The', 'believed', 'service', 'self', 'stand', 'hypocrisy', 'He', 'examined', 'past', 'ruthless', 'detachment', 'tested', 'everything', 'razor', 'sharp', 'intelligence', 'He', 'indeed', 'pioneering', 'moderniser', 'At', 'time', 'one', 'surgically', 'separate', 'social', 'reformer', 'spiritual', 'seeker', 'Like', 'Adi', 'Shankaracharya', 'whose', 'life', 'outlook', 'Vivekananda', 'seemed', 'mirrored', 'many', 'ways', 'disciple', 'mystic', 'Ramkrishna', 'something', 'offer', 'person', 'Swami', 'Vivekananda', 'preached', 'selfless', 'action', 'also', 'emphasized', 'ethos', 'devotion', 'intellectual', 'quest', 'This', 'apart', 'Vivekananda', 'impish', 'sense', 'humour', 'would', 'surely', 'amused', 'bickering', 'among', 'blind', 'followers', 'detractors', 'It', 'would', 'foolish', 'suggest', 'believe', 'owned', 'monopolised', 'partisan', 'sectarian', 'group', 'Indians', 'foreigners', 'alike', 'continue', 'enriched', 'teachings', 'Vivekananda', 'remain', 'living', 'presence', 'political', 'skirmishes', 'Therefore', 'apprehensions', 'misappropriation', 'Vivekananda', 'totally', 'misplaced', 'One', 'even', 'believer', 'far', 'less', 'Hindu', 'admire', 'Vivekananda', 'acknowledge', 'seminal', 'contribution', 'making', 'modern', 'India', 'What', 'first', 'time', 'woman', 'voter', 'want', 'The', 'Quint', 's', 'campaign', 'telling'] \n",
      "\n",
      "\n"
     ]
    }
   ],
   "source": [
    "content = df2['content']\n",
    "heading = df2['title']\n",
    "n = df1.count() - 1\n",
    "for i in range(0,2):\n",
    "    s1 = rm_noneng(heading[i])\n",
    "    s2 = rm_stopwords(s1)\n",
    "    s3 = word_tokenize(rm_puncs(str(s2)))\n",
    "    print(s3,\"\\n\\n\")\n",
    "    s1 = rm_noneng(content[i])\n",
    "    s2 = rm_stopwords(s1)\n",
    "    s3 = word_tokenize(rm_puncs(str(s2))) \n",
    "    print(s3,\"\\n\\n\")"
   ]
  },
  {
   "cell_type": "markdown",
   "metadata": {},
   "source": [
    "Showing data preprocessing for two datasets in The Guardian."
   ]
  },
  {
   "cell_type": "code",
   "execution_count": 13,
   "metadata": {},
   "outputs": [
    {
     "name": "stdout",
     "output_type": "stream",
     "text": [
      "['Telangana', 'Assembly', 'polls', 'Rajnath', 'Singh', 'accuses', 'TRS', 'chief', 'K', 'Chandrashekar', 'Rao', 'stoking', 'fear', 'minorities'] \n",
      "\n",
      "\n",
      "['Wanaparthy', 'Telangana', 'Union', 'Home', 'Minister', 'Rajnath', 'Singh', 'Thursday', 'said', 'Caretaker', 'chief', 'minister', 'K', 'Chandrashekar', 'Rao', 'Telangana', 'Rashtra', 'Samithi', 'TRS', 'brewing', 'fear', 'among', 'minority', 'communities', 'Bharatiya', 'Janata', 'Party', 'BJP', '``', 'Do', 'n', 't', 'create', 'fear', 'among', 'minorities', 'taking', 'BJP', 's', 'name', 'We', 'n', 't', 'politics', 'based', 'caste', 'creed', 'religion', 'BJP', 'committed', 'empowerment', 'Rajnath', 'said', 'addressing', 'public', 'rally', 'ahead', 'Assembly', 'elections', 'poll', 'bound', 'Telangana', 'Taking', 'TRS', 'government', 'Rajnath', 'said', '``', 'They', 'failed', 'development', 'front', 'hence', 'trying', 'divert', 'attention', 'issue', 'minority', 'reservation', 'How', 'reservation', 'given', 'minorities', 'without', 'curtailing', 'others', 'quota', 'He', 'also', 'said', 'Prime', 'Minister', 'Narendra', 'Modi', 'led', 'NDA', 'government', 'came', 'power', 'centre', 'Rs', '1', '15', '000', 'crores', 'given', 'Telangana', '14th', 'Finance', 'Commission', 'TRS', 'government', 'failed', 'develop', 'state', 'He', 'underlined', 'Congress', 'government', 'gave', 'Rs', '16', '597', 'crore', 'Telangana', '13th', 'Finance', 'Commission', '``', 'The', 'three', 'states', 'formed', 'Atal', 'Bihari', 'Vajpayee', 'government', 'Uttrakhand', 'Chhattisgarh', 'Jharkhand', 'developed', 'states', 'formed', 'Congress', 'Andhra', 'Pradesh', 'Telangana', 'lagging', 'behind', 'development', 'said', 'He', 'also', 'slammed', 'alliance', 'Congress', 'Telugu', 'Desam', 'Party', 'TDP', 'terming', '``', 'unholy', 'alliance', '``', 'The', 'alliance', 'unholy', 'sole', 'purpose', 'stop', 'BJP', 'Prime', 'Minister', 'Narendra', 'Modi', 'The', 'alliance', 'development', 'good', 'governance', 'said', 'Legislative', 'Assembly', 'elections', 'Telangana', 'scheduled', '7', 'December', '2018'] \n",
      "\n",
      "\n",
      "['Arvind', 'Kejriwal', 'orders', 'suspension', 'Delhi', 'food', 'commissioner', 'BJP', 'calls', 'stunt', 'cover', 'govt', 'failures'] \n",
      "\n",
      "\n",
      "['Chief', 'Minister', 'Arvind', 'Kejriwal', 'Wednesday', 'ordered', 'suspension', 'Delhi', 's', 'food', 'supplies', 'commissioner', 'alleged', 'irregularities', 'ration', 'system', 'detected', 'inspection', 'Food', 'Minister', 'Imran', 'Hussain', 'Opposition', 'called', '``', 'stunt', 'cover', 'failures', 'The', 'order', 'sent', 'Lieutenant', 'Governor', 'Anil', 'Baijal', 'suspend', 'Food', 'Commissioner', 'Mohanjeet', 'Singh', 'came', 'Hussain', 'submitted', 'report', 'stating', 'ration', 'shop', 'west', 'Delhi', 's', 'Nangloi', 'found', '``', 'missing', 'despite', 'receipt', 'delivery', '``', 'This', 'serious', 'Food', 'poorest', 'people', 'stolen', 'Responsibility', 'ought', 'fixed', 'highest', 'levels', 'I', 'directed', 'suspension', 'food', 'commissioner', 'Kejriwal', 'tweeted', 'Speaking', 'media', 'inspection', 'done', 'Tuesday', 'evening', 'Hussain', 'said', '``', 'found', 'ration', 'distributed', '4', '000', 'people', '1', 'December', 'onwards', 'missing', 'In', '152', 'quintals', 'wheat', '38', 'quintals', 'rice', 'delivered', 'godown', 'force', 'opened', 'ration', 'shop', 'empty', 'Hinting', 'role', 'ration', 'mafia', 'incident', 'Hussain', 'said', 'people', 'living', 'near', 'ration', 'shop', 'also', 'see', 'truck', 'delivering', 'ration', 'shop', '``', 'means', 'ration', 'taken', 'elsewhere', '``', 'This', 'huge', 'scam', 'Even', 'incessant', 'orders', 'food', 'commissioner', 'inspect', 'shops', 'action', 'taken', 'It', 'minister', 's', 'responsibility', 'inspect', 'commissioner', 'Hussain', 'said', 'The', 'MLA', 'Ballimaran', 'constituency', 'said', 'stop', 'incidents', 'department', 'asking', 'lieutenant', 'governor', 'officials', 'start', 'doorstep', 'delivery', 'ration', '``', 'official', 'accepts', 'proposal', '``', 'We', 'cleared', 'proposal', 'start', 'doorstep', 'delivery', 'ration', 'twice', 'cabinet', 'action', 'taken', 'I', 'personally', 'written', 'chief', 'secretary', 'lieutenant', 'governor', 'several', 'times', 'n', 't', 'pay', 'attention', '``', 'Now', 'chief', 'minister', 'ordered', 'suspension', 'food', 'commissioner', 'lieutenant', 'governor', 'n', 't', 'take', 'action', 'even', 'clear', 'also', 'involved', 'entire', 'incident', 'Hussain', 'asserted', 'On', 'hand', 'calling', 'suspension', 'food', 'commissioner', '``', 'stunt', 'Delhi', 's', 'Leader', 'Opposition', 'Bharatiya', 'Janata', 'Party', 'BJP', 'MLA', 'Vijender', 'Gupta', 'alleged', 'step', 'taken', 'Kejriwal', 'cover', 'failures', '``', 'The', 'Delhi', 'government', 'disastrously', 'failed', 'provide', 'ration', 'fair', 'price', 'poor', 'needy', 'four', 'years', 'misrule', 'It', 'trying', 'cover', 'failure', 'It', 'failed', 'bring', 'viable', 'system', 'distribution', 'ration', 'The', 'thing', 'done', 'bring', 'alluring', 'schemes', 'could', 'never', 'implemented', 'It', 'stooped', 'diversionary', 'tactics', 'suspension', 'top', 'official', 'Gupta', 'told', 'media', 'New', 'Delhi', 'He', 'also', 'said', 'government', '``', 'dumping', 'responsibility', 'mismanagement', 'The', 'Leader', 'Opposition', 'said', '``', 'It', 'surprising', 'two', 'day', 'session', 'Delhi', 'Assembly', 'government', 'mention', 'anything', 'lapses', 'ration', 'system', 'It', 'kept', 'indulging', 'politics', 'Now', 'suddenly', 'woken', 'taken', 'action', 'blame', 'top', 'official', 'It', 'trying', 'mislead', 'misguide', 'public', 'When', 'reached', 'Mohanjeet', 'Singh', 'ask', 'given', 'chance', 'present', 'side', 'said', '``', 'There', 'suspension', '``', 'If', 'electronic', 'point', 'sale', 'EPOS', 'installed', 'would', 'ensured', 'ration', 'diverted', 'shops', '``', 'For', 'last', 'six', 'months', 'recommending', 'restoration', 'EPOS', 'food', 'supply', 'minister', 'avail', 'When', 'installed', 'earlier', 'EPOS', 'able', 'stop', 'pilferage', 'worth', 'crores', 'Why', 'system', 'suspended', 'reasons', 'best', 'known', 'minister', 'Singh', 'said'] \n",
      "\n",
      "\n"
     ]
    }
   ],
   "source": [
    "content = df3['content']\n",
    "heading = df3['title']\n",
    "n = df1.count() - 1\n",
    "for i in range(0,2):\n",
    "    s1 = rm_noneng(heading[i])\n",
    "    s2 = rm_stopwords(s1)\n",
    "    s3 = word_tokenize(rm_puncs(str(s2)))\n",
    "    print(s3,\"\\n\\n\")\n",
    "    s1 = rm_noneng(content[i])\n",
    "    s2 = rm_stopwords(s1)\n",
    "    s3 = word_tokenize(rm_puncs(str(s2))) \n",
    "    print(s3,\"\\n\\n\")"
   ]
  },
  {
   "cell_type": "markdown",
   "metadata": {},
   "source": [
    "# K Means Clustering."
   ]
  },
  {
   "cell_type": "code",
   "execution_count": 14,
   "metadata": {},
   "outputs": [],
   "source": [
    "from sklearn.feature_extraction.text import TfidfVectorizer\n",
    "from sklearn.cluster import KMeans\n",
    "import matplotlib.pyplot as plt\n",
    "import pickle\n",
    "import os.path\n",
    "from os import path"
   ]
  },
  {
   "cell_type": "markdown",
   "metadata": {},
   "source": [
    "K Means Clustering."
   ]
  },
  {
   "cell_type": "code",
   "execution_count": 15,
   "metadata": {},
   "outputs": [],
   "source": [
    "def kclust_elb(heading,filename):\n",
    "    vectorizer = TfidfVectorizer(stop_words='english',analyzer = 'word')\n",
    "    X = vectorizer.fit_transform(heading1)\n",
    "    cost =[]\n",
    "    for i in range(1,22):\n",
    "        model = KMeans(n_clusters=i,max_iter=500)\n",
    "        model.fit(X)\n",
    "        cost.append(model.inertia_)\n",
    "    plt.plot(range(1, 22), cost, color ='g', linewidth ='3') \n",
    "    plt.xlabel(\"Value of K\") \n",
    "    plt.ylabel(\"Sqaured Error (Cost)\") \n",
    "    plt.savefig(filename,facecolor = 'yellow')\n",
    "    plt.show()"
   ]
  },
  {
   "cell_type": "markdown",
   "metadata": {},
   "source": [
    "### For Times of India."
   ]
  },
  {
   "cell_type": "code",
   "execution_count": 16,
   "metadata": {},
   "outputs": [],
   "source": [
    "heading1 = np.array(df1['headline_text'])\n",
    "if(path.exists('Models/KMeans/M1')):\n",
    "    model1 = pickle.load(open(\"Models/KMeans/M1\", \"rb\"))\n",
    "else:\n",
    "    kclust_elb(heading1,'Plots/KMeans/M1.png')"
   ]
  },
  {
   "cell_type": "code",
   "execution_count": 17,
   "metadata": {},
   "outputs": [],
   "source": [
    "heading1 = np.array(df1['headline_text'])\n",
    "if(path.exists('Models/KMeans/M1')):\n",
    "    model1 = pickle.load(open(\"Models/KMeans/M1\", \"rb\"))\n",
    "else:\n",
    "    vectorizer = TfidfVectorizer(stop_words='english',analyzer = 'word')\n",
    "    X1 = vectorizer.fit_transform(heading1)\n",
    "    model1 = KMeans(n_clusters = 16,verbose = 0,algorithm ='auto')\n",
    "    model1.fit(X1)\n",
    "    pickle.dump(model1, open(\"Models/KMeans/M1\", 'wb'))"
   ]
  },
  {
   "attachments": {
    "M1.png": {
     "image/png": "[encoded data removed]"
    }
   },
   "cell_type": "markdown",
   "metadata": {},
   "source": [
    "![M1.png](attachment:M1.png)"
   ]
  },
  {
   "cell_type": "code",
   "execution_count": 18,
   "metadata": {},
   "outputs": [],
   "source": [
    "l1 = model1.labels_\n",
    "df1[\"Label\"] = l1\n",
    "df1.to_csv(\"Publications/Edit/KMeans/TOI.csv\", index=False)"
   ]
  },
  {
   "cell_type": "markdown",
   "metadata": {},
   "source": [
    "0 - Left - Congress and Allies. <br>\n",
    "1 - Right - Policing. <br>\n",
    "2 - Right - Govt vs Terrorism. <br>\n",
    "3 - Right - Government Criticism. <br>\n",
    "4 - Right - Govt Policies. <br>\n",
    "5 - Right - Common Problems. <br>\n",
    "6 - Right - Internal Matters. <br>\n",
    "7 - Left - Opposition crackdown. <br>\n",
    "8 - Right - Law. <br>\n",
    "9 - Right - Govt Programs. <br>\n",
    "10 - Right - Finance Policies. <br>\n",
    "11 - Right - Foreign Policies. <br>\n",
    "12 - Right - Education Policy. <br>\n",
    "13 - Right - Attacks on people. <br>\n",
    "14 - Right - Indian Army and Business.<br>\n",
    "15 - Outliers.<br>"
   ]
  },
  {
   "cell_type": "code",
   "execution_count": 19,
   "metadata": {},
   "outputs": [],
   "source": [
    "k = []\n",
    "for label in df1['Label']:\n",
    "    if label == 0 or label == 7:\n",
    "        k.append(0)\n",
    "    elif label == 15:\n",
    "        k.append(-1)\n",
    "    else:\n",
    "        k.append(1)\n",
    "df1['Party'] = k\n",
    "df1.to_csv(\"Publications/Edit/KMeans/TOI.csv\",index=False)"
   ]
  },
  {
   "cell_type": "markdown",
   "metadata": {},
   "source": [
    "### For Quint."
   ]
  },
  {
   "cell_type": "code",
   "execution_count": 20,
   "metadata": {},
   "outputs": [],
   "source": [
    "heading2 = np.array(df2['title'].values.astype('U'))\n",
    "if(path.exists('Models/KMeans/M2')):\n",
    "    model2 = pickle.load(open(\"Models/KMeans/M2\", \"rb\"))\n",
    "else:\n",
    "    kclust_elb(heading1,'Plots/KMeans/M2.png')"
   ]
  },
  {
   "cell_type": "code",
   "execution_count": 21,
   "metadata": {},
   "outputs": [],
   "source": [
    "heading2 = np.array(df2['title'].values.astype('U'))\n",
    "if(path.exists('Models/KMeans/M2')):\n",
    "    model2 = pickle.load(open(\"Models/KMeans/M2\", \"rb\"))\n",
    "else:\n",
    "    vectorizer = TfidfVectorizer(stop_words='english',analyzer = 'word')\n",
    "    X2 = vectorizer.fit_transform(heading2)\n",
    "    model2 = KMeans(n_clusters = 9,verbose = 0,algorithm ='auto')\n",
    "    model2.fit(X2)\n",
    "    pickle.dump(model2, open(\"Models/KMeans/M2\", 'wb'))"
   ]
  },
  {
   "attachments": {
    "M2.png": {
     "image/png": "[encoded data removed]"
    }
   },
   "cell_type": "markdown",
   "metadata": {},
   "source": [
    "![M2.png](attachment:M2.png)"
   ]
  },
  {
   "cell_type": "code",
   "execution_count": 22,
   "metadata": {},
   "outputs": [],
   "source": [
    "l2 = model2.labels_\n",
    "df2[\"Label\"] = l2\n",
    "df2.to_csv(\"Publications/Edit/KMeans/QT.csv\",index=False)"
   ]
  },
  {
   "cell_type": "markdown",
   "metadata": {},
   "source": [
    "0 - Right - Hinduism vs other religions. <br>\n",
    "1 - Right - BJP. <br>\n",
    "2 - Right - Modi. <br>\n",
    "3 - Left - Gandhi family. <br>\n",
    "4 -  Left - DMK and Mamta Banerjee. <br>\n",
    "5 -  Right - RSS. <br>\n",
    "6 - Left - Congress and Allies. <br>\n",
    "7 - Right - BJP and elections. <br>\n",
    "8 - Right - Govt Policies. <br>"
   ]
  },
  {
   "cell_type": "code",
   "execution_count": 23,
   "metadata": {},
   "outputs": [],
   "source": [
    "k = []\n",
    "for label in df2['Label']:\n",
    "    if label == 3 or label == 4 or label == 6:\n",
    "        k.append(0)\n",
    "    else:\n",
    "        k.append(1)\n",
    "df2['Party'] = k\n",
    "df2.to_csv(\"Publications/Edit/KMeans/QT.csv\",index=False)"
   ]
  },
  {
   "cell_type": "markdown",
   "metadata": {},
   "source": [
    "### For The First Post."
   ]
  },
  {
   "cell_type": "code",
   "execution_count": 24,
   "metadata": {},
   "outputs": [],
   "source": [
    "heading3 = np.array(df3['title'].values.astype('U'))\n",
    "if(path.exists('Models/KMeans/M3')):\n",
    "    model3 = pickle.load(open(\"Models/KMeans/M3\", \"rb\"))\n",
    "else:\n",
    "    kclust_elb(heading1,'Plots/KMeans/M3.png')   "
   ]
  },
  {
   "cell_type": "code",
   "execution_count": 25,
   "metadata": {},
   "outputs": [],
   "source": [
    "heading3 = np.array(df3['title'].values.astype('U'))\n",
    "if(path.exists('Models/KMeans/M3')):\n",
    "    model3 = pickle.load(open(\"Models/KMeans/M3\", \"rb\"))\n",
    "else:\n",
    "    X3 = vectorizer.fit_transform(heading3)\n",
    "    model3 = KMeans(n_clusters = 15,verbose = 0,algorithm = 'auto')\n",
    "    model3.fit(X3)\n",
    "    pickle.dump(model3, open(\"Models/KMeans/M3\", 'wb'))"
   ]
  },
  {
   "attachments": {
    "M3.png": {
     "image/png": "[encoded data removed]"
    }
   },
   "cell_type": "markdown",
   "metadata": {},
   "source": [
    "![M3.png](attachment:M3.png)"
   ]
  },
  {
   "cell_type": "code",
   "execution_count": 26,
   "metadata": {},
   "outputs": [],
   "source": [
    "l3 = model3.labels_\n",
    "df3[\"Label\"] = l3\n",
    "df3.to_csv(\"Publications/Edit/KMeans/FP.csv\", index=False)"
   ]
  },
  {
   "cell_type": "markdown",
   "metadata": {},
   "source": [
    "0 - Left - AAP. <br>\n",
    "1 - Right - J&K. <br>\n",
    "2 - Left - Shiv Sena and NCP . <br>\n",
    "3 - Left - TDP. <br>\n",
    "4 - Right - AIADMK. <br>\n",
    "5 - Left - TRS. <br>\n",
    "6 - Right - Modi. <br>\n",
    "7 - Right - Anti BJP claims. <br>\n",
    "8 - Right - BJP in MP. <br>\n",
    "9 - Left - JDS. <br>\n",
    "10 - Right - NDA in Bihar. <br>\n",
    "11 - Left - Anti BJP. <br>\n",
    "12 - Right - Amit Shah. <br>\n",
    "13 - Left - Rahul Gandhi. <br>\n",
    "14 - Right - Elections and BJP. <br>"
   ]
  },
  {
   "cell_type": "code",
   "execution_count": 27,
   "metadata": {},
   "outputs": [],
   "source": [
    "k = []\n",
    "for label in df3['Label']:\n",
    "    if label == 0 or label == 2 or label == 3 or label == 5 or label == 9 or label == 11 or label == 13:\n",
    "        k.append(0)\n",
    "    else:\n",
    "        k.append(1)\n",
    "df3['Party'] = k\n",
    "df3.to_csv(\"Publications/Edit/KMeans/FP.csv\",index=False)"
   ]
  },
  {
   "cell_type": "markdown",
   "metadata": {},
   "source": [
    "# Sample dataset creation"
   ]
  },
  {
   "cell_type": "code",
   "execution_count": 28,
   "metadata": {},
   "outputs": [
    {
     "data": {
      "text/html": [
       "<div>\n",
       "<style scoped>\n",
       "    .dataframe tbody tr th:only-of-type {\n",
       "        vertical-align: middle;\n",
       "    }\n",
       "\n",
       "    .dataframe tbody tr th {\n",
       "        vertical-align: top;\n",
       "    }\n",
       "\n",
       "    .dataframe thead th {\n",
       "        text-align: right;\n",
       "    }\n",
       "</style>\n",
       "<table border=\"1\" class=\"dataframe\">\n",
       "  <thead>\n",
       "    <tr style=\"text-align: right;\">\n",
       "      <th></th>\n",
       "      <th>publish_date</th>\n",
       "      <th>headline_category</th>\n",
       "      <th>headline_text</th>\n",
       "    </tr>\n",
       "  </thead>\n",
       "  <tbody>\n",
       "    <tr>\n",
       "      <th>1</th>\n",
       "      <td>20120624</td>\n",
       "      <td>india</td>\n",
       "      <td>NCPCR seeks explanation from Haryana govt</td>\n",
       "    </tr>\n",
       "    <tr>\n",
       "      <th>2</th>\n",
       "      <td>20170417</td>\n",
       "      <td>city.indore</td>\n",
       "      <td>HC on alleged Simhastha irregularities: Take i...</td>\n",
       "    </tr>\n",
       "    <tr>\n",
       "      <th>3</th>\n",
       "      <td>20181014</td>\n",
       "      <td>city.bhopal</td>\n",
       "      <td>Rahul to visit Datia; Gwalior from Monday</td>\n",
       "    </tr>\n",
       "    <tr>\n",
       "      <th>4</th>\n",
       "      <td>20170920</td>\n",
       "      <td>sports.football</td>\n",
       "      <td>Premier Futsal: Bengaluru Royals rout Mumbai W...</td>\n",
       "    </tr>\n",
       "    <tr>\n",
       "      <th>5</th>\n",
       "      <td>20090824</td>\n",
       "      <td>city.mysuru</td>\n",
       "      <td>Assembly session will focus on people's proble...</td>\n",
       "    </tr>\n",
       "  </tbody>\n",
       "</table>\n",
       "</div>"
      ],
      "text/plain": [
       "   publish_date headline_category  \\\n",
       "1      20120624             india   \n",
       "2      20170417       city.indore   \n",
       "3      20181014       city.bhopal   \n",
       "4      20170920   sports.football   \n",
       "5      20090824       city.mysuru   \n",
       "\n",
       "                                       headline_text  \n",
       "1          NCPCR seeks explanation from Haryana govt  \n",
       "2  HC on alleged Simhastha irregularities: Take i...  \n",
       "3          Rahul to visit Datia; Gwalior from Monday  \n",
       "4  Premier Futsal: Bengaluru Royals rout Mumbai W...  \n",
       "5  Assembly session will focus on people's proble...  "
      ]
     },
     "execution_count": 28,
     "metadata": {},
     "output_type": "execute_result"
    }
   ],
   "source": [
    "df = pd.read_csv('Publications/TOI.csv')\n",
    "df1 = df[1:1000]\n",
    "df1.head()"
   ]
  },
  {
   "cell_type": "code",
   "execution_count": 29,
   "metadata": {},
   "outputs": [
    {
     "data": {
      "text/html": [
       "<div>\n",
       "<style scoped>\n",
       "    .dataframe tbody tr th:only-of-type {\n",
       "        vertical-align: middle;\n",
       "    }\n",
       "\n",
       "    .dataframe tbody tr th {\n",
       "        vertical-align: top;\n",
       "    }\n",
       "\n",
       "    .dataframe thead th {\n",
       "        text-align: right;\n",
       "    }\n",
       "</style>\n",
       "<table border=\"1\" class=\"dataframe\">\n",
       "  <thead>\n",
       "    <tr style=\"text-align: right;\">\n",
       "      <th></th>\n",
       "      <th>author</th>\n",
       "      <th>content</th>\n",
       "      <th>date</th>\n",
       "      <th>tag</th>\n",
       "      <th>title</th>\n",
       "      <th>url</th>\n",
       "      <th>website</th>\n",
       "    </tr>\n",
       "  </thead>\n",
       "  <tbody>\n",
       "    <tr>\n",
       "      <th>1</th>\n",
       "      <td>Pushpesh Pant</td>\n",
       "      <td>Swami Vivekananda ranks among the highest in t...</td>\n",
       "      <td>2018-07-03</td>\n",
       "      <td>Swami Vivekananda,Hinduism,Tolerance,Politics ...</td>\n",
       "      <td>Swami Vivekananda’s 156th Birth Anniversary 20...</td>\n",
       "      <td>https://www.thequint.com/voices/opinion/swami-...</td>\n",
       "      <td>quint</td>\n",
       "    </tr>\n",
       "    <tr>\n",
       "      <th>2</th>\n",
       "      <td>Meeran Chadha Borwankar</td>\n",
       "      <td>In the news for the wrong reasons, the Central...</td>\n",
       "      <td>2018-07-18</td>\n",
       "      <td>Modi Government,Central Bureau of Investigatio...</td>\n",
       "      <td>Rift Between CBI Chief &amp; Special Director: Thi...</td>\n",
       "      <td>https://www.thequint.com/voices/opinion/cbi-co...</td>\n",
       "      <td>quint</td>\n",
       "    </tr>\n",
       "    <tr>\n",
       "      <th>3</th>\n",
       "      <td>Mayukh Ghosh</td>\n",
       "      <td>Reminiscing about the past is a dreadful tool ...</td>\n",
       "      <td>2018-05-14</td>\n",
       "      <td>Satyajit Ray,Shyam Benegal,Smita Patil,Politic...</td>\n",
       "      <td>The Late Filmmaker Mrinal Sen’s ‘Cinema of Res...</td>\n",
       "      <td>https://www.thequint.com/entertainment/indian-...</td>\n",
       "      <td>quint</td>\n",
       "    </tr>\n",
       "    <tr>\n",
       "      <th>4</th>\n",
       "      <td>Akanksha Kumar</td>\n",
       "      <td>: Akanksha Kumar : Sandeep Suman Twenty-three ...</td>\n",
       "      <td>2018-04-30</td>\n",
       "      <td>Tihar Jail,Supreme Court of India,Life Impriso...</td>\n",
       "      <td>Tandoor Murder: Former Delhi Police Joint Comm...</td>\n",
       "      <td>https://www.thequint.com/videos/news-videos/ho...</td>\n",
       "      <td>quint</td>\n",
       "    </tr>\n",
       "    <tr>\n",
       "      <th>5</th>\n",
       "      <td>Poonam Agarwal</td>\n",
       "      <td>As many as 92 witnesses in the Sohrabuddin fak...</td>\n",
       "      <td>2018-01-29</td>\n",
       "      <td>Sohrabuddin Sheikh Encounter,Kausarbi,fake enc...</td>\n",
       "      <td>Sohrabuddin Encounter: Details of 30 Witnesses...</td>\n",
       "      <td>https://www.thequint.com/news/india/sohrabuddi...</td>\n",
       "      <td>quint</td>\n",
       "    </tr>\n",
       "  </tbody>\n",
       "</table>\n",
       "</div>"
      ],
      "text/plain": [
       "                    author                                            content  \\\n",
       "1            Pushpesh Pant  Swami Vivekananda ranks among the highest in t...   \n",
       "2  Meeran Chadha Borwankar  In the news for the wrong reasons, the Central...   \n",
       "3             Mayukh Ghosh  Reminiscing about the past is a dreadful tool ...   \n",
       "4           Akanksha Kumar  : Akanksha Kumar : Sandeep Suman Twenty-three ...   \n",
       "5           Poonam Agarwal  As many as 92 witnesses in the Sohrabuddin fak...   \n",
       "\n",
       "         date                                                tag  \\\n",
       "1  2018-07-03  Swami Vivekananda,Hinduism,Tolerance,Politics ...   \n",
       "2  2018-07-18  Modi Government,Central Bureau of Investigatio...   \n",
       "3  2018-05-14  Satyajit Ray,Shyam Benegal,Smita Patil,Politic...   \n",
       "4  2018-04-30  Tihar Jail,Supreme Court of India,Life Impriso...   \n",
       "5  2018-01-29  Sohrabuddin Sheikh Encounter,Kausarbi,fake enc...   \n",
       "\n",
       "                                               title  \\\n",
       "1  Swami Vivekananda’s 156th Birth Anniversary 20...   \n",
       "2  Rift Between CBI Chief & Special Director: Thi...   \n",
       "3  The Late Filmmaker Mrinal Sen’s ‘Cinema of Res...   \n",
       "4  Tandoor Murder: Former Delhi Police Joint Comm...   \n",
       "5  Sohrabuddin Encounter: Details of 30 Witnesses...   \n",
       "\n",
       "                                                 url website  \n",
       "1  https://www.thequint.com/voices/opinion/swami-...   quint  \n",
       "2  https://www.thequint.com/voices/opinion/cbi-co...   quint  \n",
       "3  https://www.thequint.com/entertainment/indian-...   quint  \n",
       "4  https://www.thequint.com/videos/news-videos/ho...   quint  \n",
       "5  https://www.thequint.com/news/india/sohrabuddi...   quint  "
      ]
     },
     "execution_count": 29,
     "metadata": {},
     "output_type": "execute_result"
    }
   ],
   "source": [
    "df = pd.read_csv('Publications/QT.csv')\n",
    "df2 = df[1:1000]\n",
    "df2.head()"
   ]
  },
  {
   "cell_type": "code",
   "execution_count": 30,
   "metadata": {},
   "outputs": [
    {
     "data": {
      "text/html": [
       "<div>\n",
       "<style scoped>\n",
       "    .dataframe tbody tr th:only-of-type {\n",
       "        vertical-align: middle;\n",
       "    }\n",
       "\n",
       "    .dataframe tbody tr th {\n",
       "        vertical-align: top;\n",
       "    }\n",
       "\n",
       "    .dataframe thead th {\n",
       "        text-align: right;\n",
       "    }\n",
       "</style>\n",
       "<table border=\"1\" class=\"dataframe\">\n",
       "  <thead>\n",
       "    <tr style=\"text-align: right;\">\n",
       "      <th></th>\n",
       "      <th>author</th>\n",
       "      <th>content</th>\n",
       "      <th>date</th>\n",
       "      <th>tag</th>\n",
       "      <th>title</th>\n",
       "      <th>url</th>\n",
       "      <th>website</th>\n",
       "    </tr>\n",
       "  </thead>\n",
       "  <tbody>\n",
       "    <tr>\n",
       "      <th>1</th>\n",
       "      <td>Press Trust of India</td>\n",
       "      <td>Chief Minister Arvind Kejriwal on Wednesday or...</td>\n",
       "      <td>2018-11-29</td>\n",
       "      <td>AAP,Arvind Kejriwal,BJP,Delhi,Imran Hussain,Mo...</td>\n",
       "      <td>Arvind Kejriwal orders suspension of Delhi foo...</td>\n",
       "      <td>https://www.firstpost.com/politics/arvind-kejr...</td>\n",
       "      <td>firstpost</td>\n",
       "    </tr>\n",
       "    <tr>\n",
       "      <th>2</th>\n",
       "      <td>Press Trust of India</td>\n",
       "      <td>Slamming the revision of GDP data under the U...</td>\n",
       "      <td>2018-11-29</td>\n",
       "      <td>Anand Sharma,Arun Jaitley,BJP,Congress,GDP,Nar...</td>\n",
       "      <td>P Chidambaram calls revision of GDP data 'bad ...</td>\n",
       "      <td>https://www.firstpost.com/politics/p-chidambar...</td>\n",
       "      <td>firstpost</td>\n",
       "    </tr>\n",
       "    <tr>\n",
       "      <th>3</th>\n",
       "      <td>Press Trust of India</td>\n",
       "      <td>The HD Kumarawamy-led JD(S)-Congress ministry...</td>\n",
       "      <td>2018-11-29</td>\n",
       "      <td>Congress,Dinesh Gundu Rao,G Parameshwara,HD Ku...</td>\n",
       "      <td>Karnataka cabinet will be expanded before 10 D...</td>\n",
       "      <td>https://www.firstpost.com/politics/karnataka-c...</td>\n",
       "      <td>firstpost</td>\n",
       "    </tr>\n",
       "    <tr>\n",
       "      <th>4</th>\n",
       "      <td>Press Trust of India</td>\n",
       "      <td>: All India Majlis-e-Ittehadul Muslimeen (AIMI...</td>\n",
       "      <td>2018-11-29</td>\n",
       "      <td>AIMIM,All India Majlis-E-Ittehadul Muslimeen,A...</td>\n",
       "      <td>After Maharashtra Assembly passes quota bill, ...</td>\n",
       "      <td>https://www.firstpost.com/politics/after-mahar...</td>\n",
       "      <td>firstpost</td>\n",
       "    </tr>\n",
       "    <tr>\n",
       "      <th>5</th>\n",
       "      <td>Press Trust of India</td>\n",
       "      <td>: The Bharatiya Janata Party (BJP) Thursday co...</td>\n",
       "      <td>2018-11-29</td>\n",
       "      <td>Bharatiya Janata Party,BJP,Congress,Gorakhpur,...</td>\n",
       "      <td>Uttar Pradesh BJP chief takes jibe at Rahul Ga...</td>\n",
       "      <td>https://www.firstpost.com/politics/uttar-prade...</td>\n",
       "      <td>firstpost</td>\n",
       "    </tr>\n",
       "  </tbody>\n",
       "</table>\n",
       "</div>"
      ],
      "text/plain": [
       "                 author                                            content  \\\n",
       "1  Press Trust of India  Chief Minister Arvind Kejriwal on Wednesday or...   \n",
       "2  Press Trust of India   Slamming the revision of GDP data under the U...   \n",
       "3  Press Trust of India   The HD Kumarawamy-led JD(S)-Congress ministry...   \n",
       "4  Press Trust of India  : All India Majlis-e-Ittehadul Muslimeen (AIMI...   \n",
       "5  Press Trust of India  : The Bharatiya Janata Party (BJP) Thursday co...   \n",
       "\n",
       "         date                                                tag  \\\n",
       "1  2018-11-29  AAP,Arvind Kejriwal,BJP,Delhi,Imran Hussain,Mo...   \n",
       "2  2018-11-29  Anand Sharma,Arun Jaitley,BJP,Congress,GDP,Nar...   \n",
       "3  2018-11-29  Congress,Dinesh Gundu Rao,G Parameshwara,HD Ku...   \n",
       "4  2018-11-29  AIMIM,All India Majlis-E-Ittehadul Muslimeen,A...   \n",
       "5  2018-11-29  Bharatiya Janata Party,BJP,Congress,Gorakhpur,...   \n",
       "\n",
       "                                               title  \\\n",
       "1  Arvind Kejriwal orders suspension of Delhi foo...   \n",
       "2  P Chidambaram calls revision of GDP data 'bad ...   \n",
       "3  Karnataka cabinet will be expanded before 10 D...   \n",
       "4  After Maharashtra Assembly passes quota bill, ...   \n",
       "5  Uttar Pradesh BJP chief takes jibe at Rahul Ga...   \n",
       "\n",
       "                                                 url    website  \n",
       "1  https://www.firstpost.com/politics/arvind-kejr...  firstpost  \n",
       "2  https://www.firstpost.com/politics/p-chidambar...  firstpost  \n",
       "3  https://www.firstpost.com/politics/karnataka-c...  firstpost  \n",
       "4  https://www.firstpost.com/politics/after-mahar...  firstpost  \n",
       "5  https://www.firstpost.com/politics/uttar-prade...  firstpost  "
      ]
     },
     "execution_count": 30,
     "metadata": {},
     "output_type": "execute_result"
    }
   ],
   "source": [
    "df = pd.read_csv('Publications/FP.csv')\n",
    "df3 = df[1:1000]\n",
    "df3.head()"
   ]
  },
  {
   "cell_type": "markdown",
   "metadata": {},
   "source": [
    "# DBSCAN Clustering"
   ]
  },
  {
   "cell_type": "code",
   "execution_count": 31,
   "metadata": {},
   "outputs": [],
   "source": [
    "from sklearn.cluster import DBSCAN\n",
    "from sklearn.neighbors import NearestNeighbors"
   ]
  },
  {
   "cell_type": "code",
   "execution_count": 32,
   "metadata": {},
   "outputs": [],
   "source": [
    "def dbs(heading,t_eps):\n",
    "    vectorizer = TfidfVectorizer(stop_words='english')\n",
    "    X = vectorizer.fit_transform(heading)\n",
    "    model = DBSCAN(eps = t_eps,min_samples = 3, metric = 'euclidean')\n",
    "    model.fit(X)\n",
    "    return model  "
   ]
  },
  {
   "cell_type": "code",
   "execution_count": 33,
   "metadata": {},
   "outputs": [],
   "source": [
    "def opt_eps(heading,filename):\n",
    "    neigh = NearestNeighbors(n_neighbors=2)\n",
    "    vectorizer = TfidfVectorizer(stop_words='english')\n",
    "    X = vectorizer.fit_transform(heading)\n",
    "    nbrs = neigh.fit(X)\n",
    "    distances, indices = nbrs.kneighbors(X)\n",
    "    distances = np.sort(distances, axis=0)\n",
    "    distances = distances[:,1]\n",
    "    plt.plot(distances)\n",
    "    plt.xlabel(\"Distance\") \n",
    "    plt.ylabel(\"Eps value\") \n",
    "    plt.savefig(filename,facecolor = 'yellow')\n",
    "    plt.show()"
   ]
  },
  {
   "cell_type": "markdown",
   "metadata": {},
   "source": [
    "### For Times of India."
   ]
  },
  {
   "cell_type": "code",
   "execution_count": 34,
   "metadata": {},
   "outputs": [],
   "source": [
    "heading11 = np.array(df1['headline_text'].values.astype('U'))\n",
    "if(path.exists('Models/DBS/M1')):\n",
    "    model11 = pickle.load(open(\"Models/DBS/M1\", \"rb\"))\n",
    "else:\n",
    "    opt_eps(heading11,'Plots/DBS/M1.png')"
   ]
  },
  {
   "cell_type": "code",
   "execution_count": 35,
   "metadata": {},
   "outputs": [],
   "source": [
    "heading11 = np.array(df1['headline_text'].values.astype('U'))\n",
    "t_eps = 1\n",
    "if(path.exists('Models/DBS/M1')):\n",
    "    model11 = pickle.load(open(\"Models/DBS/M1\", \"rb\"))\n",
    "else:\n",
    "    X11 = vectorizer.fit_transform(heading3)\n",
    "    model11 = dbs(heading11,t_eps)\n",
    "    pickle.dump(model11, open(\"Models/DBS/M1\", 'wb'))"
   ]
  },
  {
   "attachments": {
    "M1.png": {
     "image/png": "[encoded data removed]"
    }
   },
   "cell_type": "markdown",
   "metadata": {},
   "source": [
    "![M1.png](attachment:M1.png)"
   ]
  },
  {
   "cell_type": "code",
   "execution_count": 36,
   "metadata": {},
   "outputs": [],
   "source": [
    "l1 = model11.labels_\n",
    "df1[\"Label\"] = l1\n",
    "df1.to_csv(\"Publications/Edit/DBS/TOI.csv\", index=False)"
   ]
  },
  {
   "cell_type": "markdown",
   "metadata": {},
   "source": [
    "-1 - Left. <br>\n",
    "0 - Right. <br>"
   ]
  },
  {
   "cell_type": "code",
   "execution_count": 37,
   "metadata": {},
   "outputs": [],
   "source": [
    "k = []\n",
    "for label in df1['Label']:\n",
    "    if label == 0:\n",
    "        k.append(0)\n",
    "    else:\n",
    "        k.append(1)\n",
    "df1['Party'] = k\n",
    "df1.to_csv(\"Publications/Edit/DBS/TOI.csv\",index=False)"
   ]
  },
  {
   "cell_type": "markdown",
   "metadata": {},
   "source": [
    "### For Quint."
   ]
  },
  {
   "cell_type": "code",
   "execution_count": 38,
   "metadata": {},
   "outputs": [],
   "source": [
    "heading22 = np.array(df2['title'].values.astype('U'))\n",
    "if(path.exists('Models/DBS/M2')):\n",
    "    model11 = pickle.load(open(\"Models/DBS/M2\", \"rb\"))\n",
    "else:\n",
    "    opt_eps(heading22,'Plots/DBS/M2.png')"
   ]
  },
  {
   "cell_type": "code",
   "execution_count": 39,
   "metadata": {},
   "outputs": [],
   "source": [
    "heading22 = np.array(df2['title'].values.astype('U'))\n",
    "t_eps = 1\n",
    "if(path.exists('Models/DBS/M2')):\n",
    "    model22 = pickle.load(open(\"Models/DBS/M2\", \"rb\"))\n",
    "else:\n",
    "    X22 = vectorizer.fit_transform(heading22)\n",
    "    model22 = dbs(heading22,t_eps)\n",
    "    pickle.dump(model22, open(\"Models/DBS/M2\", 'wb'))"
   ]
  },
  {
   "attachments": {
    "M2.png": {
     "image/png": "[encoded data removed]"
    }
   },
   "cell_type": "markdown",
   "metadata": {},
   "source": [
    "![M2.png](attachment:M2.png)"
   ]
  },
  {
   "cell_type": "code",
   "execution_count": 40,
   "metadata": {},
   "outputs": [],
   "source": [
    "l2 = model22.labels_\n",
    "df2[\"Label\"] = l2\n",
    "df2.to_csv(\"Publications/Edit/DBS/QT.csv\", index=False)"
   ]
  },
  {
   "cell_type": "markdown",
   "metadata": {},
   "source": [
    "-1 -Left <br>\n",
    "0 - Right. <br>\n",
    "1 - Right. <br>\n",
    "2 - Right.<br>\n",
    "3 - Right. <br>\n",
    "4 - Left. <br>\n",
    "5 - Left. <br>"
   ]
  },
  {
   "cell_type": "code",
   "execution_count": 41,
   "metadata": {},
   "outputs": [],
   "source": [
    "k = []\n",
    "for label in df2['Label']:\n",
    "    if label == -1 or label == 4 or label == 5:\n",
    "        k.append(0)\n",
    "    else:\n",
    "        k.append(1)\n",
    "df2['Party'] = k\n",
    "df2.to_csv(\"Publications/Edit/DBS/QT.csv\",index=False)"
   ]
  },
  {
   "cell_type": "markdown",
   "metadata": {},
   "source": [
    "### For First Post."
   ]
  },
  {
   "cell_type": "code",
   "execution_count": 42,
   "metadata": {},
   "outputs": [],
   "source": [
    "heading33 = np.array(df3['title'].values.astype('U'))\n",
    "if(path.exists('Models/DBS/M3')):\n",
    "    model33 = pickle.load(open(\"Models/DBS/M3\", \"rb\"))\n",
    "else:\n",
    "    opt_eps(heading33,'Plots/DBS/M3.png')"
   ]
  },
  {
   "cell_type": "code",
   "execution_count": 43,
   "metadata": {},
   "outputs": [],
   "source": [
    "heading33 = np.array(df3['title'].values.astype('U'))\n",
    "t_eps = 1\n",
    "if(path.exists('Models/DBS/M3')):\n",
    "    model33 = pickle.load(open(\"Models/DBS/M3\", \"rb\"))\n",
    "else:\n",
    "    X33 = vectorizer.fit_transform(heading33)\n",
    "    model33 = dbs(heading33,t_eps)\n",
    "    pickle.dump(model33, open(\"Models/DBS/M3\", 'wb'))"
   ]
  },
  {
   "attachments": {
    "M3.png": {
     "image/png": "[encoded data removed]"
    }
   },
   "cell_type": "markdown",
   "metadata": {},
   "source": [
    "![M3.png](attachment:M3.png)"
   ]
  },
  {
   "cell_type": "code",
   "execution_count": 44,
   "metadata": {},
   "outputs": [
    {
     "name": "stderr",
     "output_type": "stream",
     "text": [
      "<ipython-input-44-edc95204089b>:2: SettingWithCopyWarning: \n",
      "A value is trying to be set on a copy of a slice from a DataFrame.\n",
      "Try using .loc[row_indexer,col_indexer] = value instead\n",
      "\n",
      "See the caveats in the documentation: https://pandas.pydata.org/pandas-docs/stable/user_guide/indexing.html#returning-a-view-versus-a-copy\n",
      "  df3[\"Label\"] = l3\n"
     ]
    }
   ],
   "source": [
    "l3 = model33.labels_\n",
    "df3[\"Label\"] = l3\n",
    "df3.to_csv(\"Publications/Edit/DBS/FP.csv\", index=False)"
   ]
  },
  {
   "cell_type": "markdown",
   "metadata": {},
   "source": [
    "-1 - Left. <br>\n",
    "0 - Right. <br>"
   ]
  },
  {
   "cell_type": "code",
   "execution_count": 45,
   "metadata": {},
   "outputs": [
    {
     "name": "stderr",
     "output_type": "stream",
     "text": [
      "<ipython-input-45-d4bb1c2e5ae9>:7: SettingWithCopyWarning: \n",
      "A value is trying to be set on a copy of a slice from a DataFrame.\n",
      "Try using .loc[row_indexer,col_indexer] = value instead\n",
      "\n",
      "See the caveats in the documentation: https://pandas.pydata.org/pandas-docs/stable/user_guide/indexing.html#returning-a-view-versus-a-copy\n",
      "  df3['Party'] = k\n"
     ]
    }
   ],
   "source": [
    "k = []\n",
    "for label in df3['Label']:\n",
    "    if label == -1:\n",
    "        k.append(0)\n",
    "    else:\n",
    "        k.append(1)\n",
    "df3['Party'] = k\n",
    "df3.to_csv(\"Publications/Edit/DBS/FP.csv\",index=False)"
   ]
  },
  {
   "cell_type": "markdown",
   "metadata": {},
   "source": [
    "# VADER Sentiment Analysis."
   ]
  },
  {
   "cell_type": "code",
   "execution_count": 46,
   "metadata": {},
   "outputs": [],
   "source": [
    "from vaderSentiment.vaderSentiment import SentimentIntensityAnalyzer "
   ]
  },
  {
   "cell_type": "code",
   "execution_count": 47,
   "metadata": {},
   "outputs": [],
   "source": [
    "def vaders(article):\n",
    "    sid_obj = SentimentIntensityAnalyzer() \n",
    "    sentiment_dict = sid_obj.polarity_scores(article)\n",
    "    return sentiment_dict"
   ]
  },
  {
   "cell_type": "code",
   "execution_count": 48,
   "metadata": {},
   "outputs": [],
   "source": [
    "def sentiment_vader(article):\n",
    "    kmax = []\n",
    "    for sent in article:\n",
    "        sentiment = vaders(sent)\n",
    "        sentiment.pop(\"compound\")\n",
    "        kmax.append(max(sentiment, key = sentiment.get))\n",
    "    return kmax"
   ]
  },
  {
   "cell_type": "markdown",
   "metadata": {},
   "source": [
    "## Times of India."
   ]
  },
  {
   "cell_type": "markdown",
   "metadata": {},
   "source": [
    "### KMeans data."
   ]
  },
  {
   "cell_type": "code",
   "execution_count": 49,
   "metadata": {},
   "outputs": [
    {
     "data": {
      "text/html": [
       "<div>\n",
       "<style scoped>\n",
       "    .dataframe tbody tr th:only-of-type {\n",
       "        vertical-align: middle;\n",
       "    }\n",
       "\n",
       "    .dataframe tbody tr th {\n",
       "        vertical-align: top;\n",
       "    }\n",
       "\n",
       "    .dataframe thead th {\n",
       "        text-align: right;\n",
       "    }\n",
       "</style>\n",
       "<table border=\"1\" class=\"dataframe\">\n",
       "  <thead>\n",
       "    <tr style=\"text-align: right;\">\n",
       "      <th></th>\n",
       "      <th>publish_date</th>\n",
       "      <th>headline_category</th>\n",
       "      <th>headline_text</th>\n",
       "      <th>Label</th>\n",
       "      <th>Party</th>\n",
       "    </tr>\n",
       "  </thead>\n",
       "  <tbody>\n",
       "    <tr>\n",
       "      <th>0</th>\n",
       "      <td>20120624</td>\n",
       "      <td>india</td>\n",
       "      <td>NCPCR seeks explanation from Haryana govt</td>\n",
       "      <td>3</td>\n",
       "      <td>1</td>\n",
       "    </tr>\n",
       "    <tr>\n",
       "      <th>1</th>\n",
       "      <td>20170417</td>\n",
       "      <td>city.indore</td>\n",
       "      <td>HC on alleged Simhastha irregularities: Take i...</td>\n",
       "      <td>0</td>\n",
       "      <td>0</td>\n",
       "    </tr>\n",
       "    <tr>\n",
       "      <th>2</th>\n",
       "      <td>20181014</td>\n",
       "      <td>city.bhopal</td>\n",
       "      <td>Rahul to visit Datia; Gwalior from Monday</td>\n",
       "      <td>0</td>\n",
       "      <td>0</td>\n",
       "    </tr>\n",
       "    <tr>\n",
       "      <th>3</th>\n",
       "      <td>20170920</td>\n",
       "      <td>sports.football</td>\n",
       "      <td>Premier Futsal: Bengaluru Royals rout Mumbai W...</td>\n",
       "      <td>13</td>\n",
       "      <td>1</td>\n",
       "    </tr>\n",
       "    <tr>\n",
       "      <th>4</th>\n",
       "      <td>20090824</td>\n",
       "      <td>city.mysuru</td>\n",
       "      <td>Assembly session will focus on people's proble...</td>\n",
       "      <td>3</td>\n",
       "      <td>1</td>\n",
       "    </tr>\n",
       "  </tbody>\n",
       "</table>\n",
       "</div>"
      ],
      "text/plain": [
       "   publish_date headline_category  \\\n",
       "0      20120624             india   \n",
       "1      20170417       city.indore   \n",
       "2      20181014       city.bhopal   \n",
       "3      20170920   sports.football   \n",
       "4      20090824       city.mysuru   \n",
       "\n",
       "                                       headline_text  Label  Party  \n",
       "0          NCPCR seeks explanation from Haryana govt      3      1  \n",
       "1  HC on alleged Simhastha irregularities: Take i...      0      0  \n",
       "2          Rahul to visit Datia; Gwalior from Monday      0      0  \n",
       "3  Premier Futsal: Bengaluru Royals rout Mumbai W...     13      1  \n",
       "4  Assembly session will focus on people's proble...      3      1  "
      ]
     },
     "execution_count": 49,
     "metadata": {},
     "output_type": "execute_result"
    }
   ],
   "source": [
    "df1 = pd.read_csv('Publications/Edit/KMeans/TOI.csv')\n",
    "df1 = df1[1:1000]\n",
    "df1 = df1.to_csv('Publications/Edit/KMeans/TOI_new.csv',index = False)\n",
    "df1 = pd.read_csv('Publications/Edit/KMeans/TOI_new.csv')\n",
    "df1.head()"
   ]
  },
  {
   "cell_type": "code",
   "execution_count": 50,
   "metadata": {},
   "outputs": [],
   "source": [
    "kmax = sentiment_vader(df1['headline_text'])\n",
    "df1[\"sent1\"] = kmax"
   ]
  },
  {
   "cell_type": "code",
   "execution_count": 51,
   "metadata": {},
   "outputs": [],
   "source": [
    "df1.to_csv(\"Publications/Edit/KMeans/TOI_new.csv\", index=False)"
   ]
  },
  {
   "cell_type": "code",
   "execution_count": 52,
   "metadata": {},
   "outputs": [
    {
     "data": {
      "text/plain": [
       "neu    910\n",
       "neg     57\n",
       "pos     32\n",
       "Name: sent1, dtype: int64"
      ]
     },
     "execution_count": 52,
     "metadata": {},
     "output_type": "execute_result"
    }
   ],
   "source": [
    "df1['sent1'].value_counts()"
   ]
  },
  {
   "cell_type": "code",
   "execution_count": 53,
   "metadata": {},
   "outputs": [],
   "source": [
    "df1 = pd.read_csv('Publications/Edit/KMeans/TOI_new.csv')"
   ]
  },
  {
   "cell_type": "code",
   "execution_count": 54,
   "metadata": {},
   "outputs": [],
   "source": [
    "k = []\n",
    "n = len(df1)\n",
    "for i in range(0,n):\n",
    "    party = df1['Party'][i]\n",
    "    sent = df1['sent1'][i]\n",
    "    if party == 0:\n",
    "        if sent == 'neu':\n",
    "            k.append(-1) \n",
    "        elif sent == 'pos':\n",
    "            k.append(0)\n",
    "        elif sent == 'neg':\n",
    "            k.append(1)\n",
    "    elif party == 1:\n",
    "        if sent == 'neu':\n",
    "            k.append(-1) \n",
    "        elif sent == 'pos':\n",
    "            k.append(1)\n",
    "        elif sent == 'neg':\n",
    "            k.append(0)\n",
    "    elif party == -1:\n",
    "        k.append(0)\n",
    "df1['Bias1'] = k\n",
    "df1.to_csv(\"Publications/Edit/KMeans/TOI_new.csv\",index=False)"
   ]
  },
  {
   "cell_type": "markdown",
   "metadata": {},
   "source": [
    "### DBScan data."
   ]
  },
  {
   "cell_type": "code",
   "execution_count": 55,
   "metadata": {},
   "outputs": [
    {
     "data": {
      "text/html": [
       "<div>\n",
       "<style scoped>\n",
       "    .dataframe tbody tr th:only-of-type {\n",
       "        vertical-align: middle;\n",
       "    }\n",
       "\n",
       "    .dataframe tbody tr th {\n",
       "        vertical-align: top;\n",
       "    }\n",
       "\n",
       "    .dataframe thead th {\n",
       "        text-align: right;\n",
       "    }\n",
       "</style>\n",
       "<table border=\"1\" class=\"dataframe\">\n",
       "  <thead>\n",
       "    <tr style=\"text-align: right;\">\n",
       "      <th></th>\n",
       "      <th>publish_date</th>\n",
       "      <th>headline_category</th>\n",
       "      <th>headline_text</th>\n",
       "      <th>Label</th>\n",
       "      <th>Party</th>\n",
       "    </tr>\n",
       "  </thead>\n",
       "  <tbody>\n",
       "    <tr>\n",
       "      <th>0</th>\n",
       "      <td>20170417</td>\n",
       "      <td>city.indore</td>\n",
       "      <td>HC on alleged Simhastha irregularities: Take i...</td>\n",
       "      <td>0</td>\n",
       "      <td>0</td>\n",
       "    </tr>\n",
       "    <tr>\n",
       "      <th>1</th>\n",
       "      <td>20181014</td>\n",
       "      <td>city.bhopal</td>\n",
       "      <td>Rahul to visit Datia; Gwalior from Monday</td>\n",
       "      <td>0</td>\n",
       "      <td>0</td>\n",
       "    </tr>\n",
       "    <tr>\n",
       "      <th>2</th>\n",
       "      <td>20170920</td>\n",
       "      <td>sports.football</td>\n",
       "      <td>Premier Futsal: Bengaluru Royals rout Mumbai W...</td>\n",
       "      <td>0</td>\n",
       "      <td>0</td>\n",
       "    </tr>\n",
       "    <tr>\n",
       "      <th>3</th>\n",
       "      <td>20090824</td>\n",
       "      <td>city.mysuru</td>\n",
       "      <td>Assembly session will focus on people's proble...</td>\n",
       "      <td>0</td>\n",
       "      <td>0</td>\n",
       "    </tr>\n",
       "    <tr>\n",
       "      <th>4</th>\n",
       "      <td>20110801</td>\n",
       "      <td>city.ranchi</td>\n",
       "      <td>Nine die in lightning strikes</td>\n",
       "      <td>0</td>\n",
       "      <td>0</td>\n",
       "    </tr>\n",
       "  </tbody>\n",
       "</table>\n",
       "</div>"
      ],
      "text/plain": [
       "   publish_date headline_category  \\\n",
       "0      20170417       city.indore   \n",
       "1      20181014       city.bhopal   \n",
       "2      20170920   sports.football   \n",
       "3      20090824       city.mysuru   \n",
       "4      20110801       city.ranchi   \n",
       "\n",
       "                                       headline_text  Label  Party  \n",
       "0  HC on alleged Simhastha irregularities: Take i...      0      0  \n",
       "1          Rahul to visit Datia; Gwalior from Monday      0      0  \n",
       "2  Premier Futsal: Bengaluru Royals rout Mumbai W...      0      0  \n",
       "3  Assembly session will focus on people's proble...      0      0  \n",
       "4                      Nine die in lightning strikes      0      0  "
      ]
     },
     "execution_count": 55,
     "metadata": {},
     "output_type": "execute_result"
    }
   ],
   "source": [
    "df11 = pd.read_csv('Publications/Edit/DBS/TOI.csv')\n",
    "df11 = df11[1:1000]\n",
    "df11 = df11.to_csv('Publications/Edit/DBS/TOI_new.csv',index = False)\n",
    "df11 = pd.read_csv('Publications/Edit/DBS/TOI_new.csv')\n",
    "df11.head()"
   ]
  },
  {
   "cell_type": "code",
   "execution_count": 56,
   "metadata": {},
   "outputs": [],
   "source": [
    "kmax = sentiment_vader(df11['headline_text'])\n",
    "df11[\"sent1\"] = kmax"
   ]
  },
  {
   "cell_type": "code",
   "execution_count": 57,
   "metadata": {},
   "outputs": [],
   "source": [
    "df11.to_csv(\"Publications/Edit/DBS/TOI_new.csv\", index=False)"
   ]
  },
  {
   "cell_type": "code",
   "execution_count": 58,
   "metadata": {},
   "outputs": [
    {
     "data": {
      "text/plain": [
       "neu    909\n",
       "neg     57\n",
       "pos     32\n",
       "Name: sent1, dtype: int64"
      ]
     },
     "execution_count": 58,
     "metadata": {},
     "output_type": "execute_result"
    }
   ],
   "source": [
    "df11['sent1'].value_counts()"
   ]
  },
  {
   "cell_type": "code",
   "execution_count": 59,
   "metadata": {},
   "outputs": [],
   "source": [
    "df11 = pd.read_csv('Publications/Edit/DBS/TOI_new.csv')"
   ]
  },
  {
   "cell_type": "code",
   "execution_count": 60,
   "metadata": {},
   "outputs": [],
   "source": [
    "k = []\n",
    "n = len(df11)\n",
    "for i in range(0,n):\n",
    "    party = df11['Party'][i]\n",
    "    sent = df11['sent1'][i]\n",
    "    if party == 0:\n",
    "        if sent == 'neu':\n",
    "            k.append(-1) \n",
    "        elif sent == 'pos':\n",
    "            k.append(0)\n",
    "        elif sent == 'neg':\n",
    "            k.append(1)\n",
    "    elif party == 1:\n",
    "        if sent == 'neu':\n",
    "            k.append(-1) \n",
    "        elif sent == 'pos':\n",
    "            k.append(1)\n",
    "        elif sent == 'neg':\n",
    "            k.append(0)\n",
    "    elif party == -1:\n",
    "        k.append(-1)\n",
    "df11['Bias1'] = k\n",
    "df11.to_csv(\"Publications/Edit/DBS/TOI_new.csv\",index=False)"
   ]
  },
  {
   "cell_type": "markdown",
   "metadata": {},
   "source": [
    "## Quint."
   ]
  },
  {
   "cell_type": "markdown",
   "metadata": {},
   "source": [
    "### KMeans data."
   ]
  },
  {
   "cell_type": "code",
   "execution_count": 61,
   "metadata": {},
   "outputs": [
    {
     "data": {
      "text/html": [
       "<div>\n",
       "<style scoped>\n",
       "    .dataframe tbody tr th:only-of-type {\n",
       "        vertical-align: middle;\n",
       "    }\n",
       "\n",
       "    .dataframe tbody tr th {\n",
       "        vertical-align: top;\n",
       "    }\n",
       "\n",
       "    .dataframe thead th {\n",
       "        text-align: right;\n",
       "    }\n",
       "</style>\n",
       "<table border=\"1\" class=\"dataframe\">\n",
       "  <thead>\n",
       "    <tr style=\"text-align: right;\">\n",
       "      <th></th>\n",
       "      <th>author</th>\n",
       "      <th>content</th>\n",
       "      <th>date</th>\n",
       "      <th>tag</th>\n",
       "      <th>title</th>\n",
       "      <th>url</th>\n",
       "      <th>website</th>\n",
       "      <th>Label</th>\n",
       "      <th>Party</th>\n",
       "    </tr>\n",
       "  </thead>\n",
       "  <tbody>\n",
       "    <tr>\n",
       "      <th>0</th>\n",
       "      <td>Pushpesh Pant</td>\n",
       "      <td>Swami Vivekananda ranks among the highest in t...</td>\n",
       "      <td>2018-07-03</td>\n",
       "      <td>Swami Vivekananda,Hinduism,Tolerance,Politics ...</td>\n",
       "      <td>Swami Vivekananda’s 156th Birth Anniversary 20...</td>\n",
       "      <td>https://www.thequint.com/voices/opinion/swami-...</td>\n",
       "      <td>quint</td>\n",
       "      <td>0</td>\n",
       "      <td>1</td>\n",
       "    </tr>\n",
       "    <tr>\n",
       "      <th>1</th>\n",
       "      <td>Meeran Chadha Borwankar</td>\n",
       "      <td>In the news for the wrong reasons, the Central...</td>\n",
       "      <td>2018-07-18</td>\n",
       "      <td>Modi Government,Central Bureau of Investigatio...</td>\n",
       "      <td>Rift Between CBI Chief &amp; Special Director: Thi...</td>\n",
       "      <td>https://www.thequint.com/voices/opinion/cbi-co...</td>\n",
       "      <td>quint</td>\n",
       "      <td>5</td>\n",
       "      <td>1</td>\n",
       "    </tr>\n",
       "    <tr>\n",
       "      <th>2</th>\n",
       "      <td>Mayukh Ghosh</td>\n",
       "      <td>Reminiscing about the past is a dreadful tool ...</td>\n",
       "      <td>2018-05-14</td>\n",
       "      <td>Satyajit Ray,Shyam Benegal,Smita Patil,Politic...</td>\n",
       "      <td>The Late Filmmaker Mrinal Sen’s ‘Cinema of Res...</td>\n",
       "      <td>https://www.thequint.com/entertainment/indian-...</td>\n",
       "      <td>quint</td>\n",
       "      <td>0</td>\n",
       "      <td>1</td>\n",
       "    </tr>\n",
       "    <tr>\n",
       "      <th>3</th>\n",
       "      <td>Akanksha Kumar</td>\n",
       "      <td>: Akanksha Kumar : Sandeep Suman Twenty-three ...</td>\n",
       "      <td>2018-04-30</td>\n",
       "      <td>Tihar Jail,Supreme Court of India,Life Impriso...</td>\n",
       "      <td>Tandoor Murder: Former Delhi Police Joint Comm...</td>\n",
       "      <td>https://www.thequint.com/videos/news-videos/ho...</td>\n",
       "      <td>quint</td>\n",
       "      <td>0</td>\n",
       "      <td>1</td>\n",
       "    </tr>\n",
       "    <tr>\n",
       "      <th>4</th>\n",
       "      <td>Poonam Agarwal</td>\n",
       "      <td>As many as 92 witnesses in the Sohrabuddin fak...</td>\n",
       "      <td>2018-01-29</td>\n",
       "      <td>Sohrabuddin Sheikh Encounter,Kausarbi,fake enc...</td>\n",
       "      <td>Sohrabuddin Encounter: Details of 30 Witnesses...</td>\n",
       "      <td>https://www.thequint.com/news/india/sohrabuddi...</td>\n",
       "      <td>quint</td>\n",
       "      <td>0</td>\n",
       "      <td>1</td>\n",
       "    </tr>\n",
       "  </tbody>\n",
       "</table>\n",
       "</div>"
      ],
      "text/plain": [
       "                    author                                            content  \\\n",
       "0            Pushpesh Pant  Swami Vivekananda ranks among the highest in t...   \n",
       "1  Meeran Chadha Borwankar  In the news for the wrong reasons, the Central...   \n",
       "2             Mayukh Ghosh  Reminiscing about the past is a dreadful tool ...   \n",
       "3           Akanksha Kumar  : Akanksha Kumar : Sandeep Suman Twenty-three ...   \n",
       "4           Poonam Agarwal  As many as 92 witnesses in the Sohrabuddin fak...   \n",
       "\n",
       "         date                                                tag  \\\n",
       "0  2018-07-03  Swami Vivekananda,Hinduism,Tolerance,Politics ...   \n",
       "1  2018-07-18  Modi Government,Central Bureau of Investigatio...   \n",
       "2  2018-05-14  Satyajit Ray,Shyam Benegal,Smita Patil,Politic...   \n",
       "3  2018-04-30  Tihar Jail,Supreme Court of India,Life Impriso...   \n",
       "4  2018-01-29  Sohrabuddin Sheikh Encounter,Kausarbi,fake enc...   \n",
       "\n",
       "                                               title  \\\n",
       "0  Swami Vivekananda’s 156th Birth Anniversary 20...   \n",
       "1  Rift Between CBI Chief & Special Director: Thi...   \n",
       "2  The Late Filmmaker Mrinal Sen’s ‘Cinema of Res...   \n",
       "3  Tandoor Murder: Former Delhi Police Joint Comm...   \n",
       "4  Sohrabuddin Encounter: Details of 30 Witnesses...   \n",
       "\n",
       "                                                 url website  Label  Party  \n",
       "0  https://www.thequint.com/voices/opinion/swami-...   quint      0      1  \n",
       "1  https://www.thequint.com/voices/opinion/cbi-co...   quint      5      1  \n",
       "2  https://www.thequint.com/entertainment/indian-...   quint      0      1  \n",
       "3  https://www.thequint.com/videos/news-videos/ho...   quint      0      1  \n",
       "4  https://www.thequint.com/news/india/sohrabuddi...   quint      0      1  "
      ]
     },
     "execution_count": 61,
     "metadata": {},
     "output_type": "execute_result"
    }
   ],
   "source": [
    "df2 = pd.read_csv('Publications/Edit/KMeans/QT.csv')\n",
    "df2 = df2[1:1000]\n",
    "df2 = df2.to_csv('Publications/Edit/KMeans/QT_new.csv',index = False)\n",
    "df2 = pd.read_csv('Publications/Edit/KMeans/QT_new.csv')\n",
    "df2.head()"
   ]
  },
  {
   "cell_type": "code",
   "execution_count": 62,
   "metadata": {},
   "outputs": [],
   "source": [
    "kmax = sentiment_vader(df2['content'])\n",
    "df2[\"sent1\"] = kmax"
   ]
  },
  {
   "cell_type": "code",
   "execution_count": 63,
   "metadata": {},
   "outputs": [],
   "source": [
    "df2.to_csv(\"Publications/Edit/KMeans/QT_new.csv\", index=False)"
   ]
  },
  {
   "cell_type": "code",
   "execution_count": 64,
   "metadata": {},
   "outputs": [
    {
     "data": {
      "text/plain": [
       "neu    999\n",
       "Name: sent1, dtype: int64"
      ]
     },
     "execution_count": 64,
     "metadata": {},
     "output_type": "execute_result"
    }
   ],
   "source": [
    "df2['sent1'].value_counts()"
   ]
  },
  {
   "cell_type": "code",
   "execution_count": 65,
   "metadata": {},
   "outputs": [],
   "source": [
    "df2 = pd.read_csv('Publications/Edit/KMeans/QT_new.csv')"
   ]
  },
  {
   "cell_type": "code",
   "execution_count": 66,
   "metadata": {},
   "outputs": [],
   "source": [
    "k = []\n",
    "n = len(df2)\n",
    "for i in range(0,n):\n",
    "    party = df2['Party'][i]\n",
    "    sent = df2['sent1'][i]\n",
    "    if party == 0:\n",
    "        if sent == 'neu':\n",
    "            k.append(-1) \n",
    "        elif sent == 'pos':\n",
    "            k.append(0)\n",
    "        elif sent == 'neg':\n",
    "            k.append(1)\n",
    "    elif party == 1:\n",
    "        if sent == 'neu':\n",
    "            k.append(-1) \n",
    "        elif sent == 'pos':\n",
    "            k.append(1)\n",
    "        elif sent == 'neg':\n",
    "            k.append(0)\n",
    "    elif party == -1:\n",
    "        k.append(-1)\n",
    "df2['Bias1'] = k\n",
    "df2.to_csv(\"Publications/Edit/KMeans/QT_new.csv\",index=False)"
   ]
  },
  {
   "cell_type": "markdown",
   "metadata": {},
   "source": [
    "### DBScan data."
   ]
  },
  {
   "cell_type": "code",
   "execution_count": 67,
   "metadata": {},
   "outputs": [
    {
     "data": {
      "text/html": [
       "<div>\n",
       "<style scoped>\n",
       "    .dataframe tbody tr th:only-of-type {\n",
       "        vertical-align: middle;\n",
       "    }\n",
       "\n",
       "    .dataframe tbody tr th {\n",
       "        vertical-align: top;\n",
       "    }\n",
       "\n",
       "    .dataframe thead th {\n",
       "        text-align: right;\n",
       "    }\n",
       "</style>\n",
       "<table border=\"1\" class=\"dataframe\">\n",
       "  <thead>\n",
       "    <tr style=\"text-align: right;\">\n",
       "      <th></th>\n",
       "      <th>author</th>\n",
       "      <th>content</th>\n",
       "      <th>date</th>\n",
       "      <th>tag</th>\n",
       "      <th>title</th>\n",
       "      <th>url</th>\n",
       "      <th>website</th>\n",
       "      <th>Label</th>\n",
       "      <th>Party</th>\n",
       "    </tr>\n",
       "  </thead>\n",
       "  <tbody>\n",
       "    <tr>\n",
       "      <th>0</th>\n",
       "      <td>Meeran Chadha Borwankar</td>\n",
       "      <td>In the news for the wrong reasons, the Central...</td>\n",
       "      <td>2018-07-18</td>\n",
       "      <td>Modi Government,Central Bureau of Investigatio...</td>\n",
       "      <td>Rift Between CBI Chief &amp; Special Director: Thi...</td>\n",
       "      <td>https://www.thequint.com/voices/opinion/cbi-co...</td>\n",
       "      <td>quint</td>\n",
       "      <td>-1</td>\n",
       "      <td>0</td>\n",
       "    </tr>\n",
       "    <tr>\n",
       "      <th>1</th>\n",
       "      <td>Mayukh Ghosh</td>\n",
       "      <td>Reminiscing about the past is a dreadful tool ...</td>\n",
       "      <td>2018-05-14</td>\n",
       "      <td>Satyajit Ray,Shyam Benegal,Smita Patil,Politic...</td>\n",
       "      <td>The Late Filmmaker Mrinal Sen’s ‘Cinema of Res...</td>\n",
       "      <td>https://www.thequint.com/entertainment/indian-...</td>\n",
       "      <td>quint</td>\n",
       "      <td>-1</td>\n",
       "      <td>0</td>\n",
       "    </tr>\n",
       "    <tr>\n",
       "      <th>2</th>\n",
       "      <td>Akanksha Kumar</td>\n",
       "      <td>: Akanksha Kumar : Sandeep Suman Twenty-three ...</td>\n",
       "      <td>2018-04-30</td>\n",
       "      <td>Tihar Jail,Supreme Court of India,Life Impriso...</td>\n",
       "      <td>Tandoor Murder: Former Delhi Police Joint Comm...</td>\n",
       "      <td>https://www.thequint.com/videos/news-videos/ho...</td>\n",
       "      <td>quint</td>\n",
       "      <td>-1</td>\n",
       "      <td>0</td>\n",
       "    </tr>\n",
       "    <tr>\n",
       "      <th>3</th>\n",
       "      <td>Poonam Agarwal</td>\n",
       "      <td>As many as 92 witnesses in the Sohrabuddin fak...</td>\n",
       "      <td>2018-01-29</td>\n",
       "      <td>Sohrabuddin Sheikh Encounter,Kausarbi,fake enc...</td>\n",
       "      <td>Sohrabuddin Encounter: Details of 30 Witnesses...</td>\n",
       "      <td>https://www.thequint.com/news/india/sohrabuddi...</td>\n",
       "      <td>quint</td>\n",
       "      <td>-1</td>\n",
       "      <td>0</td>\n",
       "    </tr>\n",
       "    <tr>\n",
       "      <th>4</th>\n",
       "      <td>The Quint</td>\n",
       "      <td>Purnendu Pritam With heavy rains, thunderstorm...</td>\n",
       "      <td>2018-06-14</td>\n",
       "      <td>Assam,United States,AIADMK,QWrap,FIFA,Anand L ...</td>\n",
       "      <td>Today’s News in Videos: Rains, Thunderstorms, ...</td>\n",
       "      <td>https://www.thequint.com/videos/news-videos/la...</td>\n",
       "      <td>quint</td>\n",
       "      <td>-1</td>\n",
       "      <td>0</td>\n",
       "    </tr>\n",
       "  </tbody>\n",
       "</table>\n",
       "</div>"
      ],
      "text/plain": [
       "                    author                                            content  \\\n",
       "0  Meeran Chadha Borwankar  In the news for the wrong reasons, the Central...   \n",
       "1             Mayukh Ghosh  Reminiscing about the past is a dreadful tool ...   \n",
       "2           Akanksha Kumar  : Akanksha Kumar : Sandeep Suman Twenty-three ...   \n",
       "3           Poonam Agarwal  As many as 92 witnesses in the Sohrabuddin fak...   \n",
       "4                The Quint  Purnendu Pritam With heavy rains, thunderstorm...   \n",
       "\n",
       "         date                                                tag  \\\n",
       "0  2018-07-18  Modi Government,Central Bureau of Investigatio...   \n",
       "1  2018-05-14  Satyajit Ray,Shyam Benegal,Smita Patil,Politic...   \n",
       "2  2018-04-30  Tihar Jail,Supreme Court of India,Life Impriso...   \n",
       "3  2018-01-29  Sohrabuddin Sheikh Encounter,Kausarbi,fake enc...   \n",
       "4  2018-06-14  Assam,United States,AIADMK,QWrap,FIFA,Anand L ...   \n",
       "\n",
       "                                               title  \\\n",
       "0  Rift Between CBI Chief & Special Director: Thi...   \n",
       "1  The Late Filmmaker Mrinal Sen’s ‘Cinema of Res...   \n",
       "2  Tandoor Murder: Former Delhi Police Joint Comm...   \n",
       "3  Sohrabuddin Encounter: Details of 30 Witnesses...   \n",
       "4  Today’s News in Videos: Rains, Thunderstorms, ...   \n",
       "\n",
       "                                                 url website  Label  Party  \n",
       "0  https://www.thequint.com/voices/opinion/cbi-co...   quint     -1      0  \n",
       "1  https://www.thequint.com/entertainment/indian-...   quint     -1      0  \n",
       "2  https://www.thequint.com/videos/news-videos/ho...   quint     -1      0  \n",
       "3  https://www.thequint.com/news/india/sohrabuddi...   quint     -1      0  \n",
       "4  https://www.thequint.com/videos/news-videos/la...   quint     -1      0  "
      ]
     },
     "execution_count": 67,
     "metadata": {},
     "output_type": "execute_result"
    }
   ],
   "source": [
    "df22 = pd.read_csv('Publications/Edit/DBS/QT.csv')\n",
    "df22 = df22[1:1000]\n",
    "df22 = df22.to_csv('Publications/Edit/DBS/QT_new.csv',index = False)\n",
    "df22 = pd.read_csv('Publications/Edit/DBS/QT_new.csv')\n",
    "df22.head()"
   ]
  },
  {
   "cell_type": "code",
   "execution_count": 68,
   "metadata": {},
   "outputs": [],
   "source": [
    "kmax = sentiment_vader(df22['content'])\n",
    "df22[\"sent1\"] = kmax\n",
    "df22.to_csv(\"Publications/Edit/DBS/QT_new.csv\", index=False)"
   ]
  },
  {
   "cell_type": "code",
   "execution_count": 69,
   "metadata": {},
   "outputs": [
    {
     "data": {
      "text/plain": [
       "neu    998\n",
       "Name: sent1, dtype: int64"
      ]
     },
     "execution_count": 69,
     "metadata": {},
     "output_type": "execute_result"
    }
   ],
   "source": [
    "df22['sent1'].value_counts()"
   ]
  },
  {
   "cell_type": "code",
   "execution_count": 70,
   "metadata": {},
   "outputs": [],
   "source": [
    "df22 = pd.read_csv('Publications/Edit/DBS/QT_new.csv')"
   ]
  },
  {
   "cell_type": "code",
   "execution_count": 71,
   "metadata": {},
   "outputs": [],
   "source": [
    "k = []\n",
    "n = len(df22)\n",
    "for i in range(0,n):\n",
    "    party = df22['Party'][i]\n",
    "    sent = df22['sent1'][i]\n",
    "    if party == 0:\n",
    "        if sent == 'neu':\n",
    "            k.append(-1) \n",
    "        elif sent == 'pos':\n",
    "            k.append(0)\n",
    "        elif sent == 'neg':\n",
    "            k.append(1)\n",
    "    elif party == 1:\n",
    "        if sent == 'neu':\n",
    "            k.append(-1) \n",
    "        elif sent == 'pos':\n",
    "            k.append(1)\n",
    "        elif sent == 'neg':\n",
    "            k.append(0) \n",
    "    elif party == -1:\n",
    "        k.append(-1)\n",
    "df22['Bias1'] = k\n",
    "df22.to_csv(\"Publications/Edit/DBS/QT_new.csv\",index=False)"
   ]
  },
  {
   "cell_type": "markdown",
   "metadata": {},
   "source": [
    "## First Post."
   ]
  },
  {
   "cell_type": "markdown",
   "metadata": {},
   "source": [
    "### KMeans data."
   ]
  },
  {
   "cell_type": "code",
   "execution_count": 72,
   "metadata": {},
   "outputs": [
    {
     "data": {
      "text/html": [
       "<div>\n",
       "<style scoped>\n",
       "    .dataframe tbody tr th:only-of-type {\n",
       "        vertical-align: middle;\n",
       "    }\n",
       "\n",
       "    .dataframe tbody tr th {\n",
       "        vertical-align: top;\n",
       "    }\n",
       "\n",
       "    .dataframe thead th {\n",
       "        text-align: right;\n",
       "    }\n",
       "</style>\n",
       "<table border=\"1\" class=\"dataframe\">\n",
       "  <thead>\n",
       "    <tr style=\"text-align: right;\">\n",
       "      <th></th>\n",
       "      <th>author</th>\n",
       "      <th>content</th>\n",
       "      <th>date</th>\n",
       "      <th>tag</th>\n",
       "      <th>title</th>\n",
       "      <th>url</th>\n",
       "      <th>website</th>\n",
       "      <th>Label</th>\n",
       "      <th>Party</th>\n",
       "    </tr>\n",
       "  </thead>\n",
       "  <tbody>\n",
       "    <tr>\n",
       "      <th>0</th>\n",
       "      <td>Press Trust of India</td>\n",
       "      <td>Chief Minister Arvind Kejriwal on Wednesday or...</td>\n",
       "      <td>2018-11-29</td>\n",
       "      <td>AAP,Arvind Kejriwal,BJP,Delhi,Imran Hussain,Mo...</td>\n",
       "      <td>Arvind Kejriwal orders suspension of Delhi foo...</td>\n",
       "      <td>https://www.firstpost.com/politics/arvind-kejr...</td>\n",
       "      <td>firstpost</td>\n",
       "      <td>0</td>\n",
       "      <td>0</td>\n",
       "    </tr>\n",
       "    <tr>\n",
       "      <th>1</th>\n",
       "      <td>Press Trust of India</td>\n",
       "      <td>Slamming the revision of GDP data under the U...</td>\n",
       "      <td>2018-11-29</td>\n",
       "      <td>Anand Sharma,Arun Jaitley,BJP,Congress,GDP,Nar...</td>\n",
       "      <td>P Chidambaram calls revision of GDP data 'bad ...</td>\n",
       "      <td>https://www.firstpost.com/politics/p-chidambar...</td>\n",
       "      <td>firstpost</td>\n",
       "      <td>7</td>\n",
       "      <td>1</td>\n",
       "    </tr>\n",
       "    <tr>\n",
       "      <th>2</th>\n",
       "      <td>Press Trust of India</td>\n",
       "      <td>The HD Kumarawamy-led JD(S)-Congress ministry...</td>\n",
       "      <td>2018-11-29</td>\n",
       "      <td>Congress,Dinesh Gundu Rao,G Parameshwara,HD Ku...</td>\n",
       "      <td>Karnataka cabinet will be expanded before 10 D...</td>\n",
       "      <td>https://www.firstpost.com/politics/karnataka-c...</td>\n",
       "      <td>firstpost</td>\n",
       "      <td>7</td>\n",
       "      <td>1</td>\n",
       "    </tr>\n",
       "    <tr>\n",
       "      <th>3</th>\n",
       "      <td>Press Trust of India</td>\n",
       "      <td>: All India Majlis-e-Ittehadul Muslimeen (AIMI...</td>\n",
       "      <td>2018-11-29</td>\n",
       "      <td>AIMIM,All India Majlis-E-Ittehadul Muslimeen,A...</td>\n",
       "      <td>After Maharashtra Assembly passes quota bill, ...</td>\n",
       "      <td>https://www.firstpost.com/politics/after-mahar...</td>\n",
       "      <td>firstpost</td>\n",
       "      <td>7</td>\n",
       "      <td>1</td>\n",
       "    </tr>\n",
       "    <tr>\n",
       "      <th>4</th>\n",
       "      <td>Press Trust of India</td>\n",
       "      <td>: The Bharatiya Janata Party (BJP) Thursday co...</td>\n",
       "      <td>2018-11-29</td>\n",
       "      <td>Bharatiya Janata Party,BJP,Congress,Gorakhpur,...</td>\n",
       "      <td>Uttar Pradesh BJP chief takes jibe at Rahul Ga...</td>\n",
       "      <td>https://www.firstpost.com/politics/uttar-prade...</td>\n",
       "      <td>firstpost</td>\n",
       "      <td>13</td>\n",
       "      <td>0</td>\n",
       "    </tr>\n",
       "  </tbody>\n",
       "</table>\n",
       "</div>"
      ],
      "text/plain": [
       "                 author                                            content  \\\n",
       "0  Press Trust of India  Chief Minister Arvind Kejriwal on Wednesday or...   \n",
       "1  Press Trust of India   Slamming the revision of GDP data under the U...   \n",
       "2  Press Trust of India   The HD Kumarawamy-led JD(S)-Congress ministry...   \n",
       "3  Press Trust of India  : All India Majlis-e-Ittehadul Muslimeen (AIMI...   \n",
       "4  Press Trust of India  : The Bharatiya Janata Party (BJP) Thursday co...   \n",
       "\n",
       "         date                                                tag  \\\n",
       "0  2018-11-29  AAP,Arvind Kejriwal,BJP,Delhi,Imran Hussain,Mo...   \n",
       "1  2018-11-29  Anand Sharma,Arun Jaitley,BJP,Congress,GDP,Nar...   \n",
       "2  2018-11-29  Congress,Dinesh Gundu Rao,G Parameshwara,HD Ku...   \n",
       "3  2018-11-29  AIMIM,All India Majlis-E-Ittehadul Muslimeen,A...   \n",
       "4  2018-11-29  Bharatiya Janata Party,BJP,Congress,Gorakhpur,...   \n",
       "\n",
       "                                               title  \\\n",
       "0  Arvind Kejriwal orders suspension of Delhi foo...   \n",
       "1  P Chidambaram calls revision of GDP data 'bad ...   \n",
       "2  Karnataka cabinet will be expanded before 10 D...   \n",
       "3  After Maharashtra Assembly passes quota bill, ...   \n",
       "4  Uttar Pradesh BJP chief takes jibe at Rahul Ga...   \n",
       "\n",
       "                                                 url    website  Label  Party  \n",
       "0  https://www.firstpost.com/politics/arvind-kejr...  firstpost      0      0  \n",
       "1  https://www.firstpost.com/politics/p-chidambar...  firstpost      7      1  \n",
       "2  https://www.firstpost.com/politics/karnataka-c...  firstpost      7      1  \n",
       "3  https://www.firstpost.com/politics/after-mahar...  firstpost      7      1  \n",
       "4  https://www.firstpost.com/politics/uttar-prade...  firstpost     13      0  "
      ]
     },
     "execution_count": 72,
     "metadata": {},
     "output_type": "execute_result"
    }
   ],
   "source": [
    "df3 = pd.read_csv('Publications/Edit/KMeans/FP.csv')\n",
    "df3 = df3[1:1000]\n",
    "df3 = df3.to_csv('Publications/Edit/KMeans/FP_new.csv',index = False)\n",
    "df3 = pd.read_csv('Publications/Edit/KMeans/FP_new.csv')\n",
    "df3.head()"
   ]
  },
  {
   "cell_type": "code",
   "execution_count": 73,
   "metadata": {},
   "outputs": [],
   "source": [
    "kmax = sentiment_vader(df3['content'])\n",
    "df3[\"sent1\"] = kmax\n",
    "df3.to_csv(\"Publications/Edit/KMeans/FP_new.csv\", index=False)"
   ]
  },
  {
   "cell_type": "code",
   "execution_count": 74,
   "metadata": {},
   "outputs": [
    {
     "data": {
      "text/plain": [
       "neu    999\n",
       "Name: sent1, dtype: int64"
      ]
     },
     "execution_count": 74,
     "metadata": {},
     "output_type": "execute_result"
    }
   ],
   "source": [
    "df3['sent1'].value_counts()"
   ]
  },
  {
   "cell_type": "code",
   "execution_count": 75,
   "metadata": {},
   "outputs": [],
   "source": [
    "df3 = pd.read_csv('Publications/Edit/KMeans/FP_new.csv')"
   ]
  },
  {
   "cell_type": "code",
   "execution_count": 76,
   "metadata": {},
   "outputs": [],
   "source": [
    "k = []\n",
    "n = len(df3)\n",
    "for i in range(0,n):\n",
    "    party = df3['Party'][i]\n",
    "    sent = df3['sent1'][i]\n",
    "    if party == 0:\n",
    "        if sent == 'neu':\n",
    "            k.append(-1) \n",
    "        elif sent == 'pos':\n",
    "            k.append(0)\n",
    "        elif sent == 'neg':\n",
    "            k.append(1)\n",
    "    elif party == 1:\n",
    "        if sent == 'neu':\n",
    "            k.append(-1) \n",
    "        elif sent == 'pos':\n",
    "            k.append(1)\n",
    "        elif sent == 'neg':\n",
    "            k.append(0) \n",
    "    elif party == -1:\n",
    "        k.append(-1)\n",
    "df3['Bias1'] = k\n",
    "df3.to_csv(\"Publications/Edit/KMeans/FP_new.csv\",index=False)"
   ]
  },
  {
   "cell_type": "markdown",
   "metadata": {},
   "source": [
    "### DBScan data."
   ]
  },
  {
   "cell_type": "code",
   "execution_count": 77,
   "metadata": {},
   "outputs": [
    {
     "data": {
      "text/html": [
       "<div>\n",
       "<style scoped>\n",
       "    .dataframe tbody tr th:only-of-type {\n",
       "        vertical-align: middle;\n",
       "    }\n",
       "\n",
       "    .dataframe tbody tr th {\n",
       "        vertical-align: top;\n",
       "    }\n",
       "\n",
       "    .dataframe thead th {\n",
       "        text-align: right;\n",
       "    }\n",
       "</style>\n",
       "<table border=\"1\" class=\"dataframe\">\n",
       "  <thead>\n",
       "    <tr style=\"text-align: right;\">\n",
       "      <th></th>\n",
       "      <th>author</th>\n",
       "      <th>content</th>\n",
       "      <th>date</th>\n",
       "      <th>tag</th>\n",
       "      <th>title</th>\n",
       "      <th>url</th>\n",
       "      <th>website</th>\n",
       "      <th>Label</th>\n",
       "      <th>Party</th>\n",
       "    </tr>\n",
       "  </thead>\n",
       "  <tbody>\n",
       "    <tr>\n",
       "      <th>0</th>\n",
       "      <td>Press Trust of India</td>\n",
       "      <td>Slamming the revision of GDP data under the U...</td>\n",
       "      <td>2018-11-29</td>\n",
       "      <td>Anand Sharma,Arun Jaitley,BJP,Congress,GDP,Nar...</td>\n",
       "      <td>P Chidambaram calls revision of GDP data 'bad ...</td>\n",
       "      <td>https://www.firstpost.com/politics/p-chidambar...</td>\n",
       "      <td>firstpost</td>\n",
       "      <td>-1</td>\n",
       "      <td>0</td>\n",
       "    </tr>\n",
       "    <tr>\n",
       "      <th>1</th>\n",
       "      <td>Press Trust of India</td>\n",
       "      <td>The HD Kumarawamy-led JD(S)-Congress ministry...</td>\n",
       "      <td>2018-11-29</td>\n",
       "      <td>Congress,Dinesh Gundu Rao,G Parameshwara,HD Ku...</td>\n",
       "      <td>Karnataka cabinet will be expanded before 10 D...</td>\n",
       "      <td>https://www.firstpost.com/politics/karnataka-c...</td>\n",
       "      <td>firstpost</td>\n",
       "      <td>-1</td>\n",
       "      <td>0</td>\n",
       "    </tr>\n",
       "    <tr>\n",
       "      <th>2</th>\n",
       "      <td>Press Trust of India</td>\n",
       "      <td>: All India Majlis-e-Ittehadul Muslimeen (AIMI...</td>\n",
       "      <td>2018-11-29</td>\n",
       "      <td>AIMIM,All India Majlis-E-Ittehadul Muslimeen,A...</td>\n",
       "      <td>After Maharashtra Assembly passes quota bill, ...</td>\n",
       "      <td>https://www.firstpost.com/politics/after-mahar...</td>\n",
       "      <td>firstpost</td>\n",
       "      <td>-1</td>\n",
       "      <td>0</td>\n",
       "    </tr>\n",
       "    <tr>\n",
       "      <th>3</th>\n",
       "      <td>Press Trust of India</td>\n",
       "      <td>: The Bharatiya Janata Party (BJP) Thursday co...</td>\n",
       "      <td>2018-11-29</td>\n",
       "      <td>Bharatiya Janata Party,BJP,Congress,Gorakhpur,...</td>\n",
       "      <td>Uttar Pradesh BJP chief takes jibe at Rahul Ga...</td>\n",
       "      <td>https://www.firstpost.com/politics/uttar-prade...</td>\n",
       "      <td>firstpost</td>\n",
       "      <td>-1</td>\n",
       "      <td>0</td>\n",
       "    </tr>\n",
       "    <tr>\n",
       "      <th>4</th>\n",
       "      <td>Indo-Asian News Service</td>\n",
       "      <td>Calling Chief Minister K Chandrasekhar Rao \"K...</td>\n",
       "      <td>2018-11-29</td>\n",
       "      <td>Assembly Election 2018,Bhupalpally,BJP-RSS,Con...</td>\n",
       "      <td>Rahul Gandhi calls KCR 'Khao Commission Rao', ...</td>\n",
       "      <td>https://www.firstpost.com/politics/rahul-gandh...</td>\n",
       "      <td>firstpost</td>\n",
       "      <td>-1</td>\n",
       "      <td>0</td>\n",
       "    </tr>\n",
       "  </tbody>\n",
       "</table>\n",
       "</div>"
      ],
      "text/plain": [
       "                    author                                            content  \\\n",
       "0     Press Trust of India   Slamming the revision of GDP data under the U...   \n",
       "1     Press Trust of India   The HD Kumarawamy-led JD(S)-Congress ministry...   \n",
       "2     Press Trust of India  : All India Majlis-e-Ittehadul Muslimeen (AIMI...   \n",
       "3     Press Trust of India  : The Bharatiya Janata Party (BJP) Thursday co...   \n",
       "4  Indo-Asian News Service   Calling Chief Minister K Chandrasekhar Rao \"K...   \n",
       "\n",
       "         date                                                tag  \\\n",
       "0  2018-11-29  Anand Sharma,Arun Jaitley,BJP,Congress,GDP,Nar...   \n",
       "1  2018-11-29  Congress,Dinesh Gundu Rao,G Parameshwara,HD Ku...   \n",
       "2  2018-11-29  AIMIM,All India Majlis-E-Ittehadul Muslimeen,A...   \n",
       "3  2018-11-29  Bharatiya Janata Party,BJP,Congress,Gorakhpur,...   \n",
       "4  2018-11-29  Assembly Election 2018,Bhupalpally,BJP-RSS,Con...   \n",
       "\n",
       "                                               title  \\\n",
       "0  P Chidambaram calls revision of GDP data 'bad ...   \n",
       "1  Karnataka cabinet will be expanded before 10 D...   \n",
       "2  After Maharashtra Assembly passes quota bill, ...   \n",
       "3  Uttar Pradesh BJP chief takes jibe at Rahul Ga...   \n",
       "4  Rahul Gandhi calls KCR 'Khao Commission Rao', ...   \n",
       "\n",
       "                                                 url    website  Label  Party  \n",
       "0  https://www.firstpost.com/politics/p-chidambar...  firstpost     -1      0  \n",
       "1  https://www.firstpost.com/politics/karnataka-c...  firstpost     -1      0  \n",
       "2  https://www.firstpost.com/politics/after-mahar...  firstpost     -1      0  \n",
       "3  https://www.firstpost.com/politics/uttar-prade...  firstpost     -1      0  \n",
       "4  https://www.firstpost.com/politics/rahul-gandh...  firstpost     -1      0  "
      ]
     },
     "execution_count": 77,
     "metadata": {},
     "output_type": "execute_result"
    }
   ],
   "source": [
    "df33 = pd.read_csv('Publications/Edit/DBS/FP.csv')\n",
    "df33 = df33[1:1000]\n",
    "df33 = df33.to_csv('Publications/Edit/DBS/FP_new.csv',index = False)\n",
    "df33 = pd.read_csv('Publications/Edit/DBS/FP_new.csv')\n",
    "df33.head()"
   ]
  },
  {
   "cell_type": "code",
   "execution_count": 78,
   "metadata": {},
   "outputs": [],
   "source": [
    "kmax = sentiment_vader(df33['content'])\n",
    "df33[\"sent1\"] = kmax"
   ]
  },
  {
   "cell_type": "code",
   "execution_count": 79,
   "metadata": {},
   "outputs": [],
   "source": [
    "df33.to_csv(\"Publications/Edit/DBS/FP_new.csv\", index=False)"
   ]
  },
  {
   "cell_type": "code",
   "execution_count": 80,
   "metadata": {},
   "outputs": [
    {
     "data": {
      "text/plain": [
       "neu    998\n",
       "Name: sent1, dtype: int64"
      ]
     },
     "execution_count": 80,
     "metadata": {},
     "output_type": "execute_result"
    }
   ],
   "source": [
    "df33['sent1'].value_counts()"
   ]
  },
  {
   "cell_type": "code",
   "execution_count": 81,
   "metadata": {},
   "outputs": [],
   "source": [
    "k = []\n",
    "n = len(df33)\n",
    "for i in range(0,n):\n",
    "    party = df33['Party'][i]\n",
    "    sent = df33['sent1'][i]\n",
    "    if party == 0:\n",
    "        if sent == 'neu':\n",
    "            k.append(-1) \n",
    "        elif sent == 'pos':\n",
    "            k.append(0)\n",
    "        elif sent == 'neg':\n",
    "            k.append(1)\n",
    "    elif party == 1:\n",
    "        if sent == 'neu':\n",
    "            k.append(-1) \n",
    "        elif sent == 'pos':\n",
    "            k.append(1)\n",
    "        elif sent == 'neg':\n",
    "            k.append(0) \n",
    "    elif party == -1:\n",
    "        k.append(-1)\n",
    "df33['Bias1'] = k\n",
    "df33.to_csv(\"Publications/Edit/DBS/FP_new.csv\",index=False)"
   ]
  },
  {
   "cell_type": "markdown",
   "metadata": {},
   "source": [
    "# Text Blob Sentiment Analysis."
   ]
  },
  {
   "cell_type": "code",
   "execution_count": 82,
   "metadata": {},
   "outputs": [],
   "source": [
    "from textblob import TextBlob\n",
    "from textblob.sentiments import NaiveBayesAnalyzer"
   ]
  },
  {
   "cell_type": "code",
   "execution_count": 83,
   "metadata": {},
   "outputs": [],
   "source": [
    "def textblob_sentiment(article):\n",
    "    analysis = TextBlob(article).polarity\n",
    "    return analysis"
   ]
  },
  {
   "cell_type": "code",
   "execution_count": 84,
   "metadata": {},
   "outputs": [],
   "source": [
    "def sentiment_textblob(article):\n",
    "    kmax = []\n",
    "    for sent in article:\n",
    "        sentiment = textblob_sentiment(sent)\n",
    "        if sentiment <= 0.33 and sentiment >= -0.33:\n",
    "            s = 0\n",
    "        elif sentiment>=0.33:\n",
    "            s = 1\n",
    "        elif sentiment<=-0.33:\n",
    "            s = -1\n",
    "        kmax.append(s) \n",
    "    return kmax  "
   ]
  },
  {
   "cell_type": "markdown",
   "metadata": {},
   "source": [
    "## Times of India. "
   ]
  },
  {
   "cell_type": "markdown",
   "metadata": {},
   "source": [
    "### KMeans data."
   ]
  },
  {
   "cell_type": "code",
   "execution_count": 85,
   "metadata": {},
   "outputs": [
    {
     "data": {
      "text/html": [
       "<div>\n",
       "<style scoped>\n",
       "    .dataframe tbody tr th:only-of-type {\n",
       "        vertical-align: middle;\n",
       "    }\n",
       "\n",
       "    .dataframe tbody tr th {\n",
       "        vertical-align: top;\n",
       "    }\n",
       "\n",
       "    .dataframe thead th {\n",
       "        text-align: right;\n",
       "    }\n",
       "</style>\n",
       "<table border=\"1\" class=\"dataframe\">\n",
       "  <thead>\n",
       "    <tr style=\"text-align: right;\">\n",
       "      <th></th>\n",
       "      <th>publish_date</th>\n",
       "      <th>headline_category</th>\n",
       "      <th>headline_text</th>\n",
       "      <th>Label</th>\n",
       "      <th>Party</th>\n",
       "      <th>sent1</th>\n",
       "      <th>Bias1</th>\n",
       "      <th>sent2</th>\n",
       "    </tr>\n",
       "  </thead>\n",
       "  <tbody>\n",
       "    <tr>\n",
       "      <th>0</th>\n",
       "      <td>20120624</td>\n",
       "      <td>india</td>\n",
       "      <td>NCPCR seeks explanation from Haryana govt</td>\n",
       "      <td>3</td>\n",
       "      <td>1</td>\n",
       "      <td>neu</td>\n",
       "      <td>-1</td>\n",
       "      <td>0</td>\n",
       "    </tr>\n",
       "    <tr>\n",
       "      <th>1</th>\n",
       "      <td>20170417</td>\n",
       "      <td>city.indore</td>\n",
       "      <td>HC on alleged Simhastha irregularities: Take i...</td>\n",
       "      <td>0</td>\n",
       "      <td>0</td>\n",
       "      <td>neu</td>\n",
       "      <td>-1</td>\n",
       "      <td>0</td>\n",
       "    </tr>\n",
       "    <tr>\n",
       "      <th>2</th>\n",
       "      <td>20181014</td>\n",
       "      <td>city.bhopal</td>\n",
       "      <td>Rahul to visit Datia; Gwalior from Monday</td>\n",
       "      <td>0</td>\n",
       "      <td>0</td>\n",
       "      <td>neu</td>\n",
       "      <td>-1</td>\n",
       "      <td>0</td>\n",
       "    </tr>\n",
       "    <tr>\n",
       "      <th>3</th>\n",
       "      <td>20170920</td>\n",
       "      <td>sports.football</td>\n",
       "      <td>Premier Futsal: Bengaluru Royals rout Mumbai W...</td>\n",
       "      <td>13</td>\n",
       "      <td>1</td>\n",
       "      <td>neu</td>\n",
       "      <td>-1</td>\n",
       "      <td>0</td>\n",
       "    </tr>\n",
       "    <tr>\n",
       "      <th>4</th>\n",
       "      <td>20090824</td>\n",
       "      <td>city.mysuru</td>\n",
       "      <td>Assembly session will focus on people's proble...</td>\n",
       "      <td>3</td>\n",
       "      <td>1</td>\n",
       "      <td>neu</td>\n",
       "      <td>-1</td>\n",
       "      <td>0</td>\n",
       "    </tr>\n",
       "  </tbody>\n",
       "</table>\n",
       "</div>"
      ],
      "text/plain": [
       "   publish_date headline_category  \\\n",
       "0      20120624             india   \n",
       "1      20170417       city.indore   \n",
       "2      20181014       city.bhopal   \n",
       "3      20170920   sports.football   \n",
       "4      20090824       city.mysuru   \n",
       "\n",
       "                                       headline_text  Label  Party sent1  \\\n",
       "0          NCPCR seeks explanation from Haryana govt      3      1   neu   \n",
       "1  HC on alleged Simhastha irregularities: Take i...      0      0   neu   \n",
       "2          Rahul to visit Datia; Gwalior from Monday      0      0   neu   \n",
       "3  Premier Futsal: Bengaluru Royals rout Mumbai W...     13      1   neu   \n",
       "4  Assembly session will focus on people's proble...      3      1   neu   \n",
       "\n",
       "   Bias1  sent2  \n",
       "0     -1      0  \n",
       "1     -1      0  \n",
       "2     -1      0  \n",
       "3     -1      0  \n",
       "4     -1      0  "
      ]
     },
     "execution_count": 85,
     "metadata": {},
     "output_type": "execute_result"
    }
   ],
   "source": [
    "df1 = pd.read_csv('Publications/Edit/KMeans/TOI_new.csv')\n",
    "kmax = sentiment_textblob(df1['headline_text'])\n",
    "df1[\"sent2\"] = kmax\n",
    "df1.to_csv(\"Publications/Edit/KMeans/TOI_new.csv\", index=False)\n",
    "df1.head()"
   ]
  },
  {
   "cell_type": "code",
   "execution_count": 86,
   "metadata": {},
   "outputs": [
    {
     "data": {
      "text/plain": [
       " 0    892\n",
       " 1     74\n",
       "-1     33\n",
       "Name: sent2, dtype: int64"
      ]
     },
     "execution_count": 86,
     "metadata": {},
     "output_type": "execute_result"
    }
   ],
   "source": [
    "df1['sent2'].value_counts()"
   ]
  },
  {
   "cell_type": "code",
   "execution_count": 87,
   "metadata": {},
   "outputs": [],
   "source": [
    "k = []\n",
    "n = len(df1)\n",
    "for i in range(0,n):\n",
    "    party = df1['Party'][i]\n",
    "    sent = df1['sent2'][i]\n",
    "    if party == 0:\n",
    "        if sent == 0:\n",
    "            k.append(-1) \n",
    "        elif sent == 1:\n",
    "            k.append(0)\n",
    "        elif sent == -1:\n",
    "            k.append(1)\n",
    "    elif party == 1:\n",
    "        if sent == 0:\n",
    "            k.append(-1) \n",
    "        elif sent == 1:\n",
    "            k.append(1)\n",
    "        elif sent == -1:\n",
    "            k.append(0) \n",
    "    elif party == -1:\n",
    "        k.append(0)\n",
    "df1['Bias2'] = k\n",
    "df1.to_csv(\"Publications/Edit/KMeans/TOI_new.csv\",index=False)"
   ]
  },
  {
   "cell_type": "markdown",
   "metadata": {},
   "source": [
    "### DBScan data."
   ]
  },
  {
   "cell_type": "code",
   "execution_count": 88,
   "metadata": {},
   "outputs": [
    {
     "data": {
      "text/html": [
       "<div>\n",
       "<style scoped>\n",
       "    .dataframe tbody tr th:only-of-type {\n",
       "        vertical-align: middle;\n",
       "    }\n",
       "\n",
       "    .dataframe tbody tr th {\n",
       "        vertical-align: top;\n",
       "    }\n",
       "\n",
       "    .dataframe thead th {\n",
       "        text-align: right;\n",
       "    }\n",
       "</style>\n",
       "<table border=\"1\" class=\"dataframe\">\n",
       "  <thead>\n",
       "    <tr style=\"text-align: right;\">\n",
       "      <th></th>\n",
       "      <th>publish_date</th>\n",
       "      <th>headline_category</th>\n",
       "      <th>headline_text</th>\n",
       "      <th>Label</th>\n",
       "      <th>Party</th>\n",
       "      <th>sent1</th>\n",
       "      <th>Bias1</th>\n",
       "      <th>sent2</th>\n",
       "    </tr>\n",
       "  </thead>\n",
       "  <tbody>\n",
       "    <tr>\n",
       "      <th>0</th>\n",
       "      <td>20170417</td>\n",
       "      <td>city.indore</td>\n",
       "      <td>HC on alleged Simhastha irregularities: Take i...</td>\n",
       "      <td>0</td>\n",
       "      <td>0</td>\n",
       "      <td>neu</td>\n",
       "      <td>-1</td>\n",
       "      <td>0</td>\n",
       "    </tr>\n",
       "    <tr>\n",
       "      <th>1</th>\n",
       "      <td>20181014</td>\n",
       "      <td>city.bhopal</td>\n",
       "      <td>Rahul to visit Datia; Gwalior from Monday</td>\n",
       "      <td>0</td>\n",
       "      <td>0</td>\n",
       "      <td>neu</td>\n",
       "      <td>-1</td>\n",
       "      <td>0</td>\n",
       "    </tr>\n",
       "    <tr>\n",
       "      <th>2</th>\n",
       "      <td>20170920</td>\n",
       "      <td>sports.football</td>\n",
       "      <td>Premier Futsal: Bengaluru Royals rout Mumbai W...</td>\n",
       "      <td>0</td>\n",
       "      <td>0</td>\n",
       "      <td>neu</td>\n",
       "      <td>-1</td>\n",
       "      <td>0</td>\n",
       "    </tr>\n",
       "    <tr>\n",
       "      <th>3</th>\n",
       "      <td>20090824</td>\n",
       "      <td>city.mysuru</td>\n",
       "      <td>Assembly session will focus on people's proble...</td>\n",
       "      <td>0</td>\n",
       "      <td>0</td>\n",
       "      <td>neu</td>\n",
       "      <td>-1</td>\n",
       "      <td>0</td>\n",
       "    </tr>\n",
       "    <tr>\n",
       "      <th>4</th>\n",
       "      <td>20110801</td>\n",
       "      <td>city.ranchi</td>\n",
       "      <td>Nine die in lightning strikes</td>\n",
       "      <td>0</td>\n",
       "      <td>0</td>\n",
       "      <td>neg</td>\n",
       "      <td>1</td>\n",
       "      <td>0</td>\n",
       "    </tr>\n",
       "  </tbody>\n",
       "</table>\n",
       "</div>"
      ],
      "text/plain": [
       "   publish_date headline_category  \\\n",
       "0      20170417       city.indore   \n",
       "1      20181014       city.bhopal   \n",
       "2      20170920   sports.football   \n",
       "3      20090824       city.mysuru   \n",
       "4      20110801       city.ranchi   \n",
       "\n",
       "                                       headline_text  Label  Party sent1  \\\n",
       "0  HC on alleged Simhastha irregularities: Take i...      0      0   neu   \n",
       "1          Rahul to visit Datia; Gwalior from Monday      0      0   neu   \n",
       "2  Premier Futsal: Bengaluru Royals rout Mumbai W...      0      0   neu   \n",
       "3  Assembly session will focus on people's proble...      0      0   neu   \n",
       "4                      Nine die in lightning strikes      0      0   neg   \n",
       "\n",
       "   Bias1  sent2  \n",
       "0     -1      0  \n",
       "1     -1      0  \n",
       "2     -1      0  \n",
       "3     -1      0  \n",
       "4      1      0  "
      ]
     },
     "execution_count": 88,
     "metadata": {},
     "output_type": "execute_result"
    }
   ],
   "source": [
    "df11 = pd.read_csv('Publications/Edit/DBS/TOI_new.csv')\n",
    "kmax = sentiment_textblob(df11['headline_text'])\n",
    "df11[\"sent2\"] = kmax\n",
    "df11.to_csv(\"Publications/Edit/DBS/TOI_new.csv\", index=False)\n",
    "df11.head()"
   ]
  },
  {
   "cell_type": "code",
   "execution_count": 89,
   "metadata": {},
   "outputs": [
    {
     "data": {
      "text/plain": [
       " 0    891\n",
       " 1     74\n",
       "-1     33\n",
       "Name: sent2, dtype: int64"
      ]
     },
     "execution_count": 89,
     "metadata": {},
     "output_type": "execute_result"
    }
   ],
   "source": [
    "df11['sent2'].value_counts()"
   ]
  },
  {
   "cell_type": "code",
   "execution_count": 90,
   "metadata": {},
   "outputs": [],
   "source": [
    "k = []\n",
    "n = len(df11)\n",
    "for i in range(0,n):\n",
    "    party = df11['Party'][i]\n",
    "    sent = df11['sent2'][i]\n",
    "    if party == 0:\n",
    "        if sent == 0:\n",
    "            k.append(-1) \n",
    "        elif sent == 1:\n",
    "            k.append(0)\n",
    "        elif sent == -1:\n",
    "            k.append(1)\n",
    "    elif party == 1:\n",
    "        if sent == 0:\n",
    "            k.append(-1) \n",
    "        elif sent == 1:\n",
    "            k.append(1)\n",
    "        elif sent == -1:\n",
    "            k.append(0)\n",
    "    elif party == -1:\n",
    "        k.append(-1)\n",
    "df11['Bias2'] = k\n",
    "df11.to_csv(\"Publications/Edit/DBS/TOI_new.csv\",index=False)"
   ]
  },
  {
   "cell_type": "markdown",
   "metadata": {},
   "source": [
    "## Quint. "
   ]
  },
  {
   "cell_type": "markdown",
   "metadata": {},
   "source": [
    "### KMeans data."
   ]
  },
  {
   "cell_type": "code",
   "execution_count": 91,
   "metadata": {},
   "outputs": [
    {
     "data": {
      "text/html": [
       "<div>\n",
       "<style scoped>\n",
       "    .dataframe tbody tr th:only-of-type {\n",
       "        vertical-align: middle;\n",
       "    }\n",
       "\n",
       "    .dataframe tbody tr th {\n",
       "        vertical-align: top;\n",
       "    }\n",
       "\n",
       "    .dataframe thead th {\n",
       "        text-align: right;\n",
       "    }\n",
       "</style>\n",
       "<table border=\"1\" class=\"dataframe\">\n",
       "  <thead>\n",
       "    <tr style=\"text-align: right;\">\n",
       "      <th></th>\n",
       "      <th>author</th>\n",
       "      <th>content</th>\n",
       "      <th>date</th>\n",
       "      <th>tag</th>\n",
       "      <th>title</th>\n",
       "      <th>url</th>\n",
       "      <th>website</th>\n",
       "      <th>Label</th>\n",
       "      <th>Party</th>\n",
       "      <th>sent1</th>\n",
       "      <th>Bias1</th>\n",
       "      <th>sent2</th>\n",
       "    </tr>\n",
       "  </thead>\n",
       "  <tbody>\n",
       "    <tr>\n",
       "      <th>0</th>\n",
       "      <td>Pushpesh Pant</td>\n",
       "      <td>Swami Vivekananda ranks among the highest in t...</td>\n",
       "      <td>2018-07-03</td>\n",
       "      <td>Swami Vivekananda,Hinduism,Tolerance,Politics ...</td>\n",
       "      <td>Swami Vivekananda’s 156th Birth Anniversary 20...</td>\n",
       "      <td>https://www.thequint.com/voices/opinion/swami-...</td>\n",
       "      <td>quint</td>\n",
       "      <td>0</td>\n",
       "      <td>1</td>\n",
       "      <td>neu</td>\n",
       "      <td>-1</td>\n",
       "      <td>0</td>\n",
       "    </tr>\n",
       "    <tr>\n",
       "      <th>1</th>\n",
       "      <td>Meeran Chadha Borwankar</td>\n",
       "      <td>In the news for the wrong reasons, the Central...</td>\n",
       "      <td>2018-07-18</td>\n",
       "      <td>Modi Government,Central Bureau of Investigatio...</td>\n",
       "      <td>Rift Between CBI Chief &amp; Special Director: Thi...</td>\n",
       "      <td>https://www.thequint.com/voices/opinion/cbi-co...</td>\n",
       "      <td>quint</td>\n",
       "      <td>5</td>\n",
       "      <td>1</td>\n",
       "      <td>neu</td>\n",
       "      <td>-1</td>\n",
       "      <td>0</td>\n",
       "    </tr>\n",
       "    <tr>\n",
       "      <th>2</th>\n",
       "      <td>Mayukh Ghosh</td>\n",
       "      <td>Reminiscing about the past is a dreadful tool ...</td>\n",
       "      <td>2018-05-14</td>\n",
       "      <td>Satyajit Ray,Shyam Benegal,Smita Patil,Politic...</td>\n",
       "      <td>The Late Filmmaker Mrinal Sen’s ‘Cinema of Res...</td>\n",
       "      <td>https://www.thequint.com/entertainment/indian-...</td>\n",
       "      <td>quint</td>\n",
       "      <td>0</td>\n",
       "      <td>1</td>\n",
       "      <td>neu</td>\n",
       "      <td>-1</td>\n",
       "      <td>0</td>\n",
       "    </tr>\n",
       "    <tr>\n",
       "      <th>3</th>\n",
       "      <td>Akanksha Kumar</td>\n",
       "      <td>: Akanksha Kumar : Sandeep Suman Twenty-three ...</td>\n",
       "      <td>2018-04-30</td>\n",
       "      <td>Tihar Jail,Supreme Court of India,Life Impriso...</td>\n",
       "      <td>Tandoor Murder: Former Delhi Police Joint Comm...</td>\n",
       "      <td>https://www.thequint.com/videos/news-videos/ho...</td>\n",
       "      <td>quint</td>\n",
       "      <td>0</td>\n",
       "      <td>1</td>\n",
       "      <td>neu</td>\n",
       "      <td>-1</td>\n",
       "      <td>0</td>\n",
       "    </tr>\n",
       "    <tr>\n",
       "      <th>4</th>\n",
       "      <td>Poonam Agarwal</td>\n",
       "      <td>As many as 92 witnesses in the Sohrabuddin fak...</td>\n",
       "      <td>2018-01-29</td>\n",
       "      <td>Sohrabuddin Sheikh Encounter,Kausarbi,fake enc...</td>\n",
       "      <td>Sohrabuddin Encounter: Details of 30 Witnesses...</td>\n",
       "      <td>https://www.thequint.com/news/india/sohrabuddi...</td>\n",
       "      <td>quint</td>\n",
       "      <td>0</td>\n",
       "      <td>1</td>\n",
       "      <td>neu</td>\n",
       "      <td>-1</td>\n",
       "      <td>0</td>\n",
       "    </tr>\n",
       "  </tbody>\n",
       "</table>\n",
       "</div>"
      ],
      "text/plain": [
       "                    author                                            content  \\\n",
       "0            Pushpesh Pant  Swami Vivekananda ranks among the highest in t...   \n",
       "1  Meeran Chadha Borwankar  In the news for the wrong reasons, the Central...   \n",
       "2             Mayukh Ghosh  Reminiscing about the past is a dreadful tool ...   \n",
       "3           Akanksha Kumar  : Akanksha Kumar : Sandeep Suman Twenty-three ...   \n",
       "4           Poonam Agarwal  As many as 92 witnesses in the Sohrabuddin fak...   \n",
       "\n",
       "         date                                                tag  \\\n",
       "0  2018-07-03  Swami Vivekananda,Hinduism,Tolerance,Politics ...   \n",
       "1  2018-07-18  Modi Government,Central Bureau of Investigatio...   \n",
       "2  2018-05-14  Satyajit Ray,Shyam Benegal,Smita Patil,Politic...   \n",
       "3  2018-04-30  Tihar Jail,Supreme Court of India,Life Impriso...   \n",
       "4  2018-01-29  Sohrabuddin Sheikh Encounter,Kausarbi,fake enc...   \n",
       "\n",
       "                                               title  \\\n",
       "0  Swami Vivekananda’s 156th Birth Anniversary 20...   \n",
       "1  Rift Between CBI Chief & Special Director: Thi...   \n",
       "2  The Late Filmmaker Mrinal Sen’s ‘Cinema of Res...   \n",
       "3  Tandoor Murder: Former Delhi Police Joint Comm...   \n",
       "4  Sohrabuddin Encounter: Details of 30 Witnesses...   \n",
       "\n",
       "                                                 url website  Label  Party  \\\n",
       "0  https://www.thequint.com/voices/opinion/swami-...   quint      0      1   \n",
       "1  https://www.thequint.com/voices/opinion/cbi-co...   quint      5      1   \n",
       "2  https://www.thequint.com/entertainment/indian-...   quint      0      1   \n",
       "3  https://www.thequint.com/videos/news-videos/ho...   quint      0      1   \n",
       "4  https://www.thequint.com/news/india/sohrabuddi...   quint      0      1   \n",
       "\n",
       "  sent1  Bias1  sent2  \n",
       "0   neu     -1      0  \n",
       "1   neu     -1      0  \n",
       "2   neu     -1      0  \n",
       "3   neu     -1      0  \n",
       "4   neu     -1      0  "
      ]
     },
     "execution_count": 91,
     "metadata": {},
     "output_type": "execute_result"
    }
   ],
   "source": [
    "df2 = pd.read_csv('Publications/Edit/KMeans/QT_new.csv')\n",
    "kmax = sentiment_textblob(df2['content'])\n",
    "df2[\"sent2\"] = kmax\n",
    "df2.to_csv(\"Publications/Edit/KMeans/QT_new.csv\", index=False)\n",
    "df2.head()"
   ]
  },
  {
   "cell_type": "code",
   "execution_count": 92,
   "metadata": {},
   "outputs": [
    {
     "data": {
      "text/plain": [
       "0    994\n",
       "1      5\n",
       "Name: sent2, dtype: int64"
      ]
     },
     "execution_count": 92,
     "metadata": {},
     "output_type": "execute_result"
    }
   ],
   "source": [
    "df2['sent2'].value_counts()"
   ]
  },
  {
   "cell_type": "code",
   "execution_count": 93,
   "metadata": {},
   "outputs": [],
   "source": [
    "k = []\n",
    "n = len(df2)\n",
    "for i in range(0,n):\n",
    "    party = df2['Party'][i]\n",
    "    sent = df2['sent2'][i]\n",
    "    if party == 0:\n",
    "        if sent == 0:\n",
    "            k.append(-1) \n",
    "        elif sent == 1:\n",
    "            k.append(0)\n",
    "        elif sent == -1:\n",
    "            k.append(1)\n",
    "    elif party == 1:\n",
    "        if sent == 0:\n",
    "            k.append(-1) \n",
    "        elif sent == 1:\n",
    "            k.append(1)\n",
    "        elif sent == -1:\n",
    "            k.append(0)\n",
    "    elif party == -1:\n",
    "        k.append(-1)\n",
    "df2['Bias2'] = k\n",
    "df2.to_csv(\"Publications/Edit/KMeans/QT_new.csv\",index=False)"
   ]
  },
  {
   "cell_type": "markdown",
   "metadata": {},
   "source": [
    "### DBScan data."
   ]
  },
  {
   "cell_type": "code",
   "execution_count": 94,
   "metadata": {},
   "outputs": [
    {
     "data": {
      "text/html": [
       "<div>\n",
       "<style scoped>\n",
       "    .dataframe tbody tr th:only-of-type {\n",
       "        vertical-align: middle;\n",
       "    }\n",
       "\n",
       "    .dataframe tbody tr th {\n",
       "        vertical-align: top;\n",
       "    }\n",
       "\n",
       "    .dataframe thead th {\n",
       "        text-align: right;\n",
       "    }\n",
       "</style>\n",
       "<table border=\"1\" class=\"dataframe\">\n",
       "  <thead>\n",
       "    <tr style=\"text-align: right;\">\n",
       "      <th></th>\n",
       "      <th>author</th>\n",
       "      <th>content</th>\n",
       "      <th>date</th>\n",
       "      <th>tag</th>\n",
       "      <th>title</th>\n",
       "      <th>url</th>\n",
       "      <th>website</th>\n",
       "      <th>Label</th>\n",
       "      <th>Party</th>\n",
       "      <th>sent1</th>\n",
       "      <th>Bias1</th>\n",
       "      <th>sent2</th>\n",
       "    </tr>\n",
       "  </thead>\n",
       "  <tbody>\n",
       "    <tr>\n",
       "      <th>0</th>\n",
       "      <td>Meeran Chadha Borwankar</td>\n",
       "      <td>In the news for the wrong reasons, the Central...</td>\n",
       "      <td>2018-07-18</td>\n",
       "      <td>Modi Government,Central Bureau of Investigatio...</td>\n",
       "      <td>Rift Between CBI Chief &amp; Special Director: Thi...</td>\n",
       "      <td>https://www.thequint.com/voices/opinion/cbi-co...</td>\n",
       "      <td>quint</td>\n",
       "      <td>-1</td>\n",
       "      <td>0</td>\n",
       "      <td>neu</td>\n",
       "      <td>-1</td>\n",
       "      <td>0</td>\n",
       "    </tr>\n",
       "    <tr>\n",
       "      <th>1</th>\n",
       "      <td>Mayukh Ghosh</td>\n",
       "      <td>Reminiscing about the past is a dreadful tool ...</td>\n",
       "      <td>2018-05-14</td>\n",
       "      <td>Satyajit Ray,Shyam Benegal,Smita Patil,Politic...</td>\n",
       "      <td>The Late Filmmaker Mrinal Sen’s ‘Cinema of Res...</td>\n",
       "      <td>https://www.thequint.com/entertainment/indian-...</td>\n",
       "      <td>quint</td>\n",
       "      <td>-1</td>\n",
       "      <td>0</td>\n",
       "      <td>neu</td>\n",
       "      <td>-1</td>\n",
       "      <td>0</td>\n",
       "    </tr>\n",
       "    <tr>\n",
       "      <th>2</th>\n",
       "      <td>Akanksha Kumar</td>\n",
       "      <td>: Akanksha Kumar : Sandeep Suman Twenty-three ...</td>\n",
       "      <td>2018-04-30</td>\n",
       "      <td>Tihar Jail,Supreme Court of India,Life Impriso...</td>\n",
       "      <td>Tandoor Murder: Former Delhi Police Joint Comm...</td>\n",
       "      <td>https://www.thequint.com/videos/news-videos/ho...</td>\n",
       "      <td>quint</td>\n",
       "      <td>-1</td>\n",
       "      <td>0</td>\n",
       "      <td>neu</td>\n",
       "      <td>-1</td>\n",
       "      <td>0</td>\n",
       "    </tr>\n",
       "    <tr>\n",
       "      <th>3</th>\n",
       "      <td>Poonam Agarwal</td>\n",
       "      <td>As many as 92 witnesses in the Sohrabuddin fak...</td>\n",
       "      <td>2018-01-29</td>\n",
       "      <td>Sohrabuddin Sheikh Encounter,Kausarbi,fake enc...</td>\n",
       "      <td>Sohrabuddin Encounter: Details of 30 Witnesses...</td>\n",
       "      <td>https://www.thequint.com/news/india/sohrabuddi...</td>\n",
       "      <td>quint</td>\n",
       "      <td>-1</td>\n",
       "      <td>0</td>\n",
       "      <td>neu</td>\n",
       "      <td>-1</td>\n",
       "      <td>0</td>\n",
       "    </tr>\n",
       "    <tr>\n",
       "      <th>4</th>\n",
       "      <td>The Quint</td>\n",
       "      <td>Purnendu Pritam With heavy rains, thunderstorm...</td>\n",
       "      <td>2018-06-14</td>\n",
       "      <td>Assam,United States,AIADMK,QWrap,FIFA,Anand L ...</td>\n",
       "      <td>Today’s News in Videos: Rains, Thunderstorms, ...</td>\n",
       "      <td>https://www.thequint.com/videos/news-videos/la...</td>\n",
       "      <td>quint</td>\n",
       "      <td>-1</td>\n",
       "      <td>0</td>\n",
       "      <td>neu</td>\n",
       "      <td>-1</td>\n",
       "      <td>0</td>\n",
       "    </tr>\n",
       "  </tbody>\n",
       "</table>\n",
       "</div>"
      ],
      "text/plain": [
       "                    author                                            content  \\\n",
       "0  Meeran Chadha Borwankar  In the news for the wrong reasons, the Central...   \n",
       "1             Mayukh Ghosh  Reminiscing about the past is a dreadful tool ...   \n",
       "2           Akanksha Kumar  : Akanksha Kumar : Sandeep Suman Twenty-three ...   \n",
       "3           Poonam Agarwal  As many as 92 witnesses in the Sohrabuddin fak...   \n",
       "4                The Quint  Purnendu Pritam With heavy rains, thunderstorm...   \n",
       "\n",
       "         date                                                tag  \\\n",
       "0  2018-07-18  Modi Government,Central Bureau of Investigatio...   \n",
       "1  2018-05-14  Satyajit Ray,Shyam Benegal,Smita Patil,Politic...   \n",
       "2  2018-04-30  Tihar Jail,Supreme Court of India,Life Impriso...   \n",
       "3  2018-01-29  Sohrabuddin Sheikh Encounter,Kausarbi,fake enc...   \n",
       "4  2018-06-14  Assam,United States,AIADMK,QWrap,FIFA,Anand L ...   \n",
       "\n",
       "                                               title  \\\n",
       "0  Rift Between CBI Chief & Special Director: Thi...   \n",
       "1  The Late Filmmaker Mrinal Sen’s ‘Cinema of Res...   \n",
       "2  Tandoor Murder: Former Delhi Police Joint Comm...   \n",
       "3  Sohrabuddin Encounter: Details of 30 Witnesses...   \n",
       "4  Today’s News in Videos: Rains, Thunderstorms, ...   \n",
       "\n",
       "                                                 url website  Label  Party  \\\n",
       "0  https://www.thequint.com/voices/opinion/cbi-co...   quint     -1      0   \n",
       "1  https://www.thequint.com/entertainment/indian-...   quint     -1      0   \n",
       "2  https://www.thequint.com/videos/news-videos/ho...   quint     -1      0   \n",
       "3  https://www.thequint.com/news/india/sohrabuddi...   quint     -1      0   \n",
       "4  https://www.thequint.com/videos/news-videos/la...   quint     -1      0   \n",
       "\n",
       "  sent1  Bias1  sent2  \n",
       "0   neu     -1      0  \n",
       "1   neu     -1      0  \n",
       "2   neu     -1      0  \n",
       "3   neu     -1      0  \n",
       "4   neu     -1      0  "
      ]
     },
     "execution_count": 94,
     "metadata": {},
     "output_type": "execute_result"
    }
   ],
   "source": [
    "df22 = pd.read_csv('Publications/Edit/DBS/QT_new.csv')\n",
    "kmax = sentiment_textblob(df22['content'])\n",
    "df22[\"sent2\"] = kmax\n",
    "df22.to_csv(\"Publications/Edit/DBS/QT_new.csv\", index=False)\n",
    "df22.head()"
   ]
  },
  {
   "cell_type": "code",
   "execution_count": 95,
   "metadata": {},
   "outputs": [
    {
     "data": {
      "text/plain": [
       "0    993\n",
       "1      5\n",
       "Name: sent2, dtype: int64"
      ]
     },
     "execution_count": 95,
     "metadata": {},
     "output_type": "execute_result"
    }
   ],
   "source": [
    "df22['sent2'].value_counts()"
   ]
  },
  {
   "cell_type": "code",
   "execution_count": 96,
   "metadata": {},
   "outputs": [],
   "source": [
    "k = []\n",
    "n = len(df22)\n",
    "for i in range(0,n):\n",
    "    party = df22['Party'][i]\n",
    "    sent = df22['sent2'][i]\n",
    "    if party == 0:\n",
    "        if sent == 0:\n",
    "            k.append(-1) \n",
    "        elif sent == 1:\n",
    "            k.append(0)\n",
    "        elif sent == -1:\n",
    "            k.append(1)\n",
    "    elif party == 1:\n",
    "        if sent == 0:\n",
    "            k.append(-1) \n",
    "        elif sent == 1:\n",
    "            k.append(1)\n",
    "        elif sent == -1:\n",
    "            k.append(0) \n",
    "    elif party == -1:\n",
    "        k.append(-1)\n",
    "df22['Bias2'] = k\n",
    "df22.to_csv(\"Publications/Edit/DBS/QT_new.csv\",index=False)"
   ]
  },
  {
   "cell_type": "markdown",
   "metadata": {},
   "source": [
    "## First Post. "
   ]
  },
  {
   "cell_type": "markdown",
   "metadata": {},
   "source": [
    "### KMeans data."
   ]
  },
  {
   "cell_type": "code",
   "execution_count": 97,
   "metadata": {},
   "outputs": [
    {
     "data": {
      "text/html": [
       "<div>\n",
       "<style scoped>\n",
       "    .dataframe tbody tr th:only-of-type {\n",
       "        vertical-align: middle;\n",
       "    }\n",
       "\n",
       "    .dataframe tbody tr th {\n",
       "        vertical-align: top;\n",
       "    }\n",
       "\n",
       "    .dataframe thead th {\n",
       "        text-align: right;\n",
       "    }\n",
       "</style>\n",
       "<table border=\"1\" class=\"dataframe\">\n",
       "  <thead>\n",
       "    <tr style=\"text-align: right;\">\n",
       "      <th></th>\n",
       "      <th>author</th>\n",
       "      <th>content</th>\n",
       "      <th>date</th>\n",
       "      <th>tag</th>\n",
       "      <th>title</th>\n",
       "      <th>url</th>\n",
       "      <th>website</th>\n",
       "      <th>Label</th>\n",
       "      <th>Party</th>\n",
       "      <th>sent1</th>\n",
       "      <th>Bias1</th>\n",
       "      <th>sent2</th>\n",
       "    </tr>\n",
       "  </thead>\n",
       "  <tbody>\n",
       "    <tr>\n",
       "      <th>0</th>\n",
       "      <td>Press Trust of India</td>\n",
       "      <td>Chief Minister Arvind Kejriwal on Wednesday or...</td>\n",
       "      <td>2018-11-29</td>\n",
       "      <td>AAP,Arvind Kejriwal,BJP,Delhi,Imran Hussain,Mo...</td>\n",
       "      <td>Arvind Kejriwal orders suspension of Delhi foo...</td>\n",
       "      <td>https://www.firstpost.com/politics/arvind-kejr...</td>\n",
       "      <td>firstpost</td>\n",
       "      <td>0</td>\n",
       "      <td>0</td>\n",
       "      <td>neu</td>\n",
       "      <td>-1</td>\n",
       "      <td>0</td>\n",
       "    </tr>\n",
       "    <tr>\n",
       "      <th>1</th>\n",
       "      <td>Press Trust of India</td>\n",
       "      <td>Slamming the revision of GDP data under the U...</td>\n",
       "      <td>2018-11-29</td>\n",
       "      <td>Anand Sharma,Arun Jaitley,BJP,Congress,GDP,Nar...</td>\n",
       "      <td>P Chidambaram calls revision of GDP data 'bad ...</td>\n",
       "      <td>https://www.firstpost.com/politics/p-chidambar...</td>\n",
       "      <td>firstpost</td>\n",
       "      <td>7</td>\n",
       "      <td>1</td>\n",
       "      <td>neu</td>\n",
       "      <td>-1</td>\n",
       "      <td>0</td>\n",
       "    </tr>\n",
       "    <tr>\n",
       "      <th>2</th>\n",
       "      <td>Press Trust of India</td>\n",
       "      <td>The HD Kumarawamy-led JD(S)-Congress ministry...</td>\n",
       "      <td>2018-11-29</td>\n",
       "      <td>Congress,Dinesh Gundu Rao,G Parameshwara,HD Ku...</td>\n",
       "      <td>Karnataka cabinet will be expanded before 10 D...</td>\n",
       "      <td>https://www.firstpost.com/politics/karnataka-c...</td>\n",
       "      <td>firstpost</td>\n",
       "      <td>7</td>\n",
       "      <td>1</td>\n",
       "      <td>neu</td>\n",
       "      <td>-1</td>\n",
       "      <td>0</td>\n",
       "    </tr>\n",
       "    <tr>\n",
       "      <th>3</th>\n",
       "      <td>Press Trust of India</td>\n",
       "      <td>: All India Majlis-e-Ittehadul Muslimeen (AIMI...</td>\n",
       "      <td>2018-11-29</td>\n",
       "      <td>AIMIM,All India Majlis-E-Ittehadul Muslimeen,A...</td>\n",
       "      <td>After Maharashtra Assembly passes quota bill, ...</td>\n",
       "      <td>https://www.firstpost.com/politics/after-mahar...</td>\n",
       "      <td>firstpost</td>\n",
       "      <td>7</td>\n",
       "      <td>1</td>\n",
       "      <td>neu</td>\n",
       "      <td>-1</td>\n",
       "      <td>0</td>\n",
       "    </tr>\n",
       "    <tr>\n",
       "      <th>4</th>\n",
       "      <td>Press Trust of India</td>\n",
       "      <td>: The Bharatiya Janata Party (BJP) Thursday co...</td>\n",
       "      <td>2018-11-29</td>\n",
       "      <td>Bharatiya Janata Party,BJP,Congress,Gorakhpur,...</td>\n",
       "      <td>Uttar Pradesh BJP chief takes jibe at Rahul Ga...</td>\n",
       "      <td>https://www.firstpost.com/politics/uttar-prade...</td>\n",
       "      <td>firstpost</td>\n",
       "      <td>13</td>\n",
       "      <td>0</td>\n",
       "      <td>neu</td>\n",
       "      <td>-1</td>\n",
       "      <td>0</td>\n",
       "    </tr>\n",
       "  </tbody>\n",
       "</table>\n",
       "</div>"
      ],
      "text/plain": [
       "                 author                                            content  \\\n",
       "0  Press Trust of India  Chief Minister Arvind Kejriwal on Wednesday or...   \n",
       "1  Press Trust of India   Slamming the revision of GDP data under the U...   \n",
       "2  Press Trust of India   The HD Kumarawamy-led JD(S)-Congress ministry...   \n",
       "3  Press Trust of India  : All India Majlis-e-Ittehadul Muslimeen (AIMI...   \n",
       "4  Press Trust of India  : The Bharatiya Janata Party (BJP) Thursday co...   \n",
       "\n",
       "         date                                                tag  \\\n",
       "0  2018-11-29  AAP,Arvind Kejriwal,BJP,Delhi,Imran Hussain,Mo...   \n",
       "1  2018-11-29  Anand Sharma,Arun Jaitley,BJP,Congress,GDP,Nar...   \n",
       "2  2018-11-29  Congress,Dinesh Gundu Rao,G Parameshwara,HD Ku...   \n",
       "3  2018-11-29  AIMIM,All India Majlis-E-Ittehadul Muslimeen,A...   \n",
       "4  2018-11-29  Bharatiya Janata Party,BJP,Congress,Gorakhpur,...   \n",
       "\n",
       "                                               title  \\\n",
       "0  Arvind Kejriwal orders suspension of Delhi foo...   \n",
       "1  P Chidambaram calls revision of GDP data 'bad ...   \n",
       "2  Karnataka cabinet will be expanded before 10 D...   \n",
       "3  After Maharashtra Assembly passes quota bill, ...   \n",
       "4  Uttar Pradesh BJP chief takes jibe at Rahul Ga...   \n",
       "\n",
       "                                                 url    website  Label  Party  \\\n",
       "0  https://www.firstpost.com/politics/arvind-kejr...  firstpost      0      0   \n",
       "1  https://www.firstpost.com/politics/p-chidambar...  firstpost      7      1   \n",
       "2  https://www.firstpost.com/politics/karnataka-c...  firstpost      7      1   \n",
       "3  https://www.firstpost.com/politics/after-mahar...  firstpost      7      1   \n",
       "4  https://www.firstpost.com/politics/uttar-prade...  firstpost     13      0   \n",
       "\n",
       "  sent1  Bias1  sent2  \n",
       "0   neu     -1      0  \n",
       "1   neu     -1      0  \n",
       "2   neu     -1      0  \n",
       "3   neu     -1      0  \n",
       "4   neu     -1      0  "
      ]
     },
     "execution_count": 97,
     "metadata": {},
     "output_type": "execute_result"
    }
   ],
   "source": [
    "df3 = pd.read_csv('Publications/Edit/KMeans/FP_new.csv')\n",
    "kmax = sentiment_textblob(df3['content'])\n",
    "df3[\"sent2\"] = kmax\n",
    "df3.to_csv(\"Publications/Edit/KMeans/FP_new.csv\", index=False)\n",
    "df3.head()"
   ]
  },
  {
   "cell_type": "code",
   "execution_count": 98,
   "metadata": {},
   "outputs": [
    {
     "data": {
      "text/plain": [
       "0    993\n",
       "1      6\n",
       "Name: sent2, dtype: int64"
      ]
     },
     "execution_count": 98,
     "metadata": {},
     "output_type": "execute_result"
    }
   ],
   "source": [
    "df3['sent2'].value_counts()"
   ]
  },
  {
   "cell_type": "code",
   "execution_count": 99,
   "metadata": {},
   "outputs": [],
   "source": [
    "k = []\n",
    "n = len(df3)\n",
    "for i in range(0,n):\n",
    "    party = df3['Party'][i]\n",
    "    sent = df3['sent2'][i]\n",
    "    if party == 0:\n",
    "        if sent == 0:\n",
    "            k.append(-1) \n",
    "        elif sent == 1:\n",
    "            k.append(0)\n",
    "        elif sent == -1:\n",
    "            k.append(1)\n",
    "    elif party == 1:\n",
    "        if sent == 0:\n",
    "            k.append(-1) \n",
    "        elif sent == 1:\n",
    "            k.append(1)\n",
    "        elif sent == -1:\n",
    "            k.append(0) \n",
    "    elif party == -1:\n",
    "        k.append(-1)\n",
    "df3['Bias2'] = k\n",
    "df3.to_csv(\"Publications/Edit/KMeans/FP_new.csv\",index=False)"
   ]
  },
  {
   "cell_type": "markdown",
   "metadata": {},
   "source": [
    "### DBScan data."
   ]
  },
  {
   "cell_type": "code",
   "execution_count": 100,
   "metadata": {},
   "outputs": [
    {
     "data": {
      "text/html": [
       "<div>\n",
       "<style scoped>\n",
       "    .dataframe tbody tr th:only-of-type {\n",
       "        vertical-align: middle;\n",
       "    }\n",
       "\n",
       "    .dataframe tbody tr th {\n",
       "        vertical-align: top;\n",
       "    }\n",
       "\n",
       "    .dataframe thead th {\n",
       "        text-align: right;\n",
       "    }\n",
       "</style>\n",
       "<table border=\"1\" class=\"dataframe\">\n",
       "  <thead>\n",
       "    <tr style=\"text-align: right;\">\n",
       "      <th></th>\n",
       "      <th>author</th>\n",
       "      <th>content</th>\n",
       "      <th>date</th>\n",
       "      <th>tag</th>\n",
       "      <th>title</th>\n",
       "      <th>url</th>\n",
       "      <th>website</th>\n",
       "      <th>Label</th>\n",
       "      <th>Party</th>\n",
       "      <th>sent1</th>\n",
       "      <th>Bias1</th>\n",
       "      <th>sent2</th>\n",
       "    </tr>\n",
       "  </thead>\n",
       "  <tbody>\n",
       "    <tr>\n",
       "      <th>0</th>\n",
       "      <td>Press Trust of India</td>\n",
       "      <td>Slamming the revision of GDP data under the U...</td>\n",
       "      <td>2018-11-29</td>\n",
       "      <td>Anand Sharma,Arun Jaitley,BJP,Congress,GDP,Nar...</td>\n",
       "      <td>P Chidambaram calls revision of GDP data 'bad ...</td>\n",
       "      <td>https://www.firstpost.com/politics/p-chidambar...</td>\n",
       "      <td>firstpost</td>\n",
       "      <td>-1</td>\n",
       "      <td>0</td>\n",
       "      <td>neu</td>\n",
       "      <td>-1</td>\n",
       "      <td>0</td>\n",
       "    </tr>\n",
       "    <tr>\n",
       "      <th>1</th>\n",
       "      <td>Press Trust of India</td>\n",
       "      <td>The HD Kumarawamy-led JD(S)-Congress ministry...</td>\n",
       "      <td>2018-11-29</td>\n",
       "      <td>Congress,Dinesh Gundu Rao,G Parameshwara,HD Ku...</td>\n",
       "      <td>Karnataka cabinet will be expanded before 10 D...</td>\n",
       "      <td>https://www.firstpost.com/politics/karnataka-c...</td>\n",
       "      <td>firstpost</td>\n",
       "      <td>-1</td>\n",
       "      <td>0</td>\n",
       "      <td>neu</td>\n",
       "      <td>-1</td>\n",
       "      <td>0</td>\n",
       "    </tr>\n",
       "    <tr>\n",
       "      <th>2</th>\n",
       "      <td>Press Trust of India</td>\n",
       "      <td>: All India Majlis-e-Ittehadul Muslimeen (AIMI...</td>\n",
       "      <td>2018-11-29</td>\n",
       "      <td>AIMIM,All India Majlis-E-Ittehadul Muslimeen,A...</td>\n",
       "      <td>After Maharashtra Assembly passes quota bill, ...</td>\n",
       "      <td>https://www.firstpost.com/politics/after-mahar...</td>\n",
       "      <td>firstpost</td>\n",
       "      <td>-1</td>\n",
       "      <td>0</td>\n",
       "      <td>neu</td>\n",
       "      <td>-1</td>\n",
       "      <td>0</td>\n",
       "    </tr>\n",
       "    <tr>\n",
       "      <th>3</th>\n",
       "      <td>Press Trust of India</td>\n",
       "      <td>: The Bharatiya Janata Party (BJP) Thursday co...</td>\n",
       "      <td>2018-11-29</td>\n",
       "      <td>Bharatiya Janata Party,BJP,Congress,Gorakhpur,...</td>\n",
       "      <td>Uttar Pradesh BJP chief takes jibe at Rahul Ga...</td>\n",
       "      <td>https://www.firstpost.com/politics/uttar-prade...</td>\n",
       "      <td>firstpost</td>\n",
       "      <td>-1</td>\n",
       "      <td>0</td>\n",
       "      <td>neu</td>\n",
       "      <td>-1</td>\n",
       "      <td>0</td>\n",
       "    </tr>\n",
       "    <tr>\n",
       "      <th>4</th>\n",
       "      <td>Indo-Asian News Service</td>\n",
       "      <td>Calling Chief Minister K Chandrasekhar Rao \"K...</td>\n",
       "      <td>2018-11-29</td>\n",
       "      <td>Assembly Election 2018,Bhupalpally,BJP-RSS,Con...</td>\n",
       "      <td>Rahul Gandhi calls KCR 'Khao Commission Rao', ...</td>\n",
       "      <td>https://www.firstpost.com/politics/rahul-gandh...</td>\n",
       "      <td>firstpost</td>\n",
       "      <td>-1</td>\n",
       "      <td>0</td>\n",
       "      <td>neu</td>\n",
       "      <td>-1</td>\n",
       "      <td>0</td>\n",
       "    </tr>\n",
       "  </tbody>\n",
       "</table>\n",
       "</div>"
      ],
      "text/plain": [
       "                    author                                            content  \\\n",
       "0     Press Trust of India   Slamming the revision of GDP data under the U...   \n",
       "1     Press Trust of India   The HD Kumarawamy-led JD(S)-Congress ministry...   \n",
       "2     Press Trust of India  : All India Majlis-e-Ittehadul Muslimeen (AIMI...   \n",
       "3     Press Trust of India  : The Bharatiya Janata Party (BJP) Thursday co...   \n",
       "4  Indo-Asian News Service   Calling Chief Minister K Chandrasekhar Rao \"K...   \n",
       "\n",
       "         date                                                tag  \\\n",
       "0  2018-11-29  Anand Sharma,Arun Jaitley,BJP,Congress,GDP,Nar...   \n",
       "1  2018-11-29  Congress,Dinesh Gundu Rao,G Parameshwara,HD Ku...   \n",
       "2  2018-11-29  AIMIM,All India Majlis-E-Ittehadul Muslimeen,A...   \n",
       "3  2018-11-29  Bharatiya Janata Party,BJP,Congress,Gorakhpur,...   \n",
       "4  2018-11-29  Assembly Election 2018,Bhupalpally,BJP-RSS,Con...   \n",
       "\n",
       "                                               title  \\\n",
       "0  P Chidambaram calls revision of GDP data 'bad ...   \n",
       "1  Karnataka cabinet will be expanded before 10 D...   \n",
       "2  After Maharashtra Assembly passes quota bill, ...   \n",
       "3  Uttar Pradesh BJP chief takes jibe at Rahul Ga...   \n",
       "4  Rahul Gandhi calls KCR 'Khao Commission Rao', ...   \n",
       "\n",
       "                                                 url    website  Label  Party  \\\n",
       "0  https://www.firstpost.com/politics/p-chidambar...  firstpost     -1      0   \n",
       "1  https://www.firstpost.com/politics/karnataka-c...  firstpost     -1      0   \n",
       "2  https://www.firstpost.com/politics/after-mahar...  firstpost     -1      0   \n",
       "3  https://www.firstpost.com/politics/uttar-prade...  firstpost     -1      0   \n",
       "4  https://www.firstpost.com/politics/rahul-gandh...  firstpost     -1      0   \n",
       "\n",
       "  sent1  Bias1  sent2  \n",
       "0   neu     -1      0  \n",
       "1   neu     -1      0  \n",
       "2   neu     -1      0  \n",
       "3   neu     -1      0  \n",
       "4   neu     -1      0  "
      ]
     },
     "execution_count": 100,
     "metadata": {},
     "output_type": "execute_result"
    }
   ],
   "source": [
    "df33 = pd.read_csv('Publications/Edit/DBS/FP_new.csv')\n",
    "kmax = sentiment_textblob(df33['content'])\n",
    "df33[\"sent2\"] = kmax\n",
    "df33.to_csv(\"Publications/Edit/DBS/FP_new.csv\", index=False)\n",
    "df33.head()"
   ]
  },
  {
   "cell_type": "code",
   "execution_count": 101,
   "metadata": {},
   "outputs": [
    {
     "data": {
      "text/plain": [
       "0    992\n",
       "1      6\n",
       "Name: sent2, dtype: int64"
      ]
     },
     "execution_count": 101,
     "metadata": {},
     "output_type": "execute_result"
    }
   ],
   "source": [
    "df33['sent2'].value_counts()"
   ]
  },
  {
   "cell_type": "code",
   "execution_count": 102,
   "metadata": {},
   "outputs": [],
   "source": [
    "k = []\n",
    "n = len(df33)\n",
    "for i in range(0,n):\n",
    "    party = df33['Party'][i]\n",
    "    sent = df33['sent2'][i]\n",
    "    if party == 0:\n",
    "        if sent == 0:\n",
    "            k.append(-1) \n",
    "        elif sent == 1:\n",
    "            k.append(0)\n",
    "        elif sent == -1:\n",
    "            k.append(1)\n",
    "    elif party == 1:\n",
    "        if sent == 0:\n",
    "            k.append(-1) \n",
    "        elif sent == 1:\n",
    "            k.append(1)\n",
    "        elif sent == -1:\n",
    "            k.append(0) \n",
    "    elif party == -1:\n",
    "        k.append(-1)\n",
    "df33['Bias2'] = k\n",
    "df33.to_csv(\"Publications/Edit/DBS/FP_new.csv\",index=False)"
   ]
  },
  {
   "cell_type": "markdown",
   "metadata": {},
   "source": [
    "# Bias Table."
   ]
  },
  {
   "cell_type": "markdown",
   "metadata": {},
   "source": [
    "## Times of India."
   ]
  },
  {
   "cell_type": "markdown",
   "metadata": {},
   "source": [
    "### KMeans data."
   ]
  },
  {
   "cell_type": "code",
   "execution_count": 103,
   "metadata": {},
   "outputs": [
    {
     "data": {
      "text/html": [
       "<div>\n",
       "<style scoped>\n",
       "    .dataframe tbody tr th:only-of-type {\n",
       "        vertical-align: middle;\n",
       "    }\n",
       "\n",
       "    .dataframe tbody tr th {\n",
       "        vertical-align: top;\n",
       "    }\n",
       "\n",
       "    .dataframe thead th {\n",
       "        text-align: right;\n",
       "    }\n",
       "</style>\n",
       "<table border=\"1\" class=\"dataframe\">\n",
       "  <thead>\n",
       "    <tr style=\"text-align: right;\">\n",
       "      <th></th>\n",
       "      <th>publish_date</th>\n",
       "      <th>headline_category</th>\n",
       "      <th>headline_text</th>\n",
       "      <th>Label</th>\n",
       "      <th>Party</th>\n",
       "      <th>sent1</th>\n",
       "      <th>Bias1</th>\n",
       "      <th>sent2</th>\n",
       "      <th>Bias2</th>\n",
       "    </tr>\n",
       "  </thead>\n",
       "  <tbody>\n",
       "    <tr>\n",
       "      <th>0</th>\n",
       "      <td>20120624</td>\n",
       "      <td>india</td>\n",
       "      <td>NCPCR seeks explanation from Haryana govt</td>\n",
       "      <td>3</td>\n",
       "      <td>1</td>\n",
       "      <td>neu</td>\n",
       "      <td>-1</td>\n",
       "      <td>0</td>\n",
       "      <td>-1</td>\n",
       "    </tr>\n",
       "    <tr>\n",
       "      <th>1</th>\n",
       "      <td>20170417</td>\n",
       "      <td>city.indore</td>\n",
       "      <td>HC on alleged Simhastha irregularities: Take i...</td>\n",
       "      <td>0</td>\n",
       "      <td>0</td>\n",
       "      <td>neu</td>\n",
       "      <td>-1</td>\n",
       "      <td>0</td>\n",
       "      <td>-1</td>\n",
       "    </tr>\n",
       "    <tr>\n",
       "      <th>2</th>\n",
       "      <td>20181014</td>\n",
       "      <td>city.bhopal</td>\n",
       "      <td>Rahul to visit Datia; Gwalior from Monday</td>\n",
       "      <td>0</td>\n",
       "      <td>0</td>\n",
       "      <td>neu</td>\n",
       "      <td>-1</td>\n",
       "      <td>0</td>\n",
       "      <td>-1</td>\n",
       "    </tr>\n",
       "    <tr>\n",
       "      <th>3</th>\n",
       "      <td>20170920</td>\n",
       "      <td>sports.football</td>\n",
       "      <td>Premier Futsal: Bengaluru Royals rout Mumbai W...</td>\n",
       "      <td>13</td>\n",
       "      <td>1</td>\n",
       "      <td>neu</td>\n",
       "      <td>-1</td>\n",
       "      <td>0</td>\n",
       "      <td>-1</td>\n",
       "    </tr>\n",
       "    <tr>\n",
       "      <th>4</th>\n",
       "      <td>20090824</td>\n",
       "      <td>city.mysuru</td>\n",
       "      <td>Assembly session will focus on people's proble...</td>\n",
       "      <td>3</td>\n",
       "      <td>1</td>\n",
       "      <td>neu</td>\n",
       "      <td>-1</td>\n",
       "      <td>0</td>\n",
       "      <td>-1</td>\n",
       "    </tr>\n",
       "  </tbody>\n",
       "</table>\n",
       "</div>"
      ],
      "text/plain": [
       "   publish_date headline_category  \\\n",
       "0      20120624             india   \n",
       "1      20170417       city.indore   \n",
       "2      20181014       city.bhopal   \n",
       "3      20170920   sports.football   \n",
       "4      20090824       city.mysuru   \n",
       "\n",
       "                                       headline_text  Label  Party sent1  \\\n",
       "0          NCPCR seeks explanation from Haryana govt      3      1   neu   \n",
       "1  HC on alleged Simhastha irregularities: Take i...      0      0   neu   \n",
       "2          Rahul to visit Datia; Gwalior from Monday      0      0   neu   \n",
       "3  Premier Futsal: Bengaluru Royals rout Mumbai W...     13      1   neu   \n",
       "4  Assembly session will focus on people's proble...      3      1   neu   \n",
       "\n",
       "   Bias1  sent2  Bias2  \n",
       "0     -1      0     -1  \n",
       "1     -1      0     -1  \n",
       "2     -1      0     -1  \n",
       "3     -1      0     -1  \n",
       "4     -1      0     -1  "
      ]
     },
     "execution_count": 103,
     "metadata": {},
     "output_type": "execute_result"
    }
   ],
   "source": [
    "df1 = pd.read_csv('Publications/Edit/KMeans/TOI_new.csv')\n",
    "df1.head()"
   ]
  },
  {
   "cell_type": "markdown",
   "metadata": {},
   "source": [
    "Bias by vader."
   ]
  },
  {
   "cell_type": "code",
   "execution_count": 104,
   "metadata": {},
   "outputs": [
    {
     "name": "stdout",
     "output_type": "stream",
     "text": [
      "Left bias = 68\n",
      "Right bias = 33\n",
      "No bias = 898\n"
     ]
    }
   ],
   "source": [
    "neu = 0\n",
    "left = 0\n",
    "right = 0\n",
    "for bias in df1['Bias1']:\n",
    "    if bias == -1:\n",
    "        neu = neu + 1\n",
    "    elif bias == 0:\n",
    "        left = left + 1\n",
    "    elif bias == 1:\n",
    "        right = right + 1\n",
    "print(\"Left bias =\",left)\n",
    "print(\"Right bias =\",right)        \n",
    "print(\"No bias =\",neu)        "
   ]
  },
  {
   "cell_type": "markdown",
   "metadata": {},
   "source": [
    "Bias by textblob."
   ]
  },
  {
   "cell_type": "code",
   "execution_count": 105,
   "metadata": {},
   "outputs": [
    {
     "name": "stdout",
     "output_type": "stream",
     "text": [
      "Left bias = 66\n",
      "Right bias = 53\n",
      "No bias = 880\n"
     ]
    }
   ],
   "source": [
    "neu = 0\n",
    "left = 0\n",
    "right = 0\n",
    "for bias in df1['Bias2']:\n",
    "    if bias == -1:\n",
    "        neu = neu + 1\n",
    "    elif bias == 0:\n",
    "        left = left + 1\n",
    "    elif bias == 1:\n",
    "        right = right + 1\n",
    "print(\"Left bias =\",left)\n",
    "print(\"Right bias =\",right)        \n",
    "print(\"No bias =\",neu)  "
   ]
  },
  {
   "cell_type": "markdown",
   "metadata": {},
   "source": [
    "### DBScan data."
   ]
  },
  {
   "cell_type": "code",
   "execution_count": 106,
   "metadata": {},
   "outputs": [
    {
     "data": {
      "text/html": [
       "<div>\n",
       "<style scoped>\n",
       "    .dataframe tbody tr th:only-of-type {\n",
       "        vertical-align: middle;\n",
       "    }\n",
       "\n",
       "    .dataframe tbody tr th {\n",
       "        vertical-align: top;\n",
       "    }\n",
       "\n",
       "    .dataframe thead th {\n",
       "        text-align: right;\n",
       "    }\n",
       "</style>\n",
       "<table border=\"1\" class=\"dataframe\">\n",
       "  <thead>\n",
       "    <tr style=\"text-align: right;\">\n",
       "      <th></th>\n",
       "      <th>publish_date</th>\n",
       "      <th>headline_category</th>\n",
       "      <th>headline_text</th>\n",
       "      <th>Label</th>\n",
       "      <th>Party</th>\n",
       "      <th>sent1</th>\n",
       "      <th>Bias1</th>\n",
       "      <th>sent2</th>\n",
       "      <th>Bias2</th>\n",
       "    </tr>\n",
       "  </thead>\n",
       "  <tbody>\n",
       "    <tr>\n",
       "      <th>0</th>\n",
       "      <td>20170417</td>\n",
       "      <td>city.indore</td>\n",
       "      <td>HC on alleged Simhastha irregularities: Take i...</td>\n",
       "      <td>0</td>\n",
       "      <td>0</td>\n",
       "      <td>neu</td>\n",
       "      <td>-1</td>\n",
       "      <td>0</td>\n",
       "      <td>-1</td>\n",
       "    </tr>\n",
       "    <tr>\n",
       "      <th>1</th>\n",
       "      <td>20181014</td>\n",
       "      <td>city.bhopal</td>\n",
       "      <td>Rahul to visit Datia; Gwalior from Monday</td>\n",
       "      <td>0</td>\n",
       "      <td>0</td>\n",
       "      <td>neu</td>\n",
       "      <td>-1</td>\n",
       "      <td>0</td>\n",
       "      <td>-1</td>\n",
       "    </tr>\n",
       "    <tr>\n",
       "      <th>2</th>\n",
       "      <td>20170920</td>\n",
       "      <td>sports.football</td>\n",
       "      <td>Premier Futsal: Bengaluru Royals rout Mumbai W...</td>\n",
       "      <td>0</td>\n",
       "      <td>0</td>\n",
       "      <td>neu</td>\n",
       "      <td>-1</td>\n",
       "      <td>0</td>\n",
       "      <td>-1</td>\n",
       "    </tr>\n",
       "    <tr>\n",
       "      <th>3</th>\n",
       "      <td>20090824</td>\n",
       "      <td>city.mysuru</td>\n",
       "      <td>Assembly session will focus on people's proble...</td>\n",
       "      <td>0</td>\n",
       "      <td>0</td>\n",
       "      <td>neu</td>\n",
       "      <td>-1</td>\n",
       "      <td>0</td>\n",
       "      <td>-1</td>\n",
       "    </tr>\n",
       "    <tr>\n",
       "      <th>4</th>\n",
       "      <td>20110801</td>\n",
       "      <td>city.ranchi</td>\n",
       "      <td>Nine die in lightning strikes</td>\n",
       "      <td>0</td>\n",
       "      <td>0</td>\n",
       "      <td>neg</td>\n",
       "      <td>1</td>\n",
       "      <td>0</td>\n",
       "      <td>-1</td>\n",
       "    </tr>\n",
       "  </tbody>\n",
       "</table>\n",
       "</div>"
      ],
      "text/plain": [
       "   publish_date headline_category  \\\n",
       "0      20170417       city.indore   \n",
       "1      20181014       city.bhopal   \n",
       "2      20170920   sports.football   \n",
       "3      20090824       city.mysuru   \n",
       "4      20110801       city.ranchi   \n",
       "\n",
       "                                       headline_text  Label  Party sent1  \\\n",
       "0  HC on alleged Simhastha irregularities: Take i...      0      0   neu   \n",
       "1          Rahul to visit Datia; Gwalior from Monday      0      0   neu   \n",
       "2  Premier Futsal: Bengaluru Royals rout Mumbai W...      0      0   neu   \n",
       "3  Assembly session will focus on people's proble...      0      0   neu   \n",
       "4                      Nine die in lightning strikes      0      0   neg   \n",
       "\n",
       "   Bias1  sent2  Bias2  \n",
       "0     -1      0     -1  \n",
       "1     -1      0     -1  \n",
       "2     -1      0     -1  \n",
       "3     -1      0     -1  \n",
       "4      1      0     -1  "
      ]
     },
     "execution_count": 106,
     "metadata": {},
     "output_type": "execute_result"
    }
   ],
   "source": [
    "df11 = pd.read_csv('Publications/Edit/DBS/TOI_new.csv')\n",
    "df11.head()"
   ]
  },
  {
   "cell_type": "markdown",
   "metadata": {},
   "source": [
    "Bias by vader."
   ]
  },
  {
   "cell_type": "code",
   "execution_count": 107,
   "metadata": {},
   "outputs": [
    {
     "name": "stdout",
     "output_type": "stream",
     "text": [
      "Left bias = 42\n",
      "Right bias = 47\n",
      "No bias = 909\n"
     ]
    }
   ],
   "source": [
    "neu = 0\n",
    "left = 0\n",
    "right = 0\n",
    "for bias in df11['Bias1']:\n",
    "    if bias == -1:\n",
    "        neu = neu + 1\n",
    "    elif bias == 0:\n",
    "        left = left + 1\n",
    "    elif bias == 1:\n",
    "        right = right + 1\n",
    "print(\"Left bias =\",left)\n",
    "print(\"Right bias =\",right)        \n",
    "print(\"No bias =\",neu)  "
   ]
  },
  {
   "cell_type": "markdown",
   "metadata": {},
   "source": [
    "Bias by textblob."
   ]
  },
  {
   "cell_type": "code",
   "execution_count": 108,
   "metadata": {},
   "outputs": [
    {
     "name": "stdout",
     "output_type": "stream",
     "text": [
      "Left bias = 58\n",
      "Right bias = 49\n",
      "No bias = 891\n"
     ]
    }
   ],
   "source": [
    "neu = 0\n",
    "left = 0\n",
    "right = 0\n",
    "for bias in df11['Bias2']:\n",
    "    if bias == -1:\n",
    "        neu = neu + 1\n",
    "    elif bias == 0:\n",
    "        left = left + 1\n",
    "    elif bias == 1:\n",
    "        right = right + 1\n",
    "print(\"Left bias =\",left)\n",
    "print(\"Right bias =\",right)        \n",
    "print(\"No bias =\",neu)"
   ]
  },
  {
   "cell_type": "markdown",
   "metadata": {},
   "source": [
    "## Quint."
   ]
  },
  {
   "cell_type": "markdown",
   "metadata": {},
   "source": [
    "### KMeans data."
   ]
  },
  {
   "cell_type": "code",
   "execution_count": 109,
   "metadata": {},
   "outputs": [
    {
     "data": {
      "text/html": [
       "<div>\n",
       "<style scoped>\n",
       "    .dataframe tbody tr th:only-of-type {\n",
       "        vertical-align: middle;\n",
       "    }\n",
       "\n",
       "    .dataframe tbody tr th {\n",
       "        vertical-align: top;\n",
       "    }\n",
       "\n",
       "    .dataframe thead th {\n",
       "        text-align: right;\n",
       "    }\n",
       "</style>\n",
       "<table border=\"1\" class=\"dataframe\">\n",
       "  <thead>\n",
       "    <tr style=\"text-align: right;\">\n",
       "      <th></th>\n",
       "      <th>author</th>\n",
       "      <th>content</th>\n",
       "      <th>date</th>\n",
       "      <th>tag</th>\n",
       "      <th>title</th>\n",
       "      <th>url</th>\n",
       "      <th>website</th>\n",
       "      <th>Label</th>\n",
       "      <th>Party</th>\n",
       "      <th>sent1</th>\n",
       "      <th>Bias1</th>\n",
       "      <th>sent2</th>\n",
       "      <th>Bias2</th>\n",
       "    </tr>\n",
       "  </thead>\n",
       "  <tbody>\n",
       "    <tr>\n",
       "      <th>0</th>\n",
       "      <td>Pushpesh Pant</td>\n",
       "      <td>Swami Vivekananda ranks among the highest in t...</td>\n",
       "      <td>2018-07-03</td>\n",
       "      <td>Swami Vivekananda,Hinduism,Tolerance,Politics ...</td>\n",
       "      <td>Swami Vivekananda’s 156th Birth Anniversary 20...</td>\n",
       "      <td>https://www.thequint.com/voices/opinion/swami-...</td>\n",
       "      <td>quint</td>\n",
       "      <td>0</td>\n",
       "      <td>1</td>\n",
       "      <td>neu</td>\n",
       "      <td>-1</td>\n",
       "      <td>0</td>\n",
       "      <td>-1</td>\n",
       "    </tr>\n",
       "    <tr>\n",
       "      <th>1</th>\n",
       "      <td>Meeran Chadha Borwankar</td>\n",
       "      <td>In the news for the wrong reasons, the Central...</td>\n",
       "      <td>2018-07-18</td>\n",
       "      <td>Modi Government,Central Bureau of Investigatio...</td>\n",
       "      <td>Rift Between CBI Chief &amp; Special Director: Thi...</td>\n",
       "      <td>https://www.thequint.com/voices/opinion/cbi-co...</td>\n",
       "      <td>quint</td>\n",
       "      <td>5</td>\n",
       "      <td>1</td>\n",
       "      <td>neu</td>\n",
       "      <td>-1</td>\n",
       "      <td>0</td>\n",
       "      <td>-1</td>\n",
       "    </tr>\n",
       "    <tr>\n",
       "      <th>2</th>\n",
       "      <td>Mayukh Ghosh</td>\n",
       "      <td>Reminiscing about the past is a dreadful tool ...</td>\n",
       "      <td>2018-05-14</td>\n",
       "      <td>Satyajit Ray,Shyam Benegal,Smita Patil,Politic...</td>\n",
       "      <td>The Late Filmmaker Mrinal Sen’s ‘Cinema of Res...</td>\n",
       "      <td>https://www.thequint.com/entertainment/indian-...</td>\n",
       "      <td>quint</td>\n",
       "      <td>0</td>\n",
       "      <td>1</td>\n",
       "      <td>neu</td>\n",
       "      <td>-1</td>\n",
       "      <td>0</td>\n",
       "      <td>-1</td>\n",
       "    </tr>\n",
       "    <tr>\n",
       "      <th>3</th>\n",
       "      <td>Akanksha Kumar</td>\n",
       "      <td>: Akanksha Kumar : Sandeep Suman Twenty-three ...</td>\n",
       "      <td>2018-04-30</td>\n",
       "      <td>Tihar Jail,Supreme Court of India,Life Impriso...</td>\n",
       "      <td>Tandoor Murder: Former Delhi Police Joint Comm...</td>\n",
       "      <td>https://www.thequint.com/videos/news-videos/ho...</td>\n",
       "      <td>quint</td>\n",
       "      <td>0</td>\n",
       "      <td>1</td>\n",
       "      <td>neu</td>\n",
       "      <td>-1</td>\n",
       "      <td>0</td>\n",
       "      <td>-1</td>\n",
       "    </tr>\n",
       "    <tr>\n",
       "      <th>4</th>\n",
       "      <td>Poonam Agarwal</td>\n",
       "      <td>As many as 92 witnesses in the Sohrabuddin fak...</td>\n",
       "      <td>2018-01-29</td>\n",
       "      <td>Sohrabuddin Sheikh Encounter,Kausarbi,fake enc...</td>\n",
       "      <td>Sohrabuddin Encounter: Details of 30 Witnesses...</td>\n",
       "      <td>https://www.thequint.com/news/india/sohrabuddi...</td>\n",
       "      <td>quint</td>\n",
       "      <td>0</td>\n",
       "      <td>1</td>\n",
       "      <td>neu</td>\n",
       "      <td>-1</td>\n",
       "      <td>0</td>\n",
       "      <td>-1</td>\n",
       "    </tr>\n",
       "  </tbody>\n",
       "</table>\n",
       "</div>"
      ],
      "text/plain": [
       "                    author                                            content  \\\n",
       "0            Pushpesh Pant  Swami Vivekananda ranks among the highest in t...   \n",
       "1  Meeran Chadha Borwankar  In the news for the wrong reasons, the Central...   \n",
       "2             Mayukh Ghosh  Reminiscing about the past is a dreadful tool ...   \n",
       "3           Akanksha Kumar  : Akanksha Kumar : Sandeep Suman Twenty-three ...   \n",
       "4           Poonam Agarwal  As many as 92 witnesses in the Sohrabuddin fak...   \n",
       "\n",
       "         date                                                tag  \\\n",
       "0  2018-07-03  Swami Vivekananda,Hinduism,Tolerance,Politics ...   \n",
       "1  2018-07-18  Modi Government,Central Bureau of Investigatio...   \n",
       "2  2018-05-14  Satyajit Ray,Shyam Benegal,Smita Patil,Politic...   \n",
       "3  2018-04-30  Tihar Jail,Supreme Court of India,Life Impriso...   \n",
       "4  2018-01-29  Sohrabuddin Sheikh Encounter,Kausarbi,fake enc...   \n",
       "\n",
       "                                               title  \\\n",
       "0  Swami Vivekananda’s 156th Birth Anniversary 20...   \n",
       "1  Rift Between CBI Chief & Special Director: Thi...   \n",
       "2  The Late Filmmaker Mrinal Sen’s ‘Cinema of Res...   \n",
       "3  Tandoor Murder: Former Delhi Police Joint Comm...   \n",
       "4  Sohrabuddin Encounter: Details of 30 Witnesses...   \n",
       "\n",
       "                                                 url website  Label  Party  \\\n",
       "0  https://www.thequint.com/voices/opinion/swami-...   quint      0      1   \n",
       "1  https://www.thequint.com/voices/opinion/cbi-co...   quint      5      1   \n",
       "2  https://www.thequint.com/entertainment/indian-...   quint      0      1   \n",
       "3  https://www.thequint.com/videos/news-videos/ho...   quint      0      1   \n",
       "4  https://www.thequint.com/news/india/sohrabuddi...   quint      0      1   \n",
       "\n",
       "  sent1  Bias1  sent2  Bias2  \n",
       "0   neu     -1      0     -1  \n",
       "1   neu     -1      0     -1  \n",
       "2   neu     -1      0     -1  \n",
       "3   neu     -1      0     -1  \n",
       "4   neu     -1      0     -1  "
      ]
     },
     "execution_count": 109,
     "metadata": {},
     "output_type": "execute_result"
    }
   ],
   "source": [
    "df2 = pd.read_csv('Publications/Edit/KMeans/QT_new.csv')\n",
    "df2.head()"
   ]
  },
  {
   "cell_type": "markdown",
   "metadata": {},
   "source": [
    "Bias by vader."
   ]
  },
  {
   "cell_type": "code",
   "execution_count": 110,
   "metadata": {},
   "outputs": [
    {
     "name": "stdout",
     "output_type": "stream",
     "text": [
      "Left bias = 0\n",
      "Right bias = 0\n",
      "No bias = 999\n"
     ]
    }
   ],
   "source": [
    "neu = 0\n",
    "left = 0\n",
    "right = 0\n",
    "for bias in df2['Bias1']:\n",
    "    if bias == -1:\n",
    "        neu = neu + 1\n",
    "    elif bias == 0:\n",
    "        left = left + 1\n",
    "    elif bias == 1:\n",
    "        right = right + 1\n",
    "print(\"Left bias =\",left)\n",
    "print(\"Right bias =\",right)        \n",
    "print(\"No bias =\",neu)"
   ]
  },
  {
   "cell_type": "markdown",
   "metadata": {},
   "source": [
    "Bias by textblob."
   ]
  },
  {
   "cell_type": "code",
   "execution_count": 111,
   "metadata": {},
   "outputs": [
    {
     "name": "stdout",
     "output_type": "stream",
     "text": [
      "Left bias = 1\n",
      "Right bias = 4\n",
      "No bias = 994\n"
     ]
    }
   ],
   "source": [
    "neu = 0\n",
    "left = 0\n",
    "right = 0\n",
    "for bias in df2['Bias2']:\n",
    "    if bias == -1:\n",
    "        neu = neu + 1\n",
    "    elif bias == 0:\n",
    "        left = left + 1\n",
    "    elif bias == 1:\n",
    "        right = right + 1\n",
    "print(\"Left bias =\",left)\n",
    "print(\"Right bias =\",right)        \n",
    "print(\"No bias =\",neu)"
   ]
  },
  {
   "cell_type": "markdown",
   "metadata": {},
   "source": [
    "### DBScan data."
   ]
  },
  {
   "cell_type": "code",
   "execution_count": 112,
   "metadata": {},
   "outputs": [
    {
     "data": {
      "text/html": [
       "<div>\n",
       "<style scoped>\n",
       "    .dataframe tbody tr th:only-of-type {\n",
       "        vertical-align: middle;\n",
       "    }\n",
       "\n",
       "    .dataframe tbody tr th {\n",
       "        vertical-align: top;\n",
       "    }\n",
       "\n",
       "    .dataframe thead th {\n",
       "        text-align: right;\n",
       "    }\n",
       "</style>\n",
       "<table border=\"1\" class=\"dataframe\">\n",
       "  <thead>\n",
       "    <tr style=\"text-align: right;\">\n",
       "      <th></th>\n",
       "      <th>author</th>\n",
       "      <th>content</th>\n",
       "      <th>date</th>\n",
       "      <th>tag</th>\n",
       "      <th>title</th>\n",
       "      <th>url</th>\n",
       "      <th>website</th>\n",
       "      <th>Label</th>\n",
       "      <th>Party</th>\n",
       "      <th>sent1</th>\n",
       "      <th>Bias1</th>\n",
       "      <th>sent2</th>\n",
       "      <th>Bias2</th>\n",
       "    </tr>\n",
       "  </thead>\n",
       "  <tbody>\n",
       "    <tr>\n",
       "      <th>0</th>\n",
       "      <td>Meeran Chadha Borwankar</td>\n",
       "      <td>In the news for the wrong reasons, the Central...</td>\n",
       "      <td>2018-07-18</td>\n",
       "      <td>Modi Government,Central Bureau of Investigatio...</td>\n",
       "      <td>Rift Between CBI Chief &amp; Special Director: Thi...</td>\n",
       "      <td>https://www.thequint.com/voices/opinion/cbi-co...</td>\n",
       "      <td>quint</td>\n",
       "      <td>-1</td>\n",
       "      <td>0</td>\n",
       "      <td>neu</td>\n",
       "      <td>-1</td>\n",
       "      <td>0</td>\n",
       "      <td>-1</td>\n",
       "    </tr>\n",
       "    <tr>\n",
       "      <th>1</th>\n",
       "      <td>Mayukh Ghosh</td>\n",
       "      <td>Reminiscing about the past is a dreadful tool ...</td>\n",
       "      <td>2018-05-14</td>\n",
       "      <td>Satyajit Ray,Shyam Benegal,Smita Patil,Politic...</td>\n",
       "      <td>The Late Filmmaker Mrinal Sen’s ‘Cinema of Res...</td>\n",
       "      <td>https://www.thequint.com/entertainment/indian-...</td>\n",
       "      <td>quint</td>\n",
       "      <td>-1</td>\n",
       "      <td>0</td>\n",
       "      <td>neu</td>\n",
       "      <td>-1</td>\n",
       "      <td>0</td>\n",
       "      <td>-1</td>\n",
       "    </tr>\n",
       "    <tr>\n",
       "      <th>2</th>\n",
       "      <td>Akanksha Kumar</td>\n",
       "      <td>: Akanksha Kumar : Sandeep Suman Twenty-three ...</td>\n",
       "      <td>2018-04-30</td>\n",
       "      <td>Tihar Jail,Supreme Court of India,Life Impriso...</td>\n",
       "      <td>Tandoor Murder: Former Delhi Police Joint Comm...</td>\n",
       "      <td>https://www.thequint.com/videos/news-videos/ho...</td>\n",
       "      <td>quint</td>\n",
       "      <td>-1</td>\n",
       "      <td>0</td>\n",
       "      <td>neu</td>\n",
       "      <td>-1</td>\n",
       "      <td>0</td>\n",
       "      <td>-1</td>\n",
       "    </tr>\n",
       "    <tr>\n",
       "      <th>3</th>\n",
       "      <td>Poonam Agarwal</td>\n",
       "      <td>As many as 92 witnesses in the Sohrabuddin fak...</td>\n",
       "      <td>2018-01-29</td>\n",
       "      <td>Sohrabuddin Sheikh Encounter,Kausarbi,fake enc...</td>\n",
       "      <td>Sohrabuddin Encounter: Details of 30 Witnesses...</td>\n",
       "      <td>https://www.thequint.com/news/india/sohrabuddi...</td>\n",
       "      <td>quint</td>\n",
       "      <td>-1</td>\n",
       "      <td>0</td>\n",
       "      <td>neu</td>\n",
       "      <td>-1</td>\n",
       "      <td>0</td>\n",
       "      <td>-1</td>\n",
       "    </tr>\n",
       "    <tr>\n",
       "      <th>4</th>\n",
       "      <td>The Quint</td>\n",
       "      <td>Purnendu Pritam With heavy rains, thunderstorm...</td>\n",
       "      <td>2018-06-14</td>\n",
       "      <td>Assam,United States,AIADMK,QWrap,FIFA,Anand L ...</td>\n",
       "      <td>Today’s News in Videos: Rains, Thunderstorms, ...</td>\n",
       "      <td>https://www.thequint.com/videos/news-videos/la...</td>\n",
       "      <td>quint</td>\n",
       "      <td>-1</td>\n",
       "      <td>0</td>\n",
       "      <td>neu</td>\n",
       "      <td>-1</td>\n",
       "      <td>0</td>\n",
       "      <td>-1</td>\n",
       "    </tr>\n",
       "  </tbody>\n",
       "</table>\n",
       "</div>"
      ],
      "text/plain": [
       "                    author                                            content  \\\n",
       "0  Meeran Chadha Borwankar  In the news for the wrong reasons, the Central...   \n",
       "1             Mayukh Ghosh  Reminiscing about the past is a dreadful tool ...   \n",
       "2           Akanksha Kumar  : Akanksha Kumar : Sandeep Suman Twenty-three ...   \n",
       "3           Poonam Agarwal  As many as 92 witnesses in the Sohrabuddin fak...   \n",
       "4                The Quint  Purnendu Pritam With heavy rains, thunderstorm...   \n",
       "\n",
       "         date                                                tag  \\\n",
       "0  2018-07-18  Modi Government,Central Bureau of Investigatio...   \n",
       "1  2018-05-14  Satyajit Ray,Shyam Benegal,Smita Patil,Politic...   \n",
       "2  2018-04-30  Tihar Jail,Supreme Court of India,Life Impriso...   \n",
       "3  2018-01-29  Sohrabuddin Sheikh Encounter,Kausarbi,fake enc...   \n",
       "4  2018-06-14  Assam,United States,AIADMK,QWrap,FIFA,Anand L ...   \n",
       "\n",
       "                                               title  \\\n",
       "0  Rift Between CBI Chief & Special Director: Thi...   \n",
       "1  The Late Filmmaker Mrinal Sen’s ‘Cinema of Res...   \n",
       "2  Tandoor Murder: Former Delhi Police Joint Comm...   \n",
       "3  Sohrabuddin Encounter: Details of 30 Witnesses...   \n",
       "4  Today’s News in Videos: Rains, Thunderstorms, ...   \n",
       "\n",
       "                                                 url website  Label  Party  \\\n",
       "0  https://www.thequint.com/voices/opinion/cbi-co...   quint     -1      0   \n",
       "1  https://www.thequint.com/entertainment/indian-...   quint     -1      0   \n",
       "2  https://www.thequint.com/videos/news-videos/ho...   quint     -1      0   \n",
       "3  https://www.thequint.com/news/india/sohrabuddi...   quint     -1      0   \n",
       "4  https://www.thequint.com/videos/news-videos/la...   quint     -1      0   \n",
       "\n",
       "  sent1  Bias1  sent2  Bias2  \n",
       "0   neu     -1      0     -1  \n",
       "1   neu     -1      0     -1  \n",
       "2   neu     -1      0     -1  \n",
       "3   neu     -1      0     -1  \n",
       "4   neu     -1      0     -1  "
      ]
     },
     "execution_count": 112,
     "metadata": {},
     "output_type": "execute_result"
    }
   ],
   "source": [
    "df22 = pd.read_csv('Publications/Edit/DBS/QT_new.csv')\n",
    "df22.head()"
   ]
  },
  {
   "cell_type": "markdown",
   "metadata": {},
   "source": [
    "Bias by vader."
   ]
  },
  {
   "cell_type": "code",
   "execution_count": 113,
   "metadata": {},
   "outputs": [
    {
     "name": "stdout",
     "output_type": "stream",
     "text": [
      "Left bias = 0\n",
      "Right bias = 0\n",
      "No bias = 998\n"
     ]
    }
   ],
   "source": [
    "neu = 0\n",
    "left = 0\n",
    "right = 0\n",
    "for bias in df22['Bias1']:\n",
    "    if bias == -1:\n",
    "        neu = neu + 1\n",
    "    elif bias == 0:\n",
    "        left = left + 1\n",
    "    elif bias == 1:\n",
    "        right = right + 1\n",
    "print(\"Left bias =\",left)\n",
    "print(\"Right bias =\",right)        \n",
    "print(\"No bias =\",neu)"
   ]
  },
  {
   "cell_type": "markdown",
   "metadata": {},
   "source": [
    "Bias by textblob."
   ]
  },
  {
   "cell_type": "code",
   "execution_count": 114,
   "metadata": {},
   "outputs": [
    {
     "name": "stdout",
     "output_type": "stream",
     "text": [
      "Left bias = 5\n",
      "Right bias = 0\n",
      "No bias = 993\n"
     ]
    }
   ],
   "source": [
    "neu = 0\n",
    "left = 0\n",
    "right = 0\n",
    "for bias in df22['Bias2']:\n",
    "    if bias == -1:\n",
    "        neu = neu + 1\n",
    "    elif bias == 0:\n",
    "        left = left + 1\n",
    "    elif bias == 1:\n",
    "        right = right + 1\n",
    "print(\"Left bias =\",left)\n",
    "print(\"Right bias =\",right)        \n",
    "print(\"No bias =\",neu)"
   ]
  },
  {
   "cell_type": "markdown",
   "metadata": {},
   "source": [
    "## First Post."
   ]
  },
  {
   "cell_type": "markdown",
   "metadata": {},
   "source": [
    "### KMeans data. "
   ]
  },
  {
   "cell_type": "code",
   "execution_count": 115,
   "metadata": {},
   "outputs": [
    {
     "data": {
      "text/html": [
       "<div>\n",
       "<style scoped>\n",
       "    .dataframe tbody tr th:only-of-type {\n",
       "        vertical-align: middle;\n",
       "    }\n",
       "\n",
       "    .dataframe tbody tr th {\n",
       "        vertical-align: top;\n",
       "    }\n",
       "\n",
       "    .dataframe thead th {\n",
       "        text-align: right;\n",
       "    }\n",
       "</style>\n",
       "<table border=\"1\" class=\"dataframe\">\n",
       "  <thead>\n",
       "    <tr style=\"text-align: right;\">\n",
       "      <th></th>\n",
       "      <th>author</th>\n",
       "      <th>content</th>\n",
       "      <th>date</th>\n",
       "      <th>tag</th>\n",
       "      <th>title</th>\n",
       "      <th>url</th>\n",
       "      <th>website</th>\n",
       "      <th>Label</th>\n",
       "      <th>Party</th>\n",
       "      <th>sent1</th>\n",
       "      <th>Bias1</th>\n",
       "      <th>sent2</th>\n",
       "      <th>Bias2</th>\n",
       "    </tr>\n",
       "  </thead>\n",
       "  <tbody>\n",
       "    <tr>\n",
       "      <th>0</th>\n",
       "      <td>Press Trust of India</td>\n",
       "      <td>Chief Minister Arvind Kejriwal on Wednesday or...</td>\n",
       "      <td>2018-11-29</td>\n",
       "      <td>AAP,Arvind Kejriwal,BJP,Delhi,Imran Hussain,Mo...</td>\n",
       "      <td>Arvind Kejriwal orders suspension of Delhi foo...</td>\n",
       "      <td>https://www.firstpost.com/politics/arvind-kejr...</td>\n",
       "      <td>firstpost</td>\n",
       "      <td>0</td>\n",
       "      <td>0</td>\n",
       "      <td>neu</td>\n",
       "      <td>-1</td>\n",
       "      <td>0</td>\n",
       "      <td>-1</td>\n",
       "    </tr>\n",
       "    <tr>\n",
       "      <th>1</th>\n",
       "      <td>Press Trust of India</td>\n",
       "      <td>Slamming the revision of GDP data under the U...</td>\n",
       "      <td>2018-11-29</td>\n",
       "      <td>Anand Sharma,Arun Jaitley,BJP,Congress,GDP,Nar...</td>\n",
       "      <td>P Chidambaram calls revision of GDP data 'bad ...</td>\n",
       "      <td>https://www.firstpost.com/politics/p-chidambar...</td>\n",
       "      <td>firstpost</td>\n",
       "      <td>7</td>\n",
       "      <td>1</td>\n",
       "      <td>neu</td>\n",
       "      <td>-1</td>\n",
       "      <td>0</td>\n",
       "      <td>-1</td>\n",
       "    </tr>\n",
       "    <tr>\n",
       "      <th>2</th>\n",
       "      <td>Press Trust of India</td>\n",
       "      <td>The HD Kumarawamy-led JD(S)-Congress ministry...</td>\n",
       "      <td>2018-11-29</td>\n",
       "      <td>Congress,Dinesh Gundu Rao,G Parameshwara,HD Ku...</td>\n",
       "      <td>Karnataka cabinet will be expanded before 10 D...</td>\n",
       "      <td>https://www.firstpost.com/politics/karnataka-c...</td>\n",
       "      <td>firstpost</td>\n",
       "      <td>7</td>\n",
       "      <td>1</td>\n",
       "      <td>neu</td>\n",
       "      <td>-1</td>\n",
       "      <td>0</td>\n",
       "      <td>-1</td>\n",
       "    </tr>\n",
       "    <tr>\n",
       "      <th>3</th>\n",
       "      <td>Press Trust of India</td>\n",
       "      <td>: All India Majlis-e-Ittehadul Muslimeen (AIMI...</td>\n",
       "      <td>2018-11-29</td>\n",
       "      <td>AIMIM,All India Majlis-E-Ittehadul Muslimeen,A...</td>\n",
       "      <td>After Maharashtra Assembly passes quota bill, ...</td>\n",
       "      <td>https://www.firstpost.com/politics/after-mahar...</td>\n",
       "      <td>firstpost</td>\n",
       "      <td>7</td>\n",
       "      <td>1</td>\n",
       "      <td>neu</td>\n",
       "      <td>-1</td>\n",
       "      <td>0</td>\n",
       "      <td>-1</td>\n",
       "    </tr>\n",
       "    <tr>\n",
       "      <th>4</th>\n",
       "      <td>Press Trust of India</td>\n",
       "      <td>: The Bharatiya Janata Party (BJP) Thursday co...</td>\n",
       "      <td>2018-11-29</td>\n",
       "      <td>Bharatiya Janata Party,BJP,Congress,Gorakhpur,...</td>\n",
       "      <td>Uttar Pradesh BJP chief takes jibe at Rahul Ga...</td>\n",
       "      <td>https://www.firstpost.com/politics/uttar-prade...</td>\n",
       "      <td>firstpost</td>\n",
       "      <td>13</td>\n",
       "      <td>0</td>\n",
       "      <td>neu</td>\n",
       "      <td>-1</td>\n",
       "      <td>0</td>\n",
       "      <td>-1</td>\n",
       "    </tr>\n",
       "  </tbody>\n",
       "</table>\n",
       "</div>"
      ],
      "text/plain": [
       "                 author                                            content  \\\n",
       "0  Press Trust of India  Chief Minister Arvind Kejriwal on Wednesday or...   \n",
       "1  Press Trust of India   Slamming the revision of GDP data under the U...   \n",
       "2  Press Trust of India   The HD Kumarawamy-led JD(S)-Congress ministry...   \n",
       "3  Press Trust of India  : All India Majlis-e-Ittehadul Muslimeen (AIMI...   \n",
       "4  Press Trust of India  : The Bharatiya Janata Party (BJP) Thursday co...   \n",
       "\n",
       "         date                                                tag  \\\n",
       "0  2018-11-29  AAP,Arvind Kejriwal,BJP,Delhi,Imran Hussain,Mo...   \n",
       "1  2018-11-29  Anand Sharma,Arun Jaitley,BJP,Congress,GDP,Nar...   \n",
       "2  2018-11-29  Congress,Dinesh Gundu Rao,G Parameshwara,HD Ku...   \n",
       "3  2018-11-29  AIMIM,All India Majlis-E-Ittehadul Muslimeen,A...   \n",
       "4  2018-11-29  Bharatiya Janata Party,BJP,Congress,Gorakhpur,...   \n",
       "\n",
       "                                               title  \\\n",
       "0  Arvind Kejriwal orders suspension of Delhi foo...   \n",
       "1  P Chidambaram calls revision of GDP data 'bad ...   \n",
       "2  Karnataka cabinet will be expanded before 10 D...   \n",
       "3  After Maharashtra Assembly passes quota bill, ...   \n",
       "4  Uttar Pradesh BJP chief takes jibe at Rahul Ga...   \n",
       "\n",
       "                                                 url    website  Label  Party  \\\n",
       "0  https://www.firstpost.com/politics/arvind-kejr...  firstpost      0      0   \n",
       "1  https://www.firstpost.com/politics/p-chidambar...  firstpost      7      1   \n",
       "2  https://www.firstpost.com/politics/karnataka-c...  firstpost      7      1   \n",
       "3  https://www.firstpost.com/politics/after-mahar...  firstpost      7      1   \n",
       "4  https://www.firstpost.com/politics/uttar-prade...  firstpost     13      0   \n",
       "\n",
       "  sent1  Bias1  sent2  Bias2  \n",
       "0   neu     -1      0     -1  \n",
       "1   neu     -1      0     -1  \n",
       "2   neu     -1      0     -1  \n",
       "3   neu     -1      0     -1  \n",
       "4   neu     -1      0     -1  "
      ]
     },
     "execution_count": 115,
     "metadata": {},
     "output_type": "execute_result"
    }
   ],
   "source": [
    "df3 = pd.read_csv('Publications/Edit/KMeans/FP_new.csv')\n",
    "df3.head()"
   ]
  },
  {
   "cell_type": "markdown",
   "metadata": {},
   "source": [
    "Bias by vader."
   ]
  },
  {
   "cell_type": "code",
   "execution_count": 116,
   "metadata": {},
   "outputs": [
    {
     "name": "stdout",
     "output_type": "stream",
     "text": [
      "Left bias = 0\n",
      "Right bias = 0\n",
      "No bias = 999\n"
     ]
    }
   ],
   "source": [
    "neu = 0\n",
    "left = 0\n",
    "right = 0\n",
    "for bias in df3['Bias1']:\n",
    "    if bias == -1:\n",
    "        neu = neu + 1\n",
    "    elif bias == 0:\n",
    "        left = left + 1\n",
    "    elif bias == 1:\n",
    "        right = right + 1\n",
    "print(\"Left bias =\",left)\n",
    "print(\"Right bias =\",right)        \n",
    "print(\"No bias =\",neu)"
   ]
  },
  {
   "cell_type": "markdown",
   "metadata": {},
   "source": [
    "Bias by textblob."
   ]
  },
  {
   "cell_type": "code",
   "execution_count": 117,
   "metadata": {},
   "outputs": [
    {
     "name": "stdout",
     "output_type": "stream",
     "text": [
      "Left bias = 1\n",
      "Right bias = 5\n",
      "No bias = 993\n"
     ]
    }
   ],
   "source": [
    "neu = 0\n",
    "left = 0\n",
    "right = 0\n",
    "for bias in df3['Bias2']:\n",
    "    if bias == -1:\n",
    "        neu = neu + 1\n",
    "    elif bias == 0:\n",
    "        left = left + 1\n",
    "    elif bias == 1:\n",
    "        right = right + 1\n",
    "print(\"Left bias =\",left)\n",
    "print(\"Right bias =\",right)        \n",
    "print(\"No bias =\",neu)"
   ]
  },
  {
   "cell_type": "markdown",
   "metadata": {},
   "source": [
    "### DBScan data."
   ]
  },
  {
   "cell_type": "code",
   "execution_count": 118,
   "metadata": {},
   "outputs": [
    {
     "data": {
      "text/html": [
       "<div>\n",
       "<style scoped>\n",
       "    .dataframe tbody tr th:only-of-type {\n",
       "        vertical-align: middle;\n",
       "    }\n",
       "\n",
       "    .dataframe tbody tr th {\n",
       "        vertical-align: top;\n",
       "    }\n",
       "\n",
       "    .dataframe thead th {\n",
       "        text-align: right;\n",
       "    }\n",
       "</style>\n",
       "<table border=\"1\" class=\"dataframe\">\n",
       "  <thead>\n",
       "    <tr style=\"text-align: right;\">\n",
       "      <th></th>\n",
       "      <th>author</th>\n",
       "      <th>content</th>\n",
       "      <th>date</th>\n",
       "      <th>tag</th>\n",
       "      <th>title</th>\n",
       "      <th>url</th>\n",
       "      <th>website</th>\n",
       "      <th>Label</th>\n",
       "      <th>Party</th>\n",
       "      <th>sent1</th>\n",
       "      <th>Bias1</th>\n",
       "      <th>sent2</th>\n",
       "      <th>Bias2</th>\n",
       "    </tr>\n",
       "  </thead>\n",
       "  <tbody>\n",
       "    <tr>\n",
       "      <th>0</th>\n",
       "      <td>Press Trust of India</td>\n",
       "      <td>Slamming the revision of GDP data under the U...</td>\n",
       "      <td>2018-11-29</td>\n",
       "      <td>Anand Sharma,Arun Jaitley,BJP,Congress,GDP,Nar...</td>\n",
       "      <td>P Chidambaram calls revision of GDP data 'bad ...</td>\n",
       "      <td>https://www.firstpost.com/politics/p-chidambar...</td>\n",
       "      <td>firstpost</td>\n",
       "      <td>-1</td>\n",
       "      <td>0</td>\n",
       "      <td>neu</td>\n",
       "      <td>-1</td>\n",
       "      <td>0</td>\n",
       "      <td>-1</td>\n",
       "    </tr>\n",
       "    <tr>\n",
       "      <th>1</th>\n",
       "      <td>Press Trust of India</td>\n",
       "      <td>The HD Kumarawamy-led JD(S)-Congress ministry...</td>\n",
       "      <td>2018-11-29</td>\n",
       "      <td>Congress,Dinesh Gundu Rao,G Parameshwara,HD Ku...</td>\n",
       "      <td>Karnataka cabinet will be expanded before 10 D...</td>\n",
       "      <td>https://www.firstpost.com/politics/karnataka-c...</td>\n",
       "      <td>firstpost</td>\n",
       "      <td>-1</td>\n",
       "      <td>0</td>\n",
       "      <td>neu</td>\n",
       "      <td>-1</td>\n",
       "      <td>0</td>\n",
       "      <td>-1</td>\n",
       "    </tr>\n",
       "    <tr>\n",
       "      <th>2</th>\n",
       "      <td>Press Trust of India</td>\n",
       "      <td>: All India Majlis-e-Ittehadul Muslimeen (AIMI...</td>\n",
       "      <td>2018-11-29</td>\n",
       "      <td>AIMIM,All India Majlis-E-Ittehadul Muslimeen,A...</td>\n",
       "      <td>After Maharashtra Assembly passes quota bill, ...</td>\n",
       "      <td>https://www.firstpost.com/politics/after-mahar...</td>\n",
       "      <td>firstpost</td>\n",
       "      <td>-1</td>\n",
       "      <td>0</td>\n",
       "      <td>neu</td>\n",
       "      <td>-1</td>\n",
       "      <td>0</td>\n",
       "      <td>-1</td>\n",
       "    </tr>\n",
       "    <tr>\n",
       "      <th>3</th>\n",
       "      <td>Press Trust of India</td>\n",
       "      <td>: The Bharatiya Janata Party (BJP) Thursday co...</td>\n",
       "      <td>2018-11-29</td>\n",
       "      <td>Bharatiya Janata Party,BJP,Congress,Gorakhpur,...</td>\n",
       "      <td>Uttar Pradesh BJP chief takes jibe at Rahul Ga...</td>\n",
       "      <td>https://www.firstpost.com/politics/uttar-prade...</td>\n",
       "      <td>firstpost</td>\n",
       "      <td>-1</td>\n",
       "      <td>0</td>\n",
       "      <td>neu</td>\n",
       "      <td>-1</td>\n",
       "      <td>0</td>\n",
       "      <td>-1</td>\n",
       "    </tr>\n",
       "    <tr>\n",
       "      <th>4</th>\n",
       "      <td>Indo-Asian News Service</td>\n",
       "      <td>Calling Chief Minister K Chandrasekhar Rao \"K...</td>\n",
       "      <td>2018-11-29</td>\n",
       "      <td>Assembly Election 2018,Bhupalpally,BJP-RSS,Con...</td>\n",
       "      <td>Rahul Gandhi calls KCR 'Khao Commission Rao', ...</td>\n",
       "      <td>https://www.firstpost.com/politics/rahul-gandh...</td>\n",
       "      <td>firstpost</td>\n",
       "      <td>-1</td>\n",
       "      <td>0</td>\n",
       "      <td>neu</td>\n",
       "      <td>-1</td>\n",
       "      <td>0</td>\n",
       "      <td>-1</td>\n",
       "    </tr>\n",
       "  </tbody>\n",
       "</table>\n",
       "</div>"
      ],
      "text/plain": [
       "                    author                                            content  \\\n",
       "0     Press Trust of India   Slamming the revision of GDP data under the U...   \n",
       "1     Press Trust of India   The HD Kumarawamy-led JD(S)-Congress ministry...   \n",
       "2     Press Trust of India  : All India Majlis-e-Ittehadul Muslimeen (AIMI...   \n",
       "3     Press Trust of India  : The Bharatiya Janata Party (BJP) Thursday co...   \n",
       "4  Indo-Asian News Service   Calling Chief Minister K Chandrasekhar Rao \"K...   \n",
       "\n",
       "         date                                                tag  \\\n",
       "0  2018-11-29  Anand Sharma,Arun Jaitley,BJP,Congress,GDP,Nar...   \n",
       "1  2018-11-29  Congress,Dinesh Gundu Rao,G Parameshwara,HD Ku...   \n",
       "2  2018-11-29  AIMIM,All India Majlis-E-Ittehadul Muslimeen,A...   \n",
       "3  2018-11-29  Bharatiya Janata Party,BJP,Congress,Gorakhpur,...   \n",
       "4  2018-11-29  Assembly Election 2018,Bhupalpally,BJP-RSS,Con...   \n",
       "\n",
       "                                               title  \\\n",
       "0  P Chidambaram calls revision of GDP data 'bad ...   \n",
       "1  Karnataka cabinet will be expanded before 10 D...   \n",
       "2  After Maharashtra Assembly passes quota bill, ...   \n",
       "3  Uttar Pradesh BJP chief takes jibe at Rahul Ga...   \n",
       "4  Rahul Gandhi calls KCR 'Khao Commission Rao', ...   \n",
       "\n",
       "                                                 url    website  Label  Party  \\\n",
       "0  https://www.firstpost.com/politics/p-chidambar...  firstpost     -1      0   \n",
       "1  https://www.firstpost.com/politics/karnataka-c...  firstpost     -1      0   \n",
       "2  https://www.firstpost.com/politics/after-mahar...  firstpost     -1      0   \n",
       "3  https://www.firstpost.com/politics/uttar-prade...  firstpost     -1      0   \n",
       "4  https://www.firstpost.com/politics/rahul-gandh...  firstpost     -1      0   \n",
       "\n",
       "  sent1  Bias1  sent2  Bias2  \n",
       "0   neu     -1      0     -1  \n",
       "1   neu     -1      0     -1  \n",
       "2   neu     -1      0     -1  \n",
       "3   neu     -1      0     -1  \n",
       "4   neu     -1      0     -1  "
      ]
     },
     "execution_count": 118,
     "metadata": {},
     "output_type": "execute_result"
    }
   ],
   "source": [
    "df33 = pd.read_csv('Publications/Edit/DBS/FP_new.csv')\n",
    "df33.head()"
   ]
  },
  {
   "cell_type": "markdown",
   "metadata": {},
   "source": [
    "Bias by vader."
   ]
  },
  {
   "cell_type": "code",
   "execution_count": 119,
   "metadata": {},
   "outputs": [
    {
     "name": "stdout",
     "output_type": "stream",
     "text": [
      "Left bias = 0\n",
      "Right bias = 0\n",
      "No bias = 998\n"
     ]
    }
   ],
   "source": [
    "neu = 0\n",
    "left = 0\n",
    "right = 0\n",
    "for bias in df33['Bias1']:\n",
    "    if bias == -1:\n",
    "        neu = neu + 1\n",
    "    elif bias == 0:\n",
    "        left = left + 1\n",
    "    elif bias == 1:\n",
    "        right = right + 1\n",
    "print(\"Left bias =\",left)\n",
    "print(\"Right bias =\",right)        \n",
    "print(\"No bias =\",neu)"
   ]
  },
  {
   "cell_type": "markdown",
   "metadata": {},
   "source": [
    "Bias by textblob."
   ]
  },
  {
   "cell_type": "code",
   "execution_count": 120,
   "metadata": {},
   "outputs": [
    {
     "name": "stdout",
     "output_type": "stream",
     "text": [
      "Left bias = 6\n",
      "Right bias = 0\n",
      "No bias = 992\n"
     ]
    }
   ],
   "source": [
    "neu = 0\n",
    "left = 0\n",
    "right = 0\n",
    "for bias in df33['Bias2']:\n",
    "    if bias == -1:\n",
    "        neu = neu + 1\n",
    "    elif bias == 0:\n",
    "        left = left + 1\n",
    "    elif bias == 1:\n",
    "        right = right + 1\n",
    "print(\"Left bias =\",left)\n",
    "print(\"Right bias =\",right)        \n",
    "print(\"No bias =\",neu)"
   ]
  },
  {
   "cell_type": "markdown",
   "metadata": {},
   "source": [
    "# Plots. "
   ]
  },
  {
   "cell_type": "markdown",
   "metadata": {},
   "source": [
    "## Times of India."
   ]
  },
  {
   "cell_type": "markdown",
   "metadata": {},
   "source": [
    "### KMeans data."
   ]
  },
  {
   "cell_type": "code",
   "execution_count": 121,
   "metadata": {},
   "outputs": [
    {
     "data": {
      "text/html": [
       "<div>\n",
       "<style scoped>\n",
       "    .dataframe tbody tr th:only-of-type {\n",
       "        vertical-align: middle;\n",
       "    }\n",
       "\n",
       "    .dataframe tbody tr th {\n",
       "        vertical-align: top;\n",
       "    }\n",
       "\n",
       "    .dataframe thead th {\n",
       "        text-align: right;\n",
       "    }\n",
       "</style>\n",
       "<table border=\"1\" class=\"dataframe\">\n",
       "  <thead>\n",
       "    <tr style=\"text-align: right;\">\n",
       "      <th></th>\n",
       "      <th>publish_date</th>\n",
       "      <th>headline_category</th>\n",
       "      <th>headline_text</th>\n",
       "      <th>Label</th>\n",
       "      <th>Party</th>\n",
       "      <th>sent1</th>\n",
       "      <th>Bias1</th>\n",
       "      <th>sent2</th>\n",
       "      <th>Bias2</th>\n",
       "    </tr>\n",
       "  </thead>\n",
       "  <tbody>\n",
       "    <tr>\n",
       "      <th>0</th>\n",
       "      <td>20120624</td>\n",
       "      <td>india</td>\n",
       "      <td>NCPCR seeks explanation from Haryana govt</td>\n",
       "      <td>3</td>\n",
       "      <td>1</td>\n",
       "      <td>neu</td>\n",
       "      <td>-1</td>\n",
       "      <td>0</td>\n",
       "      <td>-1</td>\n",
       "    </tr>\n",
       "    <tr>\n",
       "      <th>1</th>\n",
       "      <td>20170417</td>\n",
       "      <td>city.indore</td>\n",
       "      <td>HC on alleged Simhastha irregularities: Take i...</td>\n",
       "      <td>0</td>\n",
       "      <td>0</td>\n",
       "      <td>neu</td>\n",
       "      <td>-1</td>\n",
       "      <td>0</td>\n",
       "      <td>-1</td>\n",
       "    </tr>\n",
       "    <tr>\n",
       "      <th>2</th>\n",
       "      <td>20181014</td>\n",
       "      <td>city.bhopal</td>\n",
       "      <td>Rahul to visit Datia; Gwalior from Monday</td>\n",
       "      <td>0</td>\n",
       "      <td>0</td>\n",
       "      <td>neu</td>\n",
       "      <td>-1</td>\n",
       "      <td>0</td>\n",
       "      <td>-1</td>\n",
       "    </tr>\n",
       "    <tr>\n",
       "      <th>3</th>\n",
       "      <td>20170920</td>\n",
       "      <td>sports.football</td>\n",
       "      <td>Premier Futsal: Bengaluru Royals rout Mumbai W...</td>\n",
       "      <td>13</td>\n",
       "      <td>1</td>\n",
       "      <td>neu</td>\n",
       "      <td>-1</td>\n",
       "      <td>0</td>\n",
       "      <td>-1</td>\n",
       "    </tr>\n",
       "    <tr>\n",
       "      <th>4</th>\n",
       "      <td>20090824</td>\n",
       "      <td>city.mysuru</td>\n",
       "      <td>Assembly session will focus on people's proble...</td>\n",
       "      <td>3</td>\n",
       "      <td>1</td>\n",
       "      <td>neu</td>\n",
       "      <td>-1</td>\n",
       "      <td>0</td>\n",
       "      <td>-1</td>\n",
       "    </tr>\n",
       "  </tbody>\n",
       "</table>\n",
       "</div>"
      ],
      "text/plain": [
       "   publish_date headline_category  \\\n",
       "0      20120624             india   \n",
       "1      20170417       city.indore   \n",
       "2      20181014       city.bhopal   \n",
       "3      20170920   sports.football   \n",
       "4      20090824       city.mysuru   \n",
       "\n",
       "                                       headline_text  Label  Party sent1  \\\n",
       "0          NCPCR seeks explanation from Haryana govt      3      1   neu   \n",
       "1  HC on alleged Simhastha irregularities: Take i...      0      0   neu   \n",
       "2          Rahul to visit Datia; Gwalior from Monday      0      0   neu   \n",
       "3  Premier Futsal: Bengaluru Royals rout Mumbai W...     13      1   neu   \n",
       "4  Assembly session will focus on people's proble...      3      1   neu   \n",
       "\n",
       "   Bias1  sent2  Bias2  \n",
       "0     -1      0     -1  \n",
       "1     -1      0     -1  \n",
       "2     -1      0     -1  \n",
       "3     -1      0     -1  \n",
       "4     -1      0     -1  "
      ]
     },
     "execution_count": 121,
     "metadata": {},
     "output_type": "execute_result"
    }
   ],
   "source": [
    "df1 = pd.read_csv(\"Publications/Edit/KMeans/TOI_new.csv\")\n",
    "df1.head()"
   ]
  },
  {
   "cell_type": "markdown",
   "metadata": {},
   "source": [
    "Bias by vader."
   ]
  },
  {
   "cell_type": "code",
   "execution_count": 122,
   "metadata": {},
   "outputs": [
    {
     "data": {
      "image/png": "[encoded data removed]",
      "text/plain": [
       "<Figure size 432x288 with 1 Axes>"
      ]
     },
     "metadata": {},
     "output_type": "display_data"
    }
   ],
   "source": [
    "labels = 'Neutral', 'Left', 'Right'\n",
    "neu = len(df1[df1['Bias1'] == -1])\n",
    "left = len(df1[df1['Bias1'] == 0])\n",
    "right = len(df1[df1['Bias1'] == 1])\n",
    "sizes = [neu,left,right]\n",
    "colors = ['yellow', 'green','red' ]\n",
    "plt.pie(sizes,colors=colors,\n",
    "autopct='%1.1f%%', shadow=True, startangle=140)\n",
    "plt.axis('equal')\n",
    "plt.title('Times of India KMeans and VADER')\n",
    "plt.legend(labels,loc='upper right')\n",
    "plt.savefig('Plots/KMeans/TOI_Bias1.png')\n",
    "plt.show()"
   ]
  },
  {
   "cell_type": "markdown",
   "metadata": {},
   "source": [
    "Bias by textblob."
   ]
  },
  {
   "cell_type": "code",
   "execution_count": 123,
   "metadata": {},
   "outputs": [
    {
     "data": {
      "image/png": "[encoded data removed]",
      "text/plain": [
       "<Figure size 432x288 with 1 Axes>"
      ]
     },
     "metadata": {},
     "output_type": "display_data"
    }
   ],
   "source": [
    "labels = 'Neutral', 'Left', 'Right'\n",
    "neu = len(df1[df1['Bias2'] == -1])\n",
    "left = len(df1[df1['Bias2'] == 0])\n",
    "right = len(df1[df1['Bias2'] == 1])\n",
    "sizes = [neu,left,right]\n",
    "colors = ['yellow', 'green','red' ]\n",
    "plt.pie(sizes,colors=colors,\n",
    "autopct='%1.1f%%', shadow=True, startangle=140)\n",
    "plt.axis('equal')\n",
    "plt.title('Times of India KMeans and Textblob')\n",
    "plt.legend(labels,loc='upper right')\n",
    "plt.savefig('Plots/KMeans/TOI_Bias2.png')\n",
    "plt.show()"
   ]
  },
  {
   "cell_type": "markdown",
   "metadata": {},
   "source": [
    "### DBScan data."
   ]
  },
  {
   "cell_type": "code",
   "execution_count": 124,
   "metadata": {},
   "outputs": [
    {
     "data": {
      "text/html": [
       "<div>\n",
       "<style scoped>\n",
       "    .dataframe tbody tr th:only-of-type {\n",
       "        vertical-align: middle;\n",
       "    }\n",
       "\n",
       "    .dataframe tbody tr th {\n",
       "        vertical-align: top;\n",
       "    }\n",
       "\n",
       "    .dataframe thead th {\n",
       "        text-align: right;\n",
       "    }\n",
       "</style>\n",
       "<table border=\"1\" class=\"dataframe\">\n",
       "  <thead>\n",
       "    <tr style=\"text-align: right;\">\n",
       "      <th></th>\n",
       "      <th>publish_date</th>\n",
       "      <th>headline_category</th>\n",
       "      <th>headline_text</th>\n",
       "      <th>Label</th>\n",
       "      <th>Party</th>\n",
       "      <th>sent1</th>\n",
       "      <th>Bias1</th>\n",
       "      <th>sent2</th>\n",
       "      <th>Bias2</th>\n",
       "    </tr>\n",
       "  </thead>\n",
       "  <tbody>\n",
       "    <tr>\n",
       "      <th>0</th>\n",
       "      <td>20170417</td>\n",
       "      <td>city.indore</td>\n",
       "      <td>HC on alleged Simhastha irregularities: Take i...</td>\n",
       "      <td>0</td>\n",
       "      <td>0</td>\n",
       "      <td>neu</td>\n",
       "      <td>-1</td>\n",
       "      <td>0</td>\n",
       "      <td>-1</td>\n",
       "    </tr>\n",
       "    <tr>\n",
       "      <th>1</th>\n",
       "      <td>20181014</td>\n",
       "      <td>city.bhopal</td>\n",
       "      <td>Rahul to visit Datia; Gwalior from Monday</td>\n",
       "      <td>0</td>\n",
       "      <td>0</td>\n",
       "      <td>neu</td>\n",
       "      <td>-1</td>\n",
       "      <td>0</td>\n",
       "      <td>-1</td>\n",
       "    </tr>\n",
       "    <tr>\n",
       "      <th>2</th>\n",
       "      <td>20170920</td>\n",
       "      <td>sports.football</td>\n",
       "      <td>Premier Futsal: Bengaluru Royals rout Mumbai W...</td>\n",
       "      <td>0</td>\n",
       "      <td>0</td>\n",
       "      <td>neu</td>\n",
       "      <td>-1</td>\n",
       "      <td>0</td>\n",
       "      <td>-1</td>\n",
       "    </tr>\n",
       "    <tr>\n",
       "      <th>3</th>\n",
       "      <td>20090824</td>\n",
       "      <td>city.mysuru</td>\n",
       "      <td>Assembly session will focus on people's proble...</td>\n",
       "      <td>0</td>\n",
       "      <td>0</td>\n",
       "      <td>neu</td>\n",
       "      <td>-1</td>\n",
       "      <td>0</td>\n",
       "      <td>-1</td>\n",
       "    </tr>\n",
       "    <tr>\n",
       "      <th>4</th>\n",
       "      <td>20110801</td>\n",
       "      <td>city.ranchi</td>\n",
       "      <td>Nine die in lightning strikes</td>\n",
       "      <td>0</td>\n",
       "      <td>0</td>\n",
       "      <td>neg</td>\n",
       "      <td>1</td>\n",
       "      <td>0</td>\n",
       "      <td>-1</td>\n",
       "    </tr>\n",
       "  </tbody>\n",
       "</table>\n",
       "</div>"
      ],
      "text/plain": [
       "   publish_date headline_category  \\\n",
       "0      20170417       city.indore   \n",
       "1      20181014       city.bhopal   \n",
       "2      20170920   sports.football   \n",
       "3      20090824       city.mysuru   \n",
       "4      20110801       city.ranchi   \n",
       "\n",
       "                                       headline_text  Label  Party sent1  \\\n",
       "0  HC on alleged Simhastha irregularities: Take i...      0      0   neu   \n",
       "1          Rahul to visit Datia; Gwalior from Monday      0      0   neu   \n",
       "2  Premier Futsal: Bengaluru Royals rout Mumbai W...      0      0   neu   \n",
       "3  Assembly session will focus on people's proble...      0      0   neu   \n",
       "4                      Nine die in lightning strikes      0      0   neg   \n",
       "\n",
       "   Bias1  sent2  Bias2  \n",
       "0     -1      0     -1  \n",
       "1     -1      0     -1  \n",
       "2     -1      0     -1  \n",
       "3     -1      0     -1  \n",
       "4      1      0     -1  "
      ]
     },
     "execution_count": 124,
     "metadata": {},
     "output_type": "execute_result"
    }
   ],
   "source": [
    "df11 = pd.read_csv(\"Publications/Edit/DBS/TOI_new.csv\")\n",
    "df11.head()"
   ]
  },
  {
   "cell_type": "markdown",
   "metadata": {},
   "source": [
    "Bias by vader."
   ]
  },
  {
   "cell_type": "code",
   "execution_count": 125,
   "metadata": {},
   "outputs": [
    {
     "data": {
      "image/png": "[encoded data removed]",
      "text/plain": [
       "<Figure size 432x288 with 1 Axes>"
      ]
     },
     "metadata": {},
     "output_type": "display_data"
    }
   ],
   "source": [
    "labels = 'Neutral', 'Left', 'Right'\n",
    "neu = len(df11[df11['Bias1'] == -1])\n",
    "left = len(df11[df11['Bias1'] == 0])\n",
    "right = len(df11[df11['Bias1'] == 1])\n",
    "sizes = [neu,left,right]\n",
    "colors = ['yellow', 'green','red' ]\n",
    "plt.pie(sizes,colors=colors,\n",
    "autopct='%1.1f%%', shadow=True, startangle=140)\n",
    "plt.axis('equal')\n",
    "plt.title('Times of India DBSCAN and VADER')\n",
    "plt.legend(labels,loc='upper right')\n",
    "plt.savefig('Plots/DBS/TOI_Bias1.png')\n",
    "plt.show()"
   ]
  },
  {
   "cell_type": "markdown",
   "metadata": {},
   "source": [
    "Bias by textblob."
   ]
  },
  {
   "cell_type": "code",
   "execution_count": 126,
   "metadata": {},
   "outputs": [
    {
     "data": {
      "image/png": "[encoded data removed]",
      "text/plain": [
       "<Figure size 432x288 with 1 Axes>"
      ]
     },
     "metadata": {},
     "output_type": "display_data"
    }
   ],
   "source": [
    "labels = 'Neutral', 'Left', 'Right'\n",
    "neu = len(df11[df11['Bias2'] == -1])\n",
    "left = len(df11[df11['Bias2'] == 0])\n",
    "right = len(df11[df11['Bias2'] == 1])\n",
    "sizes = [neu,left,right]\n",
    "colors = ['yellow', 'green','red' ]\n",
    "plt.pie(sizes,colors=colors,\n",
    "autopct='%1.1f%%', shadow=True, startangle=140)\n",
    "plt.axis('equal')\n",
    "plt.title('Times of India DBSCAN and Textblob')\n",
    "plt.legend(labels,loc='upper right')\n",
    "plt.savefig('Plots/DBS/TOI_Bias2.png')\n",
    "plt.show()"
   ]
  },
  {
   "cell_type": "markdown",
   "metadata": {},
   "source": [
    "## Quint. "
   ]
  },
  {
   "cell_type": "markdown",
   "metadata": {},
   "source": [
    "### KMeans data."
   ]
  },
  {
   "cell_type": "code",
   "execution_count": 127,
   "metadata": {},
   "outputs": [
    {
     "data": {
      "text/html": [
       "<div>\n",
       "<style scoped>\n",
       "    .dataframe tbody tr th:only-of-type {\n",
       "        vertical-align: middle;\n",
       "    }\n",
       "\n",
       "    .dataframe tbody tr th {\n",
       "        vertical-align: top;\n",
       "    }\n",
       "\n",
       "    .dataframe thead th {\n",
       "        text-align: right;\n",
       "    }\n",
       "</style>\n",
       "<table border=\"1\" class=\"dataframe\">\n",
       "  <thead>\n",
       "    <tr style=\"text-align: right;\">\n",
       "      <th></th>\n",
       "      <th>author</th>\n",
       "      <th>content</th>\n",
       "      <th>date</th>\n",
       "      <th>tag</th>\n",
       "      <th>title</th>\n",
       "      <th>url</th>\n",
       "      <th>website</th>\n",
       "      <th>Label</th>\n",
       "      <th>Party</th>\n",
       "      <th>sent1</th>\n",
       "      <th>Bias1</th>\n",
       "      <th>sent2</th>\n",
       "      <th>Bias2</th>\n",
       "    </tr>\n",
       "  </thead>\n",
       "  <tbody>\n",
       "    <tr>\n",
       "      <th>0</th>\n",
       "      <td>Pushpesh Pant</td>\n",
       "      <td>Swami Vivekananda ranks among the highest in t...</td>\n",
       "      <td>2018-07-03</td>\n",
       "      <td>Swami Vivekananda,Hinduism,Tolerance,Politics ...</td>\n",
       "      <td>Swami Vivekananda’s 156th Birth Anniversary 20...</td>\n",
       "      <td>https://www.thequint.com/voices/opinion/swami-...</td>\n",
       "      <td>quint</td>\n",
       "      <td>0</td>\n",
       "      <td>1</td>\n",
       "      <td>neu</td>\n",
       "      <td>-1</td>\n",
       "      <td>0</td>\n",
       "      <td>-1</td>\n",
       "    </tr>\n",
       "    <tr>\n",
       "      <th>1</th>\n",
       "      <td>Meeran Chadha Borwankar</td>\n",
       "      <td>In the news for the wrong reasons, the Central...</td>\n",
       "      <td>2018-07-18</td>\n",
       "      <td>Modi Government,Central Bureau of Investigatio...</td>\n",
       "      <td>Rift Between CBI Chief &amp; Special Director: Thi...</td>\n",
       "      <td>https://www.thequint.com/voices/opinion/cbi-co...</td>\n",
       "      <td>quint</td>\n",
       "      <td>5</td>\n",
       "      <td>1</td>\n",
       "      <td>neu</td>\n",
       "      <td>-1</td>\n",
       "      <td>0</td>\n",
       "      <td>-1</td>\n",
       "    </tr>\n",
       "    <tr>\n",
       "      <th>2</th>\n",
       "      <td>Mayukh Ghosh</td>\n",
       "      <td>Reminiscing about the past is a dreadful tool ...</td>\n",
       "      <td>2018-05-14</td>\n",
       "      <td>Satyajit Ray,Shyam Benegal,Smita Patil,Politic...</td>\n",
       "      <td>The Late Filmmaker Mrinal Sen’s ‘Cinema of Res...</td>\n",
       "      <td>https://www.thequint.com/entertainment/indian-...</td>\n",
       "      <td>quint</td>\n",
       "      <td>0</td>\n",
       "      <td>1</td>\n",
       "      <td>neu</td>\n",
       "      <td>-1</td>\n",
       "      <td>0</td>\n",
       "      <td>-1</td>\n",
       "    </tr>\n",
       "    <tr>\n",
       "      <th>3</th>\n",
       "      <td>Akanksha Kumar</td>\n",
       "      <td>: Akanksha Kumar : Sandeep Suman Twenty-three ...</td>\n",
       "      <td>2018-04-30</td>\n",
       "      <td>Tihar Jail,Supreme Court of India,Life Impriso...</td>\n",
       "      <td>Tandoor Murder: Former Delhi Police Joint Comm...</td>\n",
       "      <td>https://www.thequint.com/videos/news-videos/ho...</td>\n",
       "      <td>quint</td>\n",
       "      <td>0</td>\n",
       "      <td>1</td>\n",
       "      <td>neu</td>\n",
       "      <td>-1</td>\n",
       "      <td>0</td>\n",
       "      <td>-1</td>\n",
       "    </tr>\n",
       "    <tr>\n",
       "      <th>4</th>\n",
       "      <td>Poonam Agarwal</td>\n",
       "      <td>As many as 92 witnesses in the Sohrabuddin fak...</td>\n",
       "      <td>2018-01-29</td>\n",
       "      <td>Sohrabuddin Sheikh Encounter,Kausarbi,fake enc...</td>\n",
       "      <td>Sohrabuddin Encounter: Details of 30 Witnesses...</td>\n",
       "      <td>https://www.thequint.com/news/india/sohrabuddi...</td>\n",
       "      <td>quint</td>\n",
       "      <td>0</td>\n",
       "      <td>1</td>\n",
       "      <td>neu</td>\n",
       "      <td>-1</td>\n",
       "      <td>0</td>\n",
       "      <td>-1</td>\n",
       "    </tr>\n",
       "  </tbody>\n",
       "</table>\n",
       "</div>"
      ],
      "text/plain": [
       "                    author                                            content  \\\n",
       "0            Pushpesh Pant  Swami Vivekananda ranks among the highest in t...   \n",
       "1  Meeran Chadha Borwankar  In the news for the wrong reasons, the Central...   \n",
       "2             Mayukh Ghosh  Reminiscing about the past is a dreadful tool ...   \n",
       "3           Akanksha Kumar  : Akanksha Kumar : Sandeep Suman Twenty-three ...   \n",
       "4           Poonam Agarwal  As many as 92 witnesses in the Sohrabuddin fak...   \n",
       "\n",
       "         date                                                tag  \\\n",
       "0  2018-07-03  Swami Vivekananda,Hinduism,Tolerance,Politics ...   \n",
       "1  2018-07-18  Modi Government,Central Bureau of Investigatio...   \n",
       "2  2018-05-14  Satyajit Ray,Shyam Benegal,Smita Patil,Politic...   \n",
       "3  2018-04-30  Tihar Jail,Supreme Court of India,Life Impriso...   \n",
       "4  2018-01-29  Sohrabuddin Sheikh Encounter,Kausarbi,fake enc...   \n",
       "\n",
       "                                               title  \\\n",
       "0  Swami Vivekananda’s 156th Birth Anniversary 20...   \n",
       "1  Rift Between CBI Chief & Special Director: Thi...   \n",
       "2  The Late Filmmaker Mrinal Sen’s ‘Cinema of Res...   \n",
       "3  Tandoor Murder: Former Delhi Police Joint Comm...   \n",
       "4  Sohrabuddin Encounter: Details of 30 Witnesses...   \n",
       "\n",
       "                                                 url website  Label  Party  \\\n",
       "0  https://www.thequint.com/voices/opinion/swami-...   quint      0      1   \n",
       "1  https://www.thequint.com/voices/opinion/cbi-co...   quint      5      1   \n",
       "2  https://www.thequint.com/entertainment/indian-...   quint      0      1   \n",
       "3  https://www.thequint.com/videos/news-videos/ho...   quint      0      1   \n",
       "4  https://www.thequint.com/news/india/sohrabuddi...   quint      0      1   \n",
       "\n",
       "  sent1  Bias1  sent2  Bias2  \n",
       "0   neu     -1      0     -1  \n",
       "1   neu     -1      0     -1  \n",
       "2   neu     -1      0     -1  \n",
       "3   neu     -1      0     -1  \n",
       "4   neu     -1      0     -1  "
      ]
     },
     "execution_count": 127,
     "metadata": {},
     "output_type": "execute_result"
    }
   ],
   "source": [
    "df2 = pd.read_csv(\"Publications/Edit/KMeans/QT_new.csv\")\n",
    "df2.head()"
   ]
  },
  {
   "cell_type": "markdown",
   "metadata": {},
   "source": [
    "Bias by vader."
   ]
  },
  {
   "cell_type": "code",
   "execution_count": 128,
   "metadata": {},
   "outputs": [
    {
     "data": {
      "image/png": "[encoded data removed]",
      "text/plain": [
       "<Figure size 432x288 with 1 Axes>"
      ]
     },
     "metadata": {},
     "output_type": "display_data"
    }
   ],
   "source": [
    "labels = 'Neutral', 'Left', 'Right'\n",
    "neu = len(df2[df2['Bias1'] == -1])\n",
    "left = len(df2[df2['Bias1'] == 0])\n",
    "right = len(df2[df2['Bias1'] == 1])\n",
    "sizes = [neu,left,right]\n",
    "colors = ['yellow', 'green','red' ]\n",
    "plt.pie(sizes,colors=colors,\n",
    "autopct='%1.1f%%', shadow=True, startangle=140)\n",
    "plt.axis('equal')\n",
    "plt.title('Quint KMeans and VADER')\n",
    "plt.legend(labels,loc='upper right')\n",
    "plt.savefig('Plots/KMeans/QT_Bias1.png')\n",
    "plt.show()"
   ]
  },
  {
   "cell_type": "markdown",
   "metadata": {},
   "source": [
    "Bias by textblob."
   ]
  },
  {
   "cell_type": "code",
   "execution_count": 129,
   "metadata": {},
   "outputs": [
    {
     "data": {
      "image/png": "[encoded data removed]",
      "text/plain": [
       "<Figure size 432x288 with 1 Axes>"
      ]
     },
     "metadata": {},
     "output_type": "display_data"
    }
   ],
   "source": [
    "labels = 'Neutral', 'Left', 'Right'\n",
    "neu = len(df2[df2['Bias2'] == -1])\n",
    "left = len(df2[df2['Bias2'] == 0])\n",
    "right = len(df2[df2['Bias2'] == 1])\n",
    "sizes = [neu,left,right]\n",
    "colors = ['yellow', 'green','red' ]\n",
    "plt.pie(sizes,colors=colors,\n",
    "autopct='%1.1f%%', shadow=True, startangle=140)\n",
    "plt.axis('equal')\n",
    "plt.title('Quint KMeans and Textblob')\n",
    "plt.legend(labels,loc='upper right')\n",
    "plt.savefig('Plots/KMeans/QT_Bias2.png')\n",
    "plt.show()"
   ]
  },
  {
   "cell_type": "markdown",
   "metadata": {},
   "source": [
    "### DBScan data."
   ]
  },
  {
   "cell_type": "code",
   "execution_count": 130,
   "metadata": {},
   "outputs": [
    {
     "data": {
      "text/html": [
       "<div>\n",
       "<style scoped>\n",
       "    .dataframe tbody tr th:only-of-type {\n",
       "        vertical-align: middle;\n",
       "    }\n",
       "\n",
       "    .dataframe tbody tr th {\n",
       "        vertical-align: top;\n",
       "    }\n",
       "\n",
       "    .dataframe thead th {\n",
       "        text-align: right;\n",
       "    }\n",
       "</style>\n",
       "<table border=\"1\" class=\"dataframe\">\n",
       "  <thead>\n",
       "    <tr style=\"text-align: right;\">\n",
       "      <th></th>\n",
       "      <th>author</th>\n",
       "      <th>content</th>\n",
       "      <th>date</th>\n",
       "      <th>tag</th>\n",
       "      <th>title</th>\n",
       "      <th>url</th>\n",
       "      <th>website</th>\n",
       "      <th>Label</th>\n",
       "      <th>Party</th>\n",
       "      <th>sent1</th>\n",
       "      <th>Bias1</th>\n",
       "      <th>sent2</th>\n",
       "      <th>Bias2</th>\n",
       "    </tr>\n",
       "  </thead>\n",
       "  <tbody>\n",
       "    <tr>\n",
       "      <th>0</th>\n",
       "      <td>Meeran Chadha Borwankar</td>\n",
       "      <td>In the news for the wrong reasons, the Central...</td>\n",
       "      <td>2018-07-18</td>\n",
       "      <td>Modi Government,Central Bureau of Investigatio...</td>\n",
       "      <td>Rift Between CBI Chief &amp; Special Director: Thi...</td>\n",
       "      <td>https://www.thequint.com/voices/opinion/cbi-co...</td>\n",
       "      <td>quint</td>\n",
       "      <td>-1</td>\n",
       "      <td>0</td>\n",
       "      <td>neu</td>\n",
       "      <td>-1</td>\n",
       "      <td>0</td>\n",
       "      <td>-1</td>\n",
       "    </tr>\n",
       "    <tr>\n",
       "      <th>1</th>\n",
       "      <td>Mayukh Ghosh</td>\n",
       "      <td>Reminiscing about the past is a dreadful tool ...</td>\n",
       "      <td>2018-05-14</td>\n",
       "      <td>Satyajit Ray,Shyam Benegal,Smita Patil,Politic...</td>\n",
       "      <td>The Late Filmmaker Mrinal Sen’s ‘Cinema of Res...</td>\n",
       "      <td>https://www.thequint.com/entertainment/indian-...</td>\n",
       "      <td>quint</td>\n",
       "      <td>-1</td>\n",
       "      <td>0</td>\n",
       "      <td>neu</td>\n",
       "      <td>-1</td>\n",
       "      <td>0</td>\n",
       "      <td>-1</td>\n",
       "    </tr>\n",
       "    <tr>\n",
       "      <th>2</th>\n",
       "      <td>Akanksha Kumar</td>\n",
       "      <td>: Akanksha Kumar : Sandeep Suman Twenty-three ...</td>\n",
       "      <td>2018-04-30</td>\n",
       "      <td>Tihar Jail,Supreme Court of India,Life Impriso...</td>\n",
       "      <td>Tandoor Murder: Former Delhi Police Joint Comm...</td>\n",
       "      <td>https://www.thequint.com/videos/news-videos/ho...</td>\n",
       "      <td>quint</td>\n",
       "      <td>-1</td>\n",
       "      <td>0</td>\n",
       "      <td>neu</td>\n",
       "      <td>-1</td>\n",
       "      <td>0</td>\n",
       "      <td>-1</td>\n",
       "    </tr>\n",
       "    <tr>\n",
       "      <th>3</th>\n",
       "      <td>Poonam Agarwal</td>\n",
       "      <td>As many as 92 witnesses in the Sohrabuddin fak...</td>\n",
       "      <td>2018-01-29</td>\n",
       "      <td>Sohrabuddin Sheikh Encounter,Kausarbi,fake enc...</td>\n",
       "      <td>Sohrabuddin Encounter: Details of 30 Witnesses...</td>\n",
       "      <td>https://www.thequint.com/news/india/sohrabuddi...</td>\n",
       "      <td>quint</td>\n",
       "      <td>-1</td>\n",
       "      <td>0</td>\n",
       "      <td>neu</td>\n",
       "      <td>-1</td>\n",
       "      <td>0</td>\n",
       "      <td>-1</td>\n",
       "    </tr>\n",
       "    <tr>\n",
       "      <th>4</th>\n",
       "      <td>The Quint</td>\n",
       "      <td>Purnendu Pritam With heavy rains, thunderstorm...</td>\n",
       "      <td>2018-06-14</td>\n",
       "      <td>Assam,United States,AIADMK,QWrap,FIFA,Anand L ...</td>\n",
       "      <td>Today’s News in Videos: Rains, Thunderstorms, ...</td>\n",
       "      <td>https://www.thequint.com/videos/news-videos/la...</td>\n",
       "      <td>quint</td>\n",
       "      <td>-1</td>\n",
       "      <td>0</td>\n",
       "      <td>neu</td>\n",
       "      <td>-1</td>\n",
       "      <td>0</td>\n",
       "      <td>-1</td>\n",
       "    </tr>\n",
       "  </tbody>\n",
       "</table>\n",
       "</div>"
      ],
      "text/plain": [
       "                    author                                            content  \\\n",
       "0  Meeran Chadha Borwankar  In the news for the wrong reasons, the Central...   \n",
       "1             Mayukh Ghosh  Reminiscing about the past is a dreadful tool ...   \n",
       "2           Akanksha Kumar  : Akanksha Kumar : Sandeep Suman Twenty-three ...   \n",
       "3           Poonam Agarwal  As many as 92 witnesses in the Sohrabuddin fak...   \n",
       "4                The Quint  Purnendu Pritam With heavy rains, thunderstorm...   \n",
       "\n",
       "         date                                                tag  \\\n",
       "0  2018-07-18  Modi Government,Central Bureau of Investigatio...   \n",
       "1  2018-05-14  Satyajit Ray,Shyam Benegal,Smita Patil,Politic...   \n",
       "2  2018-04-30  Tihar Jail,Supreme Court of India,Life Impriso...   \n",
       "3  2018-01-29  Sohrabuddin Sheikh Encounter,Kausarbi,fake enc...   \n",
       "4  2018-06-14  Assam,United States,AIADMK,QWrap,FIFA,Anand L ...   \n",
       "\n",
       "                                               title  \\\n",
       "0  Rift Between CBI Chief & Special Director: Thi...   \n",
       "1  The Late Filmmaker Mrinal Sen’s ‘Cinema of Res...   \n",
       "2  Tandoor Murder: Former Delhi Police Joint Comm...   \n",
       "3  Sohrabuddin Encounter: Details of 30 Witnesses...   \n",
       "4  Today’s News in Videos: Rains, Thunderstorms, ...   \n",
       "\n",
       "                                                 url website  Label  Party  \\\n",
       "0  https://www.thequint.com/voices/opinion/cbi-co...   quint     -1      0   \n",
       "1  https://www.thequint.com/entertainment/indian-...   quint     -1      0   \n",
       "2  https://www.thequint.com/videos/news-videos/ho...   quint     -1      0   \n",
       "3  https://www.thequint.com/news/india/sohrabuddi...   quint     -1      0   \n",
       "4  https://www.thequint.com/videos/news-videos/la...   quint     -1      0   \n",
       "\n",
       "  sent1  Bias1  sent2  Bias2  \n",
       "0   neu     -1      0     -1  \n",
       "1   neu     -1      0     -1  \n",
       "2   neu     -1      0     -1  \n",
       "3   neu     -1      0     -1  \n",
       "4   neu     -1      0     -1  "
      ]
     },
     "execution_count": 130,
     "metadata": {},
     "output_type": "execute_result"
    }
   ],
   "source": [
    "df22 = pd.read_csv(\"Publications/Edit/DBS/QT_new.csv\")\n",
    "df22.head()"
   ]
  },
  {
   "cell_type": "markdown",
   "metadata": {},
   "source": [
    "Bias by vader."
   ]
  },
  {
   "cell_type": "code",
   "execution_count": 131,
   "metadata": {},
   "outputs": [
    {
     "data": {
      "image/png": "[encoded data removed]",
      "text/plain": [
       "<Figure size 432x288 with 1 Axes>"
      ]
     },
     "metadata": {},
     "output_type": "display_data"
    }
   ],
   "source": [
    "labels = 'Neutral', 'Left', 'Right'\n",
    "neu = len(df22[df22['Bias1'] == -1])\n",
    "left = len(df22[df22['Bias1'] == 0])\n",
    "right = len(df22[df22['Bias1'] == 1])\n",
    "sizes = [neu,left,right]\n",
    "colors = ['yellow', 'green','red' ]\n",
    "plt.pie(sizes,colors=colors,\n",
    "autopct='%1.1f%%', shadow=True, startangle=140)\n",
    "plt.axis('equal')\n",
    "plt.title('Quint DBSCAN and VADER')\n",
    "plt.legend(labels,loc='upper right')\n",
    "plt.savefig('Plots/DBS/QT_Bias1.png')\n",
    "plt.show()"
   ]
  },
  {
   "cell_type": "markdown",
   "metadata": {},
   "source": [
    "Bias by textblob."
   ]
  },
  {
   "cell_type": "code",
   "execution_count": 132,
   "metadata": {},
   "outputs": [
    {
     "data": {
      "image/png": "[encoded data removed]",
      "text/plain": [
       "<Figure size 432x288 with 1 Axes>"
      ]
     },
     "metadata": {},
     "output_type": "display_data"
    }
   ],
   "source": [
    "labels = 'Neutral', 'Left', 'Right'\n",
    "neu = len(df22[df22['Bias2'] == -1])\n",
    "left = len(df22[df22['Bias2'] == 0])\n",
    "right = len(df22[df22['Bias2'] == 1])\n",
    "sizes = [neu,left,right]\n",
    "colors = ['yellow', 'green','red' ]\n",
    "plt.pie(sizes,colors=colors,\n",
    "autopct='%1.1f%%', shadow=True, startangle=140)\n",
    "plt.axis('equal')\n",
    "plt.title('Quint DBSCAN and Textblob')\n",
    "plt.legend(labels,loc='upper right')\n",
    "plt.savefig('Plots/DBS/QT_Bias2.png')\n",
    "plt.show()"
   ]
  },
  {
   "cell_type": "markdown",
   "metadata": {},
   "source": [
    "## First Post. "
   ]
  },
  {
   "cell_type": "markdown",
   "metadata": {},
   "source": [
    "### KMeans data. "
   ]
  },
  {
   "cell_type": "code",
   "execution_count": 133,
   "metadata": {},
   "outputs": [
    {
     "data": {
      "text/html": [
       "<div>\n",
       "<style scoped>\n",
       "    .dataframe tbody tr th:only-of-type {\n",
       "        vertical-align: middle;\n",
       "    }\n",
       "\n",
       "    .dataframe tbody tr th {\n",
       "        vertical-align: top;\n",
       "    }\n",
       "\n",
       "    .dataframe thead th {\n",
       "        text-align: right;\n",
       "    }\n",
       "</style>\n",
       "<table border=\"1\" class=\"dataframe\">\n",
       "  <thead>\n",
       "    <tr style=\"text-align: right;\">\n",
       "      <th></th>\n",
       "      <th>author</th>\n",
       "      <th>content</th>\n",
       "      <th>date</th>\n",
       "      <th>tag</th>\n",
       "      <th>title</th>\n",
       "      <th>url</th>\n",
       "      <th>website</th>\n",
       "      <th>Label</th>\n",
       "      <th>Party</th>\n",
       "      <th>sent1</th>\n",
       "      <th>Bias1</th>\n",
       "      <th>sent2</th>\n",
       "      <th>Bias2</th>\n",
       "    </tr>\n",
       "  </thead>\n",
       "  <tbody>\n",
       "    <tr>\n",
       "      <th>0</th>\n",
       "      <td>Press Trust of India</td>\n",
       "      <td>Chief Minister Arvind Kejriwal on Wednesday or...</td>\n",
       "      <td>2018-11-29</td>\n",
       "      <td>AAP,Arvind Kejriwal,BJP,Delhi,Imran Hussain,Mo...</td>\n",
       "      <td>Arvind Kejriwal orders suspension of Delhi foo...</td>\n",
       "      <td>https://www.firstpost.com/politics/arvind-kejr...</td>\n",
       "      <td>firstpost</td>\n",
       "      <td>0</td>\n",
       "      <td>0</td>\n",
       "      <td>neu</td>\n",
       "      <td>-1</td>\n",
       "      <td>0</td>\n",
       "      <td>-1</td>\n",
       "    </tr>\n",
       "    <tr>\n",
       "      <th>1</th>\n",
       "      <td>Press Trust of India</td>\n",
       "      <td>Slamming the revision of GDP data under the U...</td>\n",
       "      <td>2018-11-29</td>\n",
       "      <td>Anand Sharma,Arun Jaitley,BJP,Congress,GDP,Nar...</td>\n",
       "      <td>P Chidambaram calls revision of GDP data 'bad ...</td>\n",
       "      <td>https://www.firstpost.com/politics/p-chidambar...</td>\n",
       "      <td>firstpost</td>\n",
       "      <td>7</td>\n",
       "      <td>1</td>\n",
       "      <td>neu</td>\n",
       "      <td>-1</td>\n",
       "      <td>0</td>\n",
       "      <td>-1</td>\n",
       "    </tr>\n",
       "    <tr>\n",
       "      <th>2</th>\n",
       "      <td>Press Trust of India</td>\n",
       "      <td>The HD Kumarawamy-led JD(S)-Congress ministry...</td>\n",
       "      <td>2018-11-29</td>\n",
       "      <td>Congress,Dinesh Gundu Rao,G Parameshwara,HD Ku...</td>\n",
       "      <td>Karnataka cabinet will be expanded before 10 D...</td>\n",
       "      <td>https://www.firstpost.com/politics/karnataka-c...</td>\n",
       "      <td>firstpost</td>\n",
       "      <td>7</td>\n",
       "      <td>1</td>\n",
       "      <td>neu</td>\n",
       "      <td>-1</td>\n",
       "      <td>0</td>\n",
       "      <td>-1</td>\n",
       "    </tr>\n",
       "    <tr>\n",
       "      <th>3</th>\n",
       "      <td>Press Trust of India</td>\n",
       "      <td>: All India Majlis-e-Ittehadul Muslimeen (AIMI...</td>\n",
       "      <td>2018-11-29</td>\n",
       "      <td>AIMIM,All India Majlis-E-Ittehadul Muslimeen,A...</td>\n",
       "      <td>After Maharashtra Assembly passes quota bill, ...</td>\n",
       "      <td>https://www.firstpost.com/politics/after-mahar...</td>\n",
       "      <td>firstpost</td>\n",
       "      <td>7</td>\n",
       "      <td>1</td>\n",
       "      <td>neu</td>\n",
       "      <td>-1</td>\n",
       "      <td>0</td>\n",
       "      <td>-1</td>\n",
       "    </tr>\n",
       "    <tr>\n",
       "      <th>4</th>\n",
       "      <td>Press Trust of India</td>\n",
       "      <td>: The Bharatiya Janata Party (BJP) Thursday co...</td>\n",
       "      <td>2018-11-29</td>\n",
       "      <td>Bharatiya Janata Party,BJP,Congress,Gorakhpur,...</td>\n",
       "      <td>Uttar Pradesh BJP chief takes jibe at Rahul Ga...</td>\n",
       "      <td>https://www.firstpost.com/politics/uttar-prade...</td>\n",
       "      <td>firstpost</td>\n",
       "      <td>13</td>\n",
       "      <td>0</td>\n",
       "      <td>neu</td>\n",
       "      <td>-1</td>\n",
       "      <td>0</td>\n",
       "      <td>-1</td>\n",
       "    </tr>\n",
       "  </tbody>\n",
       "</table>\n",
       "</div>"
      ],
      "text/plain": [
       "                 author                                            content  \\\n",
       "0  Press Trust of India  Chief Minister Arvind Kejriwal on Wednesday or...   \n",
       "1  Press Trust of India   Slamming the revision of GDP data under the U...   \n",
       "2  Press Trust of India   The HD Kumarawamy-led JD(S)-Congress ministry...   \n",
       "3  Press Trust of India  : All India Majlis-e-Ittehadul Muslimeen (AIMI...   \n",
       "4  Press Trust of India  : The Bharatiya Janata Party (BJP) Thursday co...   \n",
       "\n",
       "         date                                                tag  \\\n",
       "0  2018-11-29  AAP,Arvind Kejriwal,BJP,Delhi,Imran Hussain,Mo...   \n",
       "1  2018-11-29  Anand Sharma,Arun Jaitley,BJP,Congress,GDP,Nar...   \n",
       "2  2018-11-29  Congress,Dinesh Gundu Rao,G Parameshwara,HD Ku...   \n",
       "3  2018-11-29  AIMIM,All India Majlis-E-Ittehadul Muslimeen,A...   \n",
       "4  2018-11-29  Bharatiya Janata Party,BJP,Congress,Gorakhpur,...   \n",
       "\n",
       "                                               title  \\\n",
       "0  Arvind Kejriwal orders suspension of Delhi foo...   \n",
       "1  P Chidambaram calls revision of GDP data 'bad ...   \n",
       "2  Karnataka cabinet will be expanded before 10 D...   \n",
       "3  After Maharashtra Assembly passes quota bill, ...   \n",
       "4  Uttar Pradesh BJP chief takes jibe at Rahul Ga...   \n",
       "\n",
       "                                                 url    website  Label  Party  \\\n",
       "0  https://www.firstpost.com/politics/arvind-kejr...  firstpost      0      0   \n",
       "1  https://www.firstpost.com/politics/p-chidambar...  firstpost      7      1   \n",
       "2  https://www.firstpost.com/politics/karnataka-c...  firstpost      7      1   \n",
       "3  https://www.firstpost.com/politics/after-mahar...  firstpost      7      1   \n",
       "4  https://www.firstpost.com/politics/uttar-prade...  firstpost     13      0   \n",
       "\n",
       "  sent1  Bias1  sent2  Bias2  \n",
       "0   neu     -1      0     -1  \n",
       "1   neu     -1      0     -1  \n",
       "2   neu     -1      0     -1  \n",
       "3   neu     -1      0     -1  \n",
       "4   neu     -1      0     -1  "
      ]
     },
     "execution_count": 133,
     "metadata": {},
     "output_type": "execute_result"
    }
   ],
   "source": [
    "df3 = pd.read_csv(\"Publications/Edit/KMeans/FP_new.csv\")\n",
    "df3.head()"
   ]
  },
  {
   "cell_type": "markdown",
   "metadata": {},
   "source": [
    "Bias by vader."
   ]
  },
  {
   "cell_type": "code",
   "execution_count": 134,
   "metadata": {},
   "outputs": [
    {
     "data": {
      "image/png": "[encoded data removed]",
      "text/plain": [
       "<Figure size 432x288 with 1 Axes>"
      ]
     },
     "metadata": {},
     "output_type": "display_data"
    }
   ],
   "source": [
    "labels = 'Neutral', 'Left', 'Right'\n",
    "neu = len(df3[df3['Bias1'] == -1])\n",
    "left = len(df3[df3['Bias1'] == 0])\n",
    "right = len(df3[df3['Bias1'] == 1])\n",
    "sizes = [neu,left,right]\n",
    "colors = ['yellow', 'green','red' ]\n",
    "plt.pie(sizes,colors=colors,\n",
    "autopct='%1.1f%%', shadow=True, startangle=140)\n",
    "plt.axis('equal')\n",
    "plt.title('First Post KMeans and VADER')\n",
    "plt.legend(labels,loc='upper right')\n",
    "plt.savefig('Plots/KMeans/FP_Bias1.png')\n",
    "plt.show()"
   ]
  },
  {
   "cell_type": "markdown",
   "metadata": {},
   "source": [
    "Bias by textblob."
   ]
  },
  {
   "cell_type": "code",
   "execution_count": 135,
   "metadata": {},
   "outputs": [
    {
     "data": {
      "image/png": "[encoded data removed]",
      "text/plain": [
       "<Figure size 432x288 with 1 Axes>"
      ]
     },
     "metadata": {},
     "output_type": "display_data"
    }
   ],
   "source": [
    "labels = 'Neutral', 'Left', 'Right'\n",
    "neu = len(df3[df3['Bias2'] == -1])\n",
    "left = len(df3[df3['Bias2'] == 0])\n",
    "right = len(df3[df3['Bias2'] == 1])\n",
    "sizes = [neu,left,right]\n",
    "colors = ['yellow', 'green','red' ]\n",
    "plt.pie(sizes,colors=colors,\n",
    "autopct='%1.1f%%', shadow=True, startangle=140)\n",
    "plt.axis('equal')\n",
    "plt.title('First Post KMeans and Textblob')\n",
    "plt.legend(labels,loc='upper right')\n",
    "plt.savefig('Plots/KMeans/FP_Bias2.png')\n",
    "plt.show()"
   ]
  },
  {
   "cell_type": "markdown",
   "metadata": {},
   "source": [
    "### DBScan data."
   ]
  },
  {
   "cell_type": "code",
   "execution_count": 136,
   "metadata": {},
   "outputs": [
    {
     "data": {
      "text/html": [
       "<div>\n",
       "<style scoped>\n",
       "    .dataframe tbody tr th:only-of-type {\n",
       "        vertical-align: middle;\n",
       "    }\n",
       "\n",
       "    .dataframe tbody tr th {\n",
       "        vertical-align: top;\n",
       "    }\n",
       "\n",
       "    .dataframe thead th {\n",
       "        text-align: right;\n",
       "    }\n",
       "</style>\n",
       "<table border=\"1\" class=\"dataframe\">\n",
       "  <thead>\n",
       "    <tr style=\"text-align: right;\">\n",
       "      <th></th>\n",
       "      <th>author</th>\n",
       "      <th>content</th>\n",
       "      <th>date</th>\n",
       "      <th>tag</th>\n",
       "      <th>title</th>\n",
       "      <th>url</th>\n",
       "      <th>website</th>\n",
       "      <th>Label</th>\n",
       "      <th>Party</th>\n",
       "      <th>sent1</th>\n",
       "      <th>Bias1</th>\n",
       "      <th>sent2</th>\n",
       "      <th>Bias2</th>\n",
       "    </tr>\n",
       "  </thead>\n",
       "  <tbody>\n",
       "    <tr>\n",
       "      <th>0</th>\n",
       "      <td>Press Trust of India</td>\n",
       "      <td>Slamming the revision of GDP data under the U...</td>\n",
       "      <td>2018-11-29</td>\n",
       "      <td>Anand Sharma,Arun Jaitley,BJP,Congress,GDP,Nar...</td>\n",
       "      <td>P Chidambaram calls revision of GDP data 'bad ...</td>\n",
       "      <td>https://www.firstpost.com/politics/p-chidambar...</td>\n",
       "      <td>firstpost</td>\n",
       "      <td>-1</td>\n",
       "      <td>0</td>\n",
       "      <td>neu</td>\n",
       "      <td>-1</td>\n",
       "      <td>0</td>\n",
       "      <td>-1</td>\n",
       "    </tr>\n",
       "    <tr>\n",
       "      <th>1</th>\n",
       "      <td>Press Trust of India</td>\n",
       "      <td>The HD Kumarawamy-led JD(S)-Congress ministry...</td>\n",
       "      <td>2018-11-29</td>\n",
       "      <td>Congress,Dinesh Gundu Rao,G Parameshwara,HD Ku...</td>\n",
       "      <td>Karnataka cabinet will be expanded before 10 D...</td>\n",
       "      <td>https://www.firstpost.com/politics/karnataka-c...</td>\n",
       "      <td>firstpost</td>\n",
       "      <td>-1</td>\n",
       "      <td>0</td>\n",
       "      <td>neu</td>\n",
       "      <td>-1</td>\n",
       "      <td>0</td>\n",
       "      <td>-1</td>\n",
       "    </tr>\n",
       "    <tr>\n",
       "      <th>2</th>\n",
       "      <td>Press Trust of India</td>\n",
       "      <td>: All India Majlis-e-Ittehadul Muslimeen (AIMI...</td>\n",
       "      <td>2018-11-29</td>\n",
       "      <td>AIMIM,All India Majlis-E-Ittehadul Muslimeen,A...</td>\n",
       "      <td>After Maharashtra Assembly passes quota bill, ...</td>\n",
       "      <td>https://www.firstpost.com/politics/after-mahar...</td>\n",
       "      <td>firstpost</td>\n",
       "      <td>-1</td>\n",
       "      <td>0</td>\n",
       "      <td>neu</td>\n",
       "      <td>-1</td>\n",
       "      <td>0</td>\n",
       "      <td>-1</td>\n",
       "    </tr>\n",
       "    <tr>\n",
       "      <th>3</th>\n",
       "      <td>Press Trust of India</td>\n",
       "      <td>: The Bharatiya Janata Party (BJP) Thursday co...</td>\n",
       "      <td>2018-11-29</td>\n",
       "      <td>Bharatiya Janata Party,BJP,Congress,Gorakhpur,...</td>\n",
       "      <td>Uttar Pradesh BJP chief takes jibe at Rahul Ga...</td>\n",
       "      <td>https://www.firstpost.com/politics/uttar-prade...</td>\n",
       "      <td>firstpost</td>\n",
       "      <td>-1</td>\n",
       "      <td>0</td>\n",
       "      <td>neu</td>\n",
       "      <td>-1</td>\n",
       "      <td>0</td>\n",
       "      <td>-1</td>\n",
       "    </tr>\n",
       "    <tr>\n",
       "      <th>4</th>\n",
       "      <td>Indo-Asian News Service</td>\n",
       "      <td>Calling Chief Minister K Chandrasekhar Rao \"K...</td>\n",
       "      <td>2018-11-29</td>\n",
       "      <td>Assembly Election 2018,Bhupalpally,BJP-RSS,Con...</td>\n",
       "      <td>Rahul Gandhi calls KCR 'Khao Commission Rao', ...</td>\n",
       "      <td>https://www.firstpost.com/politics/rahul-gandh...</td>\n",
       "      <td>firstpost</td>\n",
       "      <td>-1</td>\n",
       "      <td>0</td>\n",
       "      <td>neu</td>\n",
       "      <td>-1</td>\n",
       "      <td>0</td>\n",
       "      <td>-1</td>\n",
       "    </tr>\n",
       "  </tbody>\n",
       "</table>\n",
       "</div>"
      ],
      "text/plain": [
       "                    author                                            content  \\\n",
       "0     Press Trust of India   Slamming the revision of GDP data under the U...   \n",
       "1     Press Trust of India   The HD Kumarawamy-led JD(S)-Congress ministry...   \n",
       "2     Press Trust of India  : All India Majlis-e-Ittehadul Muslimeen (AIMI...   \n",
       "3     Press Trust of India  : The Bharatiya Janata Party (BJP) Thursday co...   \n",
       "4  Indo-Asian News Service   Calling Chief Minister K Chandrasekhar Rao \"K...   \n",
       "\n",
       "         date                                                tag  \\\n",
       "0  2018-11-29  Anand Sharma,Arun Jaitley,BJP,Congress,GDP,Nar...   \n",
       "1  2018-11-29  Congress,Dinesh Gundu Rao,G Parameshwara,HD Ku...   \n",
       "2  2018-11-29  AIMIM,All India Majlis-E-Ittehadul Muslimeen,A...   \n",
       "3  2018-11-29  Bharatiya Janata Party,BJP,Congress,Gorakhpur,...   \n",
       "4  2018-11-29  Assembly Election 2018,Bhupalpally,BJP-RSS,Con...   \n",
       "\n",
       "                                               title  \\\n",
       "0  P Chidambaram calls revision of GDP data 'bad ...   \n",
       "1  Karnataka cabinet will be expanded before 10 D...   \n",
       "2  After Maharashtra Assembly passes quota bill, ...   \n",
       "3  Uttar Pradesh BJP chief takes jibe at Rahul Ga...   \n",
       "4  Rahul Gandhi calls KCR 'Khao Commission Rao', ...   \n",
       "\n",
       "                                                 url    website  Label  Party  \\\n",
       "0  https://www.firstpost.com/politics/p-chidambar...  firstpost     -1      0   \n",
       "1  https://www.firstpost.com/politics/karnataka-c...  firstpost     -1      0   \n",
       "2  https://www.firstpost.com/politics/after-mahar...  firstpost     -1      0   \n",
       "3  https://www.firstpost.com/politics/uttar-prade...  firstpost     -1      0   \n",
       "4  https://www.firstpost.com/politics/rahul-gandh...  firstpost     -1      0   \n",
       "\n",
       "  sent1  Bias1  sent2  Bias2  \n",
       "0   neu     -1      0     -1  \n",
       "1   neu     -1      0     -1  \n",
       "2   neu     -1      0     -1  \n",
       "3   neu     -1      0     -1  \n",
       "4   neu     -1      0     -1  "
      ]
     },
     "execution_count": 136,
     "metadata": {},
     "output_type": "execute_result"
    }
   ],
   "source": [
    "df33 = pd.read_csv(\"Publications/Edit/DBS/FP_new.csv\")\n",
    "df33.head()"
   ]
  },
  {
   "cell_type": "markdown",
   "metadata": {},
   "source": [
    "Bias by vader."
   ]
  },
  {
   "cell_type": "code",
   "execution_count": 138,
   "metadata": {},
   "outputs": [
    {
     "data": {
      "image/png": "[encoded data removed]",
      "text/plain": [
       "<Figure size 432x288 with 1 Axes>"
      ]
     },
     "metadata": {},
     "output_type": "display_data"
    }
   ],
   "source": [
    "labels = 'Neutral', 'Left', 'Right'\n",
    "neu = len(df33[df33['Bias1'] == -1])\n",
    "left = len(df33[df33['Bias1'] == 0])\n",
    "right = len(df33[df33['Bias1'] == 1])\n",
    "sizes = [neu,left,right]\n",
    "colors = ['yellow', 'green','red' ]\n",
    "plt.pie(sizes,colors=colors,\n",
    "autopct='%1.1f%%', shadow=True, startangle=140)\n",
    "plt.axis('equal')\n",
    "plt.title('First Post DBSCAN and VADER')\n",
    "plt.legend(labels,loc='upper right')\n",
    "plt.savefig('Plots/DBS/FP_Bias1.png')\n",
    "plt.show()"
   ]
  },
  {
   "cell_type": "markdown",
   "metadata": {},
   "source": [
    "Bias by textblob."
   ]
  },
  {
   "cell_type": "code",
   "execution_count": 139,
   "metadata": {},
   "outputs": [
    {
     "data": {
      "image/png": "[encoded data removed]",
      "text/plain": [
       "<Figure size 432x288 with 1 Axes>"
      ]
     },
     "metadata": {},
     "output_type": "display_data"
    }
   ],
   "source": [
    "labels = 'Neutral', 'Left', 'Right'\n",
    "neu = len(df33[df33['Bias2'] == -1])\n",
    "left = len(df33[df33['Bias2'] == 0])\n",
    "right = len(df33[df33['Bias2'] == 1])\n",
    "sizes = [neu,left,right]\n",
    "colors = ['yellow', 'green','red' ]\n",
    "plt.pie(sizes,colors=colors,\n",
    "autopct='%1.1f%%', shadow=True, startangle=140)\n",
    "plt.axis('equal')\n",
    "plt.title('First Post DBSCAN and Textblob')\n",
    "plt.legend(labels,loc='upper right')\n",
    "plt.savefig('Plots/DBS/FP_Bias2.png')\n",
    "plt.show()"
   ]
  }
 ],
 "metadata": {
  "kernelspec": {
   "display_name": "Python 3",
   "language": "python",
   "name": "python3"
  },
  "language_info": {
   "codemirror_mode": {
    "name": "ipython",
    "version": 3
   },
   "file_extension": ".py",
   "mimetype": "text/x-python",
   "name": "python",
   "nbconvert_exporter": "python",
   "pygments_lexer": "ipython3",
   "version": "3.8.5"
  }
 },
 "nbformat": 4,
 "nbformat_minor": 2
}
