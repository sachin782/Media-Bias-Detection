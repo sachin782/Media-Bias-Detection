{
 "cells": [
  {
   "cell_type": "code",
   "execution_count": 1,
   "metadata": {},
   "outputs": [],
   "source": [
    "import numpy as numpy\n",
    "import pandas as pd"
   ]
  },
  {
   "cell_type": "code",
   "execution_count": 47,
   "metadata": {},
   "outputs": [
    {
     "data": {
      "text/html": [
       "<div>\n",
       "<style scoped>\n",
       "    .dataframe tbody tr th:only-of-type {\n",
       "        vertical-align: middle;\n",
       "    }\n",
       "\n",
       "    .dataframe tbody tr th {\n",
       "        vertical-align: top;\n",
       "    }\n",
       "\n",
       "    .dataframe thead th {\n",
       "        text-align: right;\n",
       "    }\n",
       "</style>\n",
       "<table border=\"1\" class=\"dataframe\">\n",
       "  <thead>\n",
       "    <tr style=\"text-align: right;\">\n",
       "      <th></th>\n",
       "      <th>publish_date</th>\n",
       "      <th>headline_category</th>\n",
       "      <th>headline_text</th>\n",
       "      <th>Label</th>\n",
       "      <th>Party</th>\n",
       "      <th>sent1</th>\n",
       "    </tr>\n",
       "  </thead>\n",
       "  <tbody>\n",
       "    <tr>\n",
       "      <th>0</th>\n",
       "      <td>20120624</td>\n",
       "      <td>india</td>\n",
       "      <td>NCPCR seeks explanation from Haryana govt</td>\n",
       "      <td>3</td>\n",
       "      <td>1</td>\n",
       "      <td>neu</td>\n",
       "    </tr>\n",
       "    <tr>\n",
       "      <th>1</th>\n",
       "      <td>20170417</td>\n",
       "      <td>city.indore</td>\n",
       "      <td>HC on alleged Simhastha irregularities: Take i...</td>\n",
       "      <td>0</td>\n",
       "      <td>0</td>\n",
       "      <td>neu</td>\n",
       "    </tr>\n",
       "    <tr>\n",
       "      <th>2</th>\n",
       "      <td>20181014</td>\n",
       "      <td>city.bhopal</td>\n",
       "      <td>Rahul to visit Datia; Gwalior from Monday</td>\n",
       "      <td>0</td>\n",
       "      <td>0</td>\n",
       "      <td>neu</td>\n",
       "    </tr>\n",
       "    <tr>\n",
       "      <th>3</th>\n",
       "      <td>20170920</td>\n",
       "      <td>sports.football</td>\n",
       "      <td>Premier Futsal: Bengaluru Royals rout Mumbai W...</td>\n",
       "      <td>13</td>\n",
       "      <td>1</td>\n",
       "      <td>neu</td>\n",
       "    </tr>\n",
       "    <tr>\n",
       "      <th>4</th>\n",
       "      <td>20090824</td>\n",
       "      <td>city.mysuru</td>\n",
       "      <td>Assembly session will focus on people's proble...</td>\n",
       "      <td>3</td>\n",
       "      <td>1</td>\n",
       "      <td>neu</td>\n",
       "    </tr>\n",
       "  </tbody>\n",
       "</table>\n",
       "</div>"
      ],
      "text/plain": [
       "   publish_date headline_category  \\\n",
       "0      20120624             india   \n",
       "1      20170417       city.indore   \n",
       "2      20181014       city.bhopal   \n",
       "3      20170920   sports.football   \n",
       "4      20090824       city.mysuru   \n",
       "\n",
       "                                       headline_text  Label  Party sent1  \n",
       "0          NCPCR seeks explanation from Haryana govt      3      1   neu  \n",
       "1  HC on alleged Simhastha irregularities: Take i...      0      0   neu  \n",
       "2          Rahul to visit Datia; Gwalior from Monday      0      0   neu  \n",
       "3  Premier Futsal: Bengaluru Royals rout Mumbai W...     13      1   neu  \n",
       "4  Assembly session will focus on people's proble...      3      1   neu  "
      ]
     },
     "execution_count": 47,
     "metadata": {},
     "output_type": "execute_result"
    }
   ],
   "source": [
    "df = pd.read_csv('TOI_new.csv')\n",
    "df.head()"
   ]
  },
  {
   "cell_type": "code",
   "execution_count": 52,
   "metadata": {},
   "outputs": [
    {
     "data": {
      "text/plain": [
       " 1    664\n",
       " 0    323\n",
       "-1     12\n",
       "Name: Party, dtype: int64"
      ]
     },
     "execution_count": 52,
     "metadata": {},
     "output_type": "execute_result"
    }
   ],
   "source": [
    "df['Party'].value_counts()"
   ]
  },
  {
   "cell_type": "code",
   "execution_count": null,
   "metadata": {},
   "outputs": [],
   "source": []
  }
 ],
 "metadata": {
  "kernelspec": {
   "display_name": "Python 3",
   "language": "python",
   "name": "python3"
  },
  "language_info": {
   "codemirror_mode": {
    "name": "ipython",
    "version": 3
   },
   "file_extension": ".py",
   "mimetype": "text/x-python",
   "name": "python",
   "nbconvert_exporter": "python",
   "pygments_lexer": "ipython3",
   "version": "3.8.5"
  }
 },
 "nbformat": 4,
 "nbformat_minor": 4
}
